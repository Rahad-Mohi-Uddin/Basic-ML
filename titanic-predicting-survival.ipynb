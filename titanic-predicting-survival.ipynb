{
 "cells": [
  {
   "cell_type": "code",
   "execution_count": 1,
   "id": "2adf614f",
   "metadata": {
    "_cell_guid": "b1076dfc-b9ad-4769-8c92-a6c4dae69d19",
    "_uuid": "8f2839f25d086af736a60e9eeb907d3b93b6e0e5",
    "execution": {
     "iopub.execute_input": "2022-10-16T10:27:57.856967Z",
     "iopub.status.busy": "2022-10-16T10:27:57.856472Z",
     "iopub.status.idle": "2022-10-16T10:27:57.869500Z",
     "shell.execute_reply": "2022-10-16T10:27:57.868276Z"
    },
    "papermill": {
     "duration": 0.024606,
     "end_time": "2022-10-16T10:27:57.872355",
     "exception": false,
     "start_time": "2022-10-16T10:27:57.847749",
     "status": "completed"
    },
    "tags": []
   },
   "outputs": [
    {
     "name": "stdout",
     "output_type": "stream",
     "text": [
      "/kaggle/input/titanic/train.csv\n",
      "/kaggle/input/titanic/test.csv\n",
      "/kaggle/input/titanic/gender_submission.csv\n"
     ]
    }
   ],
   "source": [
    "# This Python 3 environment comes with many helpful analytics libraries installed\n",
    "# It is defined by the kaggle/python Docker image: https://github.com/kaggle/docker-python\n",
    "# For example, here's several helpful packages to load\n",
    "\n",
    "import numpy as np # linear algebra\n",
    "import pandas as pd # data processing, CSV file I/O (e.g. pd.read_csv)\n",
    "\n",
    "# Input data files are available in the read-only \"../input/\" directory\n",
    "# For example, running this (by clicking run or pressing Shift+Enter) will list all files under the input directory\n",
    "\n",
    "import os\n",
    "for dirname, _, filenames in os.walk('/kaggle/input'):\n",
    "    for filename in filenames:\n",
    "        print(os.path.join(dirname, filename))\n",
    "\n",
    "# You can write up to 20GB to the current directory (/kaggle/working/) that gets preserved as output when you create a version using \"Save & Run All\" \n",
    "# You can also write temporary files to /kaggle/temp/, but they won't be saved outside of the current session"
   ]
  },
  {
   "cell_type": "code",
   "execution_count": 2,
   "id": "95f00e80",
   "metadata": {
    "execution": {
     "iopub.execute_input": "2022-10-16T10:27:57.886651Z",
     "iopub.status.busy": "2022-10-16T10:27:57.885641Z",
     "iopub.status.idle": "2022-10-16T10:27:59.904060Z",
     "shell.execute_reply": "2022-10-16T10:27:59.902907Z"
    },
    "papermill": {
     "duration": 2.02832,
     "end_time": "2022-10-16T10:27:59.907017",
     "exception": false,
     "start_time": "2022-10-16T10:27:57.878697",
     "status": "completed"
    },
    "tags": []
   },
   "outputs": [],
   "source": [
    "import pandas as pd \n",
    "import numpy as np \n",
    "\n",
    "%matplotlib inline\n",
    "import matplotlib.pyplot as plt \n",
    "import seaborn as sns\n",
    "\n",
    "import statsmodels.api as sm\n",
    "from sklearn.preprocessing import LabelEncoder\n",
    "from sklearn.model_selection import train_test_split\n",
    "from sklearn.linear_model import LinearRegression\n",
    "from sklearn.compose import make_column_transformer\n",
    "from sklearn.metrics import mean_squared_error, r2_score"
   ]
  },
  {
   "cell_type": "code",
   "execution_count": 3,
   "id": "ee52dfa4",
   "metadata": {
    "execution": {
     "iopub.execute_input": "2022-10-16T10:27:59.919850Z",
     "iopub.status.busy": "2022-10-16T10:27:59.919446Z",
     "iopub.status.idle": "2022-10-16T10:27:59.946237Z",
     "shell.execute_reply": "2022-10-16T10:27:59.945194Z"
    },
    "papermill": {
     "duration": 0.036114,
     "end_time": "2022-10-16T10:27:59.948762",
     "exception": false,
     "start_time": "2022-10-16T10:27:59.912648",
     "status": "completed"
    },
    "tags": []
   },
   "outputs": [],
   "source": [
    "df_train=pd.read_csv('../input/titanic/train.csv')\n",
    "df_test=pd.read_csv('../input/titanic/test.csv')"
   ]
  },
  {
   "cell_type": "code",
   "execution_count": 4,
   "id": "861776c5",
   "metadata": {
    "execution": {
     "iopub.execute_input": "2022-10-16T10:27:59.962294Z",
     "iopub.status.busy": "2022-10-16T10:27:59.961351Z",
     "iopub.status.idle": "2022-10-16T10:27:59.984205Z",
     "shell.execute_reply": "2022-10-16T10:27:59.983408Z"
    },
    "papermill": {
     "duration": 0.031712,
     "end_time": "2022-10-16T10:27:59.986321",
     "exception": false,
     "start_time": "2022-10-16T10:27:59.954609",
     "status": "completed"
    },
    "tags": []
   },
   "outputs": [
    {
     "data": {
      "text/html": [
       "<div>\n",
       "<style scoped>\n",
       "    .dataframe tbody tr th:only-of-type {\n",
       "        vertical-align: middle;\n",
       "    }\n",
       "\n",
       "    .dataframe tbody tr th {\n",
       "        vertical-align: top;\n",
       "    }\n",
       "\n",
       "    .dataframe thead th {\n",
       "        text-align: right;\n",
       "    }\n",
       "</style>\n",
       "<table border=\"1\" class=\"dataframe\">\n",
       "  <thead>\n",
       "    <tr style=\"text-align: right;\">\n",
       "      <th></th>\n",
       "      <th>PassengerId</th>\n",
       "      <th>Survived</th>\n",
       "      <th>Pclass</th>\n",
       "      <th>Name</th>\n",
       "      <th>Sex</th>\n",
       "      <th>Age</th>\n",
       "      <th>SibSp</th>\n",
       "      <th>Parch</th>\n",
       "      <th>Ticket</th>\n",
       "      <th>Fare</th>\n",
       "      <th>Cabin</th>\n",
       "      <th>Embarked</th>\n",
       "    </tr>\n",
       "  </thead>\n",
       "  <tbody>\n",
       "    <tr>\n",
       "      <th>0</th>\n",
       "      <td>1</td>\n",
       "      <td>0</td>\n",
       "      <td>3</td>\n",
       "      <td>Braund, Mr. Owen Harris</td>\n",
       "      <td>male</td>\n",
       "      <td>22.0</td>\n",
       "      <td>1</td>\n",
       "      <td>0</td>\n",
       "      <td>A/5 21171</td>\n",
       "      <td>7.2500</td>\n",
       "      <td>NaN</td>\n",
       "      <td>S</td>\n",
       "    </tr>\n",
       "    <tr>\n",
       "      <th>1</th>\n",
       "      <td>2</td>\n",
       "      <td>1</td>\n",
       "      <td>1</td>\n",
       "      <td>Cumings, Mrs. John Bradley (Florence Briggs Th...</td>\n",
       "      <td>female</td>\n",
       "      <td>38.0</td>\n",
       "      <td>1</td>\n",
       "      <td>0</td>\n",
       "      <td>PC 17599</td>\n",
       "      <td>71.2833</td>\n",
       "      <td>C85</td>\n",
       "      <td>C</td>\n",
       "    </tr>\n",
       "    <tr>\n",
       "      <th>2</th>\n",
       "      <td>3</td>\n",
       "      <td>1</td>\n",
       "      <td>3</td>\n",
       "      <td>Heikkinen, Miss. Laina</td>\n",
       "      <td>female</td>\n",
       "      <td>26.0</td>\n",
       "      <td>0</td>\n",
       "      <td>0</td>\n",
       "      <td>STON/O2. 3101282</td>\n",
       "      <td>7.9250</td>\n",
       "      <td>NaN</td>\n",
       "      <td>S</td>\n",
       "    </tr>\n",
       "    <tr>\n",
       "      <th>3</th>\n",
       "      <td>4</td>\n",
       "      <td>1</td>\n",
       "      <td>1</td>\n",
       "      <td>Futrelle, Mrs. Jacques Heath (Lily May Peel)</td>\n",
       "      <td>female</td>\n",
       "      <td>35.0</td>\n",
       "      <td>1</td>\n",
       "      <td>0</td>\n",
       "      <td>113803</td>\n",
       "      <td>53.1000</td>\n",
       "      <td>C123</td>\n",
       "      <td>S</td>\n",
       "    </tr>\n",
       "    <tr>\n",
       "      <th>4</th>\n",
       "      <td>5</td>\n",
       "      <td>0</td>\n",
       "      <td>3</td>\n",
       "      <td>Allen, Mr. William Henry</td>\n",
       "      <td>male</td>\n",
       "      <td>35.0</td>\n",
       "      <td>0</td>\n",
       "      <td>0</td>\n",
       "      <td>373450</td>\n",
       "      <td>8.0500</td>\n",
       "      <td>NaN</td>\n",
       "      <td>S</td>\n",
       "    </tr>\n",
       "  </tbody>\n",
       "</table>\n",
       "</div>"
      ],
      "text/plain": [
       "   PassengerId  Survived  Pclass  \\\n",
       "0            1         0       3   \n",
       "1            2         1       1   \n",
       "2            3         1       3   \n",
       "3            4         1       1   \n",
       "4            5         0       3   \n",
       "\n",
       "                                                Name     Sex   Age  SibSp  \\\n",
       "0                            Braund, Mr. Owen Harris    male  22.0      1   \n",
       "1  Cumings, Mrs. John Bradley (Florence Briggs Th...  female  38.0      1   \n",
       "2                             Heikkinen, Miss. Laina  female  26.0      0   \n",
       "3       Futrelle, Mrs. Jacques Heath (Lily May Peel)  female  35.0      1   \n",
       "4                           Allen, Mr. William Henry    male  35.0      0   \n",
       "\n",
       "   Parch            Ticket     Fare Cabin Embarked  \n",
       "0      0         A/5 21171   7.2500   NaN        S  \n",
       "1      0          PC 17599  71.2833   C85        C  \n",
       "2      0  STON/O2. 3101282   7.9250   NaN        S  \n",
       "3      0            113803  53.1000  C123        S  \n",
       "4      0            373450   8.0500   NaN        S  "
      ]
     },
     "execution_count": 4,
     "metadata": {},
     "output_type": "execute_result"
    }
   ],
   "source": [
    "df_train.head()"
   ]
  },
  {
   "cell_type": "code",
   "execution_count": 5,
   "id": "c29d966f",
   "metadata": {
    "execution": {
     "iopub.execute_input": "2022-10-16T10:27:59.999991Z",
     "iopub.status.busy": "2022-10-16T10:27:59.999390Z",
     "iopub.status.idle": "2022-10-16T10:28:00.044474Z",
     "shell.execute_reply": "2022-10-16T10:28:00.043518Z"
    },
    "papermill": {
     "duration": 0.054444,
     "end_time": "2022-10-16T10:28:00.046868",
     "exception": false,
     "start_time": "2022-10-16T10:27:59.992424",
     "status": "completed"
    },
    "tags": []
   },
   "outputs": [
    {
     "data": {
      "text/html": [
       "<div>\n",
       "<style scoped>\n",
       "    .dataframe tbody tr th:only-of-type {\n",
       "        vertical-align: middle;\n",
       "    }\n",
       "\n",
       "    .dataframe tbody tr th {\n",
       "        vertical-align: top;\n",
       "    }\n",
       "\n",
       "    .dataframe thead th {\n",
       "        text-align: right;\n",
       "    }\n",
       "</style>\n",
       "<table border=\"1\" class=\"dataframe\">\n",
       "  <thead>\n",
       "    <tr style=\"text-align: right;\">\n",
       "      <th></th>\n",
       "      <th>PassengerId</th>\n",
       "      <th>Survived</th>\n",
       "      <th>Pclass</th>\n",
       "      <th>Age</th>\n",
       "      <th>SibSp</th>\n",
       "      <th>Parch</th>\n",
       "      <th>Fare</th>\n",
       "    </tr>\n",
       "  </thead>\n",
       "  <tbody>\n",
       "    <tr>\n",
       "      <th>count</th>\n",
       "      <td>891.000000</td>\n",
       "      <td>891.000000</td>\n",
       "      <td>891.000000</td>\n",
       "      <td>714.000000</td>\n",
       "      <td>891.000000</td>\n",
       "      <td>891.000000</td>\n",
       "      <td>891.000000</td>\n",
       "    </tr>\n",
       "    <tr>\n",
       "      <th>mean</th>\n",
       "      <td>446.000000</td>\n",
       "      <td>0.383838</td>\n",
       "      <td>2.308642</td>\n",
       "      <td>29.699118</td>\n",
       "      <td>0.523008</td>\n",
       "      <td>0.381594</td>\n",
       "      <td>32.204208</td>\n",
       "    </tr>\n",
       "    <tr>\n",
       "      <th>std</th>\n",
       "      <td>257.353842</td>\n",
       "      <td>0.486592</td>\n",
       "      <td>0.836071</td>\n",
       "      <td>14.526497</td>\n",
       "      <td>1.102743</td>\n",
       "      <td>0.806057</td>\n",
       "      <td>49.693429</td>\n",
       "    </tr>\n",
       "    <tr>\n",
       "      <th>min</th>\n",
       "      <td>1.000000</td>\n",
       "      <td>0.000000</td>\n",
       "      <td>1.000000</td>\n",
       "      <td>0.420000</td>\n",
       "      <td>0.000000</td>\n",
       "      <td>0.000000</td>\n",
       "      <td>0.000000</td>\n",
       "    </tr>\n",
       "    <tr>\n",
       "      <th>25%</th>\n",
       "      <td>223.500000</td>\n",
       "      <td>0.000000</td>\n",
       "      <td>2.000000</td>\n",
       "      <td>20.125000</td>\n",
       "      <td>0.000000</td>\n",
       "      <td>0.000000</td>\n",
       "      <td>7.910400</td>\n",
       "    </tr>\n",
       "    <tr>\n",
       "      <th>50%</th>\n",
       "      <td>446.000000</td>\n",
       "      <td>0.000000</td>\n",
       "      <td>3.000000</td>\n",
       "      <td>28.000000</td>\n",
       "      <td>0.000000</td>\n",
       "      <td>0.000000</td>\n",
       "      <td>14.454200</td>\n",
       "    </tr>\n",
       "    <tr>\n",
       "      <th>75%</th>\n",
       "      <td>668.500000</td>\n",
       "      <td>1.000000</td>\n",
       "      <td>3.000000</td>\n",
       "      <td>38.000000</td>\n",
       "      <td>1.000000</td>\n",
       "      <td>0.000000</td>\n",
       "      <td>31.000000</td>\n",
       "    </tr>\n",
       "    <tr>\n",
       "      <th>max</th>\n",
       "      <td>891.000000</td>\n",
       "      <td>1.000000</td>\n",
       "      <td>3.000000</td>\n",
       "      <td>80.000000</td>\n",
       "      <td>8.000000</td>\n",
       "      <td>6.000000</td>\n",
       "      <td>512.329200</td>\n",
       "    </tr>\n",
       "  </tbody>\n",
       "</table>\n",
       "</div>"
      ],
      "text/plain": [
       "       PassengerId    Survived      Pclass         Age       SibSp  \\\n",
       "count   891.000000  891.000000  891.000000  714.000000  891.000000   \n",
       "mean    446.000000    0.383838    2.308642   29.699118    0.523008   \n",
       "std     257.353842    0.486592    0.836071   14.526497    1.102743   \n",
       "min       1.000000    0.000000    1.000000    0.420000    0.000000   \n",
       "25%     223.500000    0.000000    2.000000   20.125000    0.000000   \n",
       "50%     446.000000    0.000000    3.000000   28.000000    0.000000   \n",
       "75%     668.500000    1.000000    3.000000   38.000000    1.000000   \n",
       "max     891.000000    1.000000    3.000000   80.000000    8.000000   \n",
       "\n",
       "            Parch        Fare  \n",
       "count  891.000000  891.000000  \n",
       "mean     0.381594   32.204208  \n",
       "std      0.806057   49.693429  \n",
       "min      0.000000    0.000000  \n",
       "25%      0.000000    7.910400  \n",
       "50%      0.000000   14.454200  \n",
       "75%      0.000000   31.000000  \n",
       "max      6.000000  512.329200  "
      ]
     },
     "execution_count": 5,
     "metadata": {},
     "output_type": "execute_result"
    }
   ],
   "source": [
    "df_train.describe()"
   ]
  },
  {
   "cell_type": "code",
   "execution_count": 6,
   "id": "52a2d544",
   "metadata": {
    "execution": {
     "iopub.execute_input": "2022-10-16T10:28:00.061856Z",
     "iopub.status.busy": "2022-10-16T10:28:00.060744Z",
     "iopub.status.idle": "2022-10-16T10:28:00.078703Z",
     "shell.execute_reply": "2022-10-16T10:28:00.076847Z"
    },
    "papermill": {
     "duration": 0.028209,
     "end_time": "2022-10-16T10:28:00.081342",
     "exception": false,
     "start_time": "2022-10-16T10:28:00.053133",
     "status": "completed"
    },
    "tags": []
   },
   "outputs": [
    {
     "name": "stdout",
     "output_type": "stream",
     "text": [
      "<class 'pandas.core.frame.DataFrame'>\n",
      "RangeIndex: 891 entries, 0 to 890\n",
      "Data columns (total 12 columns):\n",
      " #   Column       Non-Null Count  Dtype  \n",
      "---  ------       --------------  -----  \n",
      " 0   PassengerId  891 non-null    int64  \n",
      " 1   Survived     891 non-null    int64  \n",
      " 2   Pclass       891 non-null    int64  \n",
      " 3   Name         891 non-null    object \n",
      " 4   Sex          891 non-null    object \n",
      " 5   Age          714 non-null    float64\n",
      " 6   SibSp        891 non-null    int64  \n",
      " 7   Parch        891 non-null    int64  \n",
      " 8   Ticket       891 non-null    object \n",
      " 9   Fare         891 non-null    float64\n",
      " 10  Cabin        204 non-null    object \n",
      " 11  Embarked     889 non-null    object \n",
      "dtypes: float64(2), int64(5), object(5)\n",
      "memory usage: 83.7+ KB\n"
     ]
    }
   ],
   "source": [
    "df_train.info()"
   ]
  },
  {
   "cell_type": "markdown",
   "id": "47b4c90e",
   "metadata": {
    "papermill": {
     "duration": 0.005837,
     "end_time": "2022-10-16T10:28:00.093498",
     "exception": false,
     "start_time": "2022-10-16T10:28:00.087661",
     "status": "completed"
    },
    "tags": []
   },
   "source": [
    "#### Null value treatment & preprocessing"
   ]
  },
  {
   "cell_type": "code",
   "execution_count": 7,
   "id": "6b83d358",
   "metadata": {
    "execution": {
     "iopub.execute_input": "2022-10-16T10:28:00.107916Z",
     "iopub.status.busy": "2022-10-16T10:28:00.107519Z",
     "iopub.status.idle": "2022-10-16T10:28:00.115489Z",
     "shell.execute_reply": "2022-10-16T10:28:00.114393Z"
    },
    "papermill": {
     "duration": 0.018101,
     "end_time": "2022-10-16T10:28:00.117976",
     "exception": false,
     "start_time": "2022-10-16T10:28:00.099875",
     "status": "completed"
    },
    "tags": []
   },
   "outputs": [],
   "source": [
    "#Replacing null values in age column with mean of age \n",
    "df_train['Age'].fillna(df_train['Age'].mean(),inplace=True)\n",
    "\n",
    "\n",
    "#Dropping cabin column as\n",
    "df_train=df_train.drop(['Cabin','Name','Ticket','Embarked','Fare'],axis=1)"
   ]
  },
  {
   "cell_type": "code",
   "execution_count": 8,
   "id": "d4dfd046",
   "metadata": {
    "execution": {
     "iopub.execute_input": "2022-10-16T10:28:00.132400Z",
     "iopub.status.busy": "2022-10-16T10:28:00.132028Z",
     "iopub.status.idle": "2022-10-16T10:28:00.144861Z",
     "shell.execute_reply": "2022-10-16T10:28:00.143758Z"
    },
    "papermill": {
     "duration": 0.02315,
     "end_time": "2022-10-16T10:28:00.147348",
     "exception": false,
     "start_time": "2022-10-16T10:28:00.124198",
     "status": "completed"
    },
    "tags": []
   },
   "outputs": [
    {
     "name": "stdout",
     "output_type": "stream",
     "text": [
      "<class 'pandas.core.frame.DataFrame'>\n",
      "RangeIndex: 891 entries, 0 to 890\n",
      "Data columns (total 7 columns):\n",
      " #   Column       Non-Null Count  Dtype  \n",
      "---  ------       --------------  -----  \n",
      " 0   PassengerId  891 non-null    int64  \n",
      " 1   Survived     891 non-null    int64  \n",
      " 2   Pclass       891 non-null    int64  \n",
      " 3   Sex          891 non-null    object \n",
      " 4   Age          891 non-null    float64\n",
      " 5   SibSp        891 non-null    int64  \n",
      " 6   Parch        891 non-null    int64  \n",
      "dtypes: float64(1), int64(5), object(1)\n",
      "memory usage: 48.9+ KB\n"
     ]
    }
   ],
   "source": [
    "df_train.info()"
   ]
  },
  {
   "cell_type": "code",
   "execution_count": 9,
   "id": "92260576",
   "metadata": {
    "execution": {
     "iopub.execute_input": "2022-10-16T10:28:00.162046Z",
     "iopub.status.busy": "2022-10-16T10:28:00.161350Z",
     "iopub.status.idle": "2022-10-16T10:28:00.166625Z",
     "shell.execute_reply": "2022-10-16T10:28:00.165781Z"
    },
    "papermill": {
     "duration": 0.015178,
     "end_time": "2022-10-16T10:28:00.168905",
     "exception": false,
     "start_time": "2022-10-16T10:28:00.153727",
     "status": "completed"
    },
    "tags": []
   },
   "outputs": [],
   "source": [
    "le=LabelEncoder()\n",
    "df_train['Sex']=le.fit_transform(df_train['Sex'])"
   ]
  },
  {
   "cell_type": "markdown",
   "id": "366dbb88",
   "metadata": {
    "papermill": {
     "duration": 0.007233,
     "end_time": "2022-10-16T10:28:00.182429",
     "exception": false,
     "start_time": "2022-10-16T10:28:00.175196",
     "status": "completed"
    },
    "tags": []
   },
   "source": [
    "#### Building the model"
   ]
  },
  {
   "cell_type": "code",
   "execution_count": 10,
   "id": "7e60daba",
   "metadata": {
    "execution": {
     "iopub.execute_input": "2022-10-16T10:28:00.197076Z",
     "iopub.status.busy": "2022-10-16T10:28:00.196319Z",
     "iopub.status.idle": "2022-10-16T10:28:00.204007Z",
     "shell.execute_reply": "2022-10-16T10:28:00.202897Z"
    },
    "papermill": {
     "duration": 0.017544,
     "end_time": "2022-10-16T10:28:00.206458",
     "exception": false,
     "start_time": "2022-10-16T10:28:00.188914",
     "status": "completed"
    },
    "tags": []
   },
   "outputs": [],
   "source": [
    "X=df_train[['Pclass','Sex','Age','SibSp','Parch']]\n",
    "y=df_train['Survived']"
   ]
  },
  {
   "cell_type": "code",
   "execution_count": 11,
   "id": "87f7a24c",
   "metadata": {
    "execution": {
     "iopub.execute_input": "2022-10-16T10:28:00.221005Z",
     "iopub.status.busy": "2022-10-16T10:28:00.220241Z",
     "iopub.status.idle": "2022-10-16T10:28:00.227280Z",
     "shell.execute_reply": "2022-10-16T10:28:00.226442Z"
    },
    "papermill": {
     "duration": 0.016872,
     "end_time": "2022-10-16T10:28:00.229557",
     "exception": false,
     "start_time": "2022-10-16T10:28:00.212685",
     "status": "completed"
    },
    "tags": []
   },
   "outputs": [],
   "source": [
    "X_train,X_test,y_train,y_test=train_test_split(X,y,train_size=0.7,test_size=0.3,random_state=85)"
   ]
  },
  {
   "cell_type": "code",
   "execution_count": 12,
   "id": "02cb73cc",
   "metadata": {
    "execution": {
     "iopub.execute_input": "2022-10-16T10:28:00.244245Z",
     "iopub.status.busy": "2022-10-16T10:28:00.243479Z",
     "iopub.status.idle": "2022-10-16T10:28:00.281050Z",
     "shell.execute_reply": "2022-10-16T10:28:00.279571Z"
    },
    "papermill": {
     "duration": 0.047806,
     "end_time": "2022-10-16T10:28:00.283693",
     "exception": false,
     "start_time": "2022-10-16T10:28:00.235887",
     "status": "completed"
    },
    "tags": []
   },
   "outputs": [
    {
     "name": "stdout",
     "output_type": "stream",
     "text": [
      "                            OLS Regression Results                            \n",
      "==============================================================================\n",
      "Dep. Variable:               Survived   R-squared:                       0.399\n",
      "Model:                            OLS   Adj. R-squared:                  0.394\n",
      "Method:                 Least Squares   F-statistic:                     81.97\n",
      "Date:                Sun, 16 Oct 2022   Prob (F-statistic):           5.93e-66\n",
      "Time:                        10:28:00   Log-Likelihood:                -280.28\n",
      "No. Observations:                 623   AIC:                             572.6\n",
      "Df Residuals:                     617   BIC:                             599.2\n",
      "Df Model:                           5                                         \n",
      "Covariance Type:            nonrobust                                         \n",
      "==============================================================================\n",
      "                 coef    std err          t      P>|t|      [0.025      0.975]\n",
      "------------------------------------------------------------------------------\n",
      "const          1.3444      0.070     19.088      0.000       1.206       1.483\n",
      "Pclass        -0.1797      0.020     -9.188      0.000      -0.218      -0.141\n",
      "Sex           -0.5111      0.034    -15.064      0.000      -0.578      -0.444\n",
      "Age           -0.0058      0.001     -4.503      0.000      -0.008      -0.003\n",
      "SibSp         -0.0444      0.016     -2.800      0.005      -0.076      -0.013\n",
      "Parch         -0.0288      0.022     -1.319      0.188      -0.072       0.014\n",
      "==============================================================================\n",
      "Omnibus:                       21.874   Durbin-Watson:                   2.080\n",
      "Prob(Omnibus):                  0.000   Jarque-Bera (JB):               23.433\n",
      "Skew:                           0.474   Prob(JB):                     8.16e-06\n",
      "Kurtosis:                       3.063   Cond. No.                         154.\n",
      "==============================================================================\n",
      "\n",
      "Notes:\n",
      "[1] Standard Errors assume that the covariance matrix of the errors is correctly specified.\n"
     ]
    }
   ],
   "source": [
    "X_train=sm.add_constant(X_train)\n",
    "mlr_1=sm.OLS(y_train,X_train).fit()\n",
    "print(mlr_1.summary())"
   ]
  },
  {
   "cell_type": "code",
   "execution_count": 13,
   "id": "d63c3551",
   "metadata": {
    "execution": {
     "iopub.execute_input": "2022-10-16T10:28:00.298269Z",
     "iopub.status.busy": "2022-10-16T10:28:00.297591Z",
     "iopub.status.idle": "2022-10-16T10:28:00.308521Z",
     "shell.execute_reply": "2022-10-16T10:28:00.307396Z"
    },
    "papermill": {
     "duration": 0.020719,
     "end_time": "2022-10-16T10:28:00.310801",
     "exception": false,
     "start_time": "2022-10-16T10:28:00.290082",
     "status": "completed"
    },
    "tags": []
   },
   "outputs": [
    {
     "data": {
      "text/plain": [
       "214    0.077617\n",
       "450    0.163253\n",
       "843    0.094201\n",
       "528    0.068127\n",
       "401    0.143454\n",
       "dtype: float64"
      ]
     },
     "execution_count": 13,
     "metadata": {},
     "output_type": "execute_result"
    }
   ],
   "source": [
    "X_test=sm.add_constant(X_test)\n",
    "y_pred=mlr_1.predict(X_test)\n",
    "y_pred.head()"
   ]
  },
  {
   "cell_type": "code",
   "execution_count": 14,
   "id": "f07f189f",
   "metadata": {
    "execution": {
     "iopub.execute_input": "2022-10-16T10:28:00.325896Z",
     "iopub.status.busy": "2022-10-16T10:28:00.325155Z",
     "iopub.status.idle": "2022-10-16T10:28:00.332509Z",
     "shell.execute_reply": "2022-10-16T10:28:00.331164Z"
    },
    "papermill": {
     "duration": 0.017309,
     "end_time": "2022-10-16T10:28:00.334630",
     "exception": false,
     "start_time": "2022-10-16T10:28:00.317321",
     "status": "completed"
    },
    "tags": []
   },
   "outputs": [
    {
     "name": "stdout",
     "output_type": "stream",
     "text": [
      "RMSE: 0.37788637417711674\n",
      "R-Squared/Accuracy: 37.293154921046764\n"
     ]
    }
   ],
   "source": [
    "rmse=np.sqrt(mean_squared_error(y_test,y_pred))\n",
    "r2=r2_score(y_test,y_pred)\n",
    "\n",
    "print('RMSE:', rmse)\n",
    "print('R-Squared/Accuracy:', r2*100)"
   ]
  },
  {
   "cell_type": "markdown",
   "id": "4a988967",
   "metadata": {
    "papermill": {
     "duration": 0.006251,
     "end_time": "2022-10-16T10:28:00.347461",
     "exception": false,
     "start_time": "2022-10-16T10:28:00.341210",
     "status": "completed"
    },
    "tags": []
   },
   "source": [
    "#### Processing the test dataset"
   ]
  },
  {
   "cell_type": "code",
   "execution_count": 15,
   "id": "477a878d",
   "metadata": {
    "execution": {
     "iopub.execute_input": "2022-10-16T10:28:00.362694Z",
     "iopub.status.busy": "2022-10-16T10:28:00.361981Z",
     "iopub.status.idle": "2022-10-16T10:28:00.369607Z",
     "shell.execute_reply": "2022-10-16T10:28:00.368729Z"
    },
    "papermill": {
     "duration": 0.017791,
     "end_time": "2022-10-16T10:28:00.371701",
     "exception": false,
     "start_time": "2022-10-16T10:28:00.353910",
     "status": "completed"
    },
    "tags": []
   },
   "outputs": [],
   "source": [
    "df_test['Age'].fillna(df_test['Age'].mean(),inplace=True)\n",
    "df_test=df_test.drop(['Cabin','Name','Ticket','Embarked','Fare'],axis=1)\n",
    "\n",
    "le=LabelEncoder()\n",
    "df_test['Sex']=le.fit_transform(df_test['Sex'])"
   ]
  },
  {
   "cell_type": "code",
   "execution_count": 16,
   "id": "39798053",
   "metadata": {
    "execution": {
     "iopub.execute_input": "2022-10-16T10:28:00.387745Z",
     "iopub.status.busy": "2022-10-16T10:28:00.386514Z",
     "iopub.status.idle": "2022-10-16T10:28:00.405007Z",
     "shell.execute_reply": "2022-10-16T10:28:00.403935Z"
    },
    "papermill": {
     "duration": 0.028876,
     "end_time": "2022-10-16T10:28:00.407209",
     "exception": false,
     "start_time": "2022-10-16T10:28:00.378333",
     "status": "completed"
    },
    "tags": []
   },
   "outputs": [
    {
     "data": {
      "text/html": [
       "<div>\n",
       "<style scoped>\n",
       "    .dataframe tbody tr th:only-of-type {\n",
       "        vertical-align: middle;\n",
       "    }\n",
       "\n",
       "    .dataframe tbody tr th {\n",
       "        vertical-align: top;\n",
       "    }\n",
       "\n",
       "    .dataframe thead th {\n",
       "        text-align: right;\n",
       "    }\n",
       "</style>\n",
       "<table border=\"1\" class=\"dataframe\">\n",
       "  <thead>\n",
       "    <tr style=\"text-align: right;\">\n",
       "      <th></th>\n",
       "      <th>Pclass</th>\n",
       "      <th>Sex</th>\n",
       "      <th>Age</th>\n",
       "      <th>SibSp</th>\n",
       "      <th>Parch</th>\n",
       "    </tr>\n",
       "  </thead>\n",
       "  <tbody>\n",
       "    <tr>\n",
       "      <th>0</th>\n",
       "      <td>3</td>\n",
       "      <td>1</td>\n",
       "      <td>34.5</td>\n",
       "      <td>0</td>\n",
       "      <td>0</td>\n",
       "    </tr>\n",
       "    <tr>\n",
       "      <th>1</th>\n",
       "      <td>3</td>\n",
       "      <td>0</td>\n",
       "      <td>47.0</td>\n",
       "      <td>1</td>\n",
       "      <td>0</td>\n",
       "    </tr>\n",
       "    <tr>\n",
       "      <th>2</th>\n",
       "      <td>2</td>\n",
       "      <td>1</td>\n",
       "      <td>62.0</td>\n",
       "      <td>0</td>\n",
       "      <td>0</td>\n",
       "    </tr>\n",
       "    <tr>\n",
       "      <th>3</th>\n",
       "      <td>3</td>\n",
       "      <td>1</td>\n",
       "      <td>27.0</td>\n",
       "      <td>0</td>\n",
       "      <td>0</td>\n",
       "    </tr>\n",
       "    <tr>\n",
       "      <th>4</th>\n",
       "      <td>3</td>\n",
       "      <td>0</td>\n",
       "      <td>22.0</td>\n",
       "      <td>1</td>\n",
       "      <td>1</td>\n",
       "    </tr>\n",
       "  </tbody>\n",
       "</table>\n",
       "</div>"
      ],
      "text/plain": [
       "   Pclass  Sex   Age  SibSp  Parch\n",
       "0       3    1  34.5      0      0\n",
       "1       3    0  47.0      1      0\n",
       "2       2    1  62.0      0      0\n",
       "3       3    1  27.0      0      0\n",
       "4       3    0  22.0      1      1"
      ]
     },
     "execution_count": 16,
     "metadata": {},
     "output_type": "execute_result"
    }
   ],
   "source": [
    "df_test_fit=df_test[['Pclass','Sex','Age','SibSp','Parch']]\n",
    "df_test_fit.head()"
   ]
  },
  {
   "cell_type": "code",
   "execution_count": 17,
   "id": "46e0c761",
   "metadata": {
    "execution": {
     "iopub.execute_input": "2022-10-16T10:28:00.423870Z",
     "iopub.status.busy": "2022-10-16T10:28:00.422359Z",
     "iopub.status.idle": "2022-10-16T10:28:00.440401Z",
     "shell.execute_reply": "2022-10-16T10:28:00.438764Z"
    },
    "papermill": {
     "duration": 0.029798,
     "end_time": "2022-10-16T10:28:00.443996",
     "exception": false,
     "start_time": "2022-10-16T10:28:00.414198",
     "status": "completed"
    },
    "tags": []
   },
   "outputs": [
    {
     "data": {
      "text/plain": [
       "0    0.094201\n",
       "1    0.488476\n",
       "2    0.114588\n",
       "3    0.137659\n",
       "4    0.604542\n",
       "dtype: float64"
      ]
     },
     "execution_count": 17,
     "metadata": {},
     "output_type": "execute_result"
    }
   ],
   "source": [
    "df_test_fit=sm.add_constant(df_test_fit)\n",
    "y_predict=mlr_1.predict(df_test_fit)\n",
    "y_predict.head()"
   ]
  },
  {
   "cell_type": "code",
   "execution_count": 18,
   "id": "8fe97ed1",
   "metadata": {
    "execution": {
     "iopub.execute_input": "2022-10-16T10:28:00.460885Z",
     "iopub.status.busy": "2022-10-16T10:28:00.460297Z",
     "iopub.status.idle": "2022-10-16T10:28:00.482905Z",
     "shell.execute_reply": "2022-10-16T10:28:00.481544Z"
    },
    "papermill": {
     "duration": 0.034134,
     "end_time": "2022-10-16T10:28:00.485622",
     "exception": false,
     "start_time": "2022-10-16T10:28:00.451488",
     "status": "completed"
    },
    "tags": []
   },
   "outputs": [
    {
     "name": "stdout",
     "output_type": "stream",
     "text": [
      "Submission was successfully saved!\n"
     ]
    }
   ],
   "source": [
    "output = pd.DataFrame({'PassengerId': df_test.PassengerId, 'Survived': y_predict})\n",
    "output.to_csv('submission.csv', index=False)\n",
    "print(\"Submission was successfully saved!\")"
   ]
  },
  {
   "cell_type": "code",
   "execution_count": null,
   "id": "36e3352c",
   "metadata": {
    "papermill": {
     "duration": 0.008005,
     "end_time": "2022-10-16T10:28:00.500948",
     "exception": false,
     "start_time": "2022-10-16T10:28:00.492943",
     "status": "completed"
    },
    "tags": []
   },
   "outputs": [],
   "source": []
  }
 ],
 "metadata": {
  "kernelspec": {
   "display_name": "Python 3",
   "language": "python",
   "name": "python3"
  },
  "language_info": {
   "codemirror_mode": {
    "name": "ipython",
    "version": 3
   },
   "file_extension": ".py",
   "mimetype": "text/x-python",
   "name": "python",
   "nbconvert_exporter": "python",
   "pygments_lexer": "ipython3",
   "version": "3.7.12"
  },
  "papermill": {
   "default_parameters": {},
   "duration": 12.388167,
   "end_time": "2022-10-16T10:28:01.331332",
   "environment_variables": {},
   "exception": null,
   "input_path": "__notebook__.ipynb",
   "output_path": "__notebook__.ipynb",
   "parameters": {},
   "start_time": "2022-10-16T10:27:48.943165",
   "version": "2.3.4"
  }
 },
 "nbformat": 4,
 "nbformat_minor": 5
}
