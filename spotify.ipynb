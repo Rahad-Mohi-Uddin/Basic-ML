{
 "cells": [
  {
   "cell_type": "code",
   "execution_count": 1,
   "id": "6ec81c83",
   "metadata": {
    "_cell_guid": "b1076dfc-b9ad-4769-8c92-a6c4dae69d19",
    "_uuid": "8f2839f25d086af736a60e9eeb907d3b93b6e0e5",
    "execution": {
     "iopub.execute_input": "2022-12-16T12:54:57.917037Z",
     "iopub.status.busy": "2022-12-16T12:54:57.916539Z",
     "iopub.status.idle": "2022-12-16T12:54:57.936376Z",
     "shell.execute_reply": "2022-12-16T12:54:57.935076Z"
    },
    "papermill": {
     "duration": 0.030621,
     "end_time": "2022-12-16T12:54:57.939620",
     "exception": false,
     "start_time": "2022-12-16T12:54:57.908999",
     "status": "completed"
    },
    "tags": []
   },
   "outputs": [
    {
     "name": "stdout",
     "output_type": "stream",
     "text": [
      "/kaggle/input/spotify-million-song-dataset/spotify_millsongdata.csv\n"
     ]
    }
   ],
   "source": [
    "# This Python 3 environment comes with many helpful analytics libraries installed\n",
    "# It is defined by the kaggle/python Docker image: https://github.com/kaggle/docker-python\n",
    "# For example, here's several helpful packages to load\n",
    "\n",
    "import numpy as np # linear algebra\n",
    "import pandas as pd # data processing, CSV file I/O (e.g. pd.read_csv)\n",
    "\n",
    "# Input data files are available in the read-only \"../input/\" directory\n",
    "# For example, running this (by clicking run or pressing Shift+Enter) will list all files under the input directory\n",
    "\n",
    "import os\n",
    "for dirname, _, filenames in os.walk('/kaggle/input'):\n",
    "    for filename in filenames:\n",
    "        print(os.path.join(dirname, filename))\n",
    "\n",
    "# You can write up to 20GB to the current directory (/kaggle/working/) that gets preserved as output when you create a version using \"Save & Run All\" \n",
    "# You can also write temporary files to /kaggle/temp/, but they won't be saved outside of the current session"
   ]
  },
  {
   "cell_type": "markdown",
   "id": "7724b887",
   "metadata": {
    "papermill": {
     "duration": 0.003738,
     "end_time": "2022-12-16T12:54:57.947732",
     "exception": false,
     "start_time": "2022-12-16T12:54:57.943994",
     "status": "completed"
    },
    "tags": []
   },
   "source": [
    "### First import all the required library "
   ]
  },
  {
   "cell_type": "code",
   "execution_count": 2,
   "id": "1fbcf378",
   "metadata": {
    "execution": {
     "iopub.execute_input": "2022-12-16T12:54:57.957304Z",
     "iopub.status.busy": "2022-12-16T12:54:57.956838Z",
     "iopub.status.idle": "2022-12-16T12:55:11.818626Z",
     "shell.execute_reply": "2022-12-16T12:55:11.817358Z"
    },
    "papermill": {
     "duration": 13.870689,
     "end_time": "2022-12-16T12:55:11.822352",
     "exception": false,
     "start_time": "2022-12-16T12:54:57.951663",
     "status": "completed"
    },
    "tags": []
   },
   "outputs": [
    {
     "name": "stderr",
     "output_type": "stream",
     "text": [
      "/opt/conda/lib/python3.7/site-packages/past/types/oldstr.py:36: DeprecationWarning: invalid escape sequence \\d\n",
      "  \"\"\"\n"
     ]
    }
   ],
   "source": [
    "import re\n",
    "import pandas as pd \n",
    "import numpy as np \n",
    "from pprint import pprint \n",
    "\n",
    "from nltk.corpus import stopwords\n",
    "stop_words=stopwords.words(\"english\")\n",
    "\n",
    "import gensim\n",
    "import gensim.corpora as corpora \n",
    "from gensim.utils import simple_preprocess\n",
    "from gensim.models import CoherenceModel\n",
    "\n",
    "import spacy\n",
    "\n",
    "import pyLDAvis\n",
    "import pyLDAvis.gensim\n",
    "%matplotlib inline\n",
    "import matplotlib.pyplot as plt \n",
    "\n",
    "import logging\n",
    "logging.basicConfig(format='%(asctime)s:%(levelname)s:(message)s',level=logging.ERROR)\n",
    "\n",
    "import warnings\n",
    "warnings.filterwarnings(\"ignore\",category=DeprecationWarning)"
   ]
  },
  {
   "cell_type": "markdown",
   "id": "813bfb24",
   "metadata": {
    "papermill": {
     "duration": 0.004089,
     "end_time": "2022-12-16T12:55:11.831796",
     "exception": false,
     "start_time": "2022-12-16T12:55:11.827707",
     "status": "completed"
    },
    "tags": []
   },
   "source": [
    "### Load and clean the data"
   ]
  },
  {
   "cell_type": "code",
   "execution_count": 3,
   "id": "06566e28",
   "metadata": {
    "execution": {
     "iopub.execute_input": "2022-12-16T12:55:11.843460Z",
     "iopub.status.busy": "2022-12-16T12:55:11.841960Z",
     "iopub.status.idle": "2022-12-16T12:55:13.813597Z",
     "shell.execute_reply": "2022-12-16T12:55:13.812429Z"
    },
    "papermill": {
     "duration": 1.980515,
     "end_time": "2022-12-16T12:55:13.816521",
     "exception": false,
     "start_time": "2022-12-16T12:55:11.836006",
     "status": "completed"
    },
    "tags": []
   },
   "outputs": [
    {
     "data": {
      "text/html": [
       "<div>\n",
       "<style scoped>\n",
       "    .dataframe tbody tr th:only-of-type {\n",
       "        vertical-align: middle;\n",
       "    }\n",
       "\n",
       "    .dataframe tbody tr th {\n",
       "        vertical-align: top;\n",
       "    }\n",
       "\n",
       "    .dataframe thead th {\n",
       "        text-align: right;\n",
       "    }\n",
       "</style>\n",
       "<table border=\"1\" class=\"dataframe\">\n",
       "  <thead>\n",
       "    <tr style=\"text-align: right;\">\n",
       "      <th></th>\n",
       "      <th>artist</th>\n",
       "      <th>song</th>\n",
       "      <th>link</th>\n",
       "      <th>text</th>\n",
       "    </tr>\n",
       "  </thead>\n",
       "  <tbody>\n",
       "    <tr>\n",
       "      <th>0</th>\n",
       "      <td>ABBA</td>\n",
       "      <td>Ahe's My Kind Of Girl</td>\n",
       "      <td>/a/abba/ahes+my+kind+of+girl_20598417.html</td>\n",
       "      <td>Look at her face, it's a wonderful face  \\r\\nA...</td>\n",
       "    </tr>\n",
       "    <tr>\n",
       "      <th>1</th>\n",
       "      <td>ABBA</td>\n",
       "      <td>Andante, Andante</td>\n",
       "      <td>/a/abba/andante+andante_20002708.html</td>\n",
       "      <td>Take it easy with me, please  \\r\\nTouch me gen...</td>\n",
       "    </tr>\n",
       "    <tr>\n",
       "      <th>2</th>\n",
       "      <td>ABBA</td>\n",
       "      <td>As Good As New</td>\n",
       "      <td>/a/abba/as+good+as+new_20003033.html</td>\n",
       "      <td>I'll never know why I had to go  \\r\\nWhy I had...</td>\n",
       "    </tr>\n",
       "    <tr>\n",
       "      <th>3</th>\n",
       "      <td>ABBA</td>\n",
       "      <td>Bang</td>\n",
       "      <td>/a/abba/bang_20598415.html</td>\n",
       "      <td>Making somebody happy is a question of give an...</td>\n",
       "    </tr>\n",
       "    <tr>\n",
       "      <th>4</th>\n",
       "      <td>ABBA</td>\n",
       "      <td>Bang-A-Boomerang</td>\n",
       "      <td>/a/abba/bang+a+boomerang_20002668.html</td>\n",
       "      <td>Making somebody happy is a question of give an...</td>\n",
       "    </tr>\n",
       "  </tbody>\n",
       "</table>\n",
       "</div>"
      ],
      "text/plain": [
       "  artist                   song                                        link  \\\n",
       "0   ABBA  Ahe's My Kind Of Girl  /a/abba/ahes+my+kind+of+girl_20598417.html   \n",
       "1   ABBA       Andante, Andante       /a/abba/andante+andante_20002708.html   \n",
       "2   ABBA         As Good As New        /a/abba/as+good+as+new_20003033.html   \n",
       "3   ABBA                   Bang                  /a/abba/bang_20598415.html   \n",
       "4   ABBA       Bang-A-Boomerang      /a/abba/bang+a+boomerang_20002668.html   \n",
       "\n",
       "                                                text  \n",
       "0  Look at her face, it's a wonderful face  \\r\\nA...  \n",
       "1  Take it easy with me, please  \\r\\nTouch me gen...  \n",
       "2  I'll never know why I had to go  \\r\\nWhy I had...  \n",
       "3  Making somebody happy is a question of give an...  \n",
       "4  Making somebody happy is a question of give an...  "
      ]
     },
     "execution_count": 3,
     "metadata": {},
     "output_type": "execute_result"
    }
   ],
   "source": [
    "df=pd.read_csv(\"/kaggle/input/spotify-million-song-dataset/spotify_millsongdata.csv\")\n",
    "df.head()"
   ]
  },
  {
   "cell_type": "code",
   "execution_count": 4,
   "id": "5516445e",
   "metadata": {
    "execution": {
     "iopub.execute_input": "2022-12-16T12:55:13.827949Z",
     "iopub.status.busy": "2022-12-16T12:55:13.827509Z",
     "iopub.status.idle": "2022-12-16T12:55:13.835286Z",
     "shell.execute_reply": "2022-12-16T12:55:13.833956Z"
    },
    "papermill": {
     "duration": 0.01635,
     "end_time": "2022-12-16T12:55:13.837669",
     "exception": false,
     "start_time": "2022-12-16T12:55:13.821319",
     "status": "completed"
    },
    "tags": []
   },
   "outputs": [],
   "source": [
    "#create a user define function to clean the text\n",
    "\n",
    "def clean_text(text):\n",
    "    text=re.sub('RT','',text)                       #remove 'RT' from text\n",
    "    text=re.sub('#[A-Za-z0-9]+','',text)            #remove hashtags from text\n",
    "    text=re.sub('\\\\n','',text)                      #remove \\n from the text\n",
    "    text=re.sub('\\\\r','',text)                      #remove \\n from the text\n",
    "    text=re.sub('[^\\w\\s]','',text)                  #remove punctuation from the text\n",
    "    text=re.sub('^[\\s]+|[\\s]+$','',text)            #remove leading & trailing whitespace from the text\n",
    "    text=text.lower()\n",
    "    \n",
    "    return text"
   ]
  },
  {
   "cell_type": "code",
   "execution_count": 5,
   "id": "63984785",
   "metadata": {
    "execution": {
     "iopub.execute_input": "2022-12-16T12:55:13.848591Z",
     "iopub.status.busy": "2022-12-16T12:55:13.848130Z",
     "iopub.status.idle": "2022-12-16T12:55:19.328815Z",
     "shell.execute_reply": "2022-12-16T12:55:19.327268Z"
    },
    "papermill": {
     "duration": 5.489419,
     "end_time": "2022-12-16T12:55:19.331461",
     "exception": false,
     "start_time": "2022-12-16T12:55:13.842042",
     "status": "completed"
    },
    "tags": []
   },
   "outputs": [
    {
     "data": {
      "text/html": [
       "<div>\n",
       "<style scoped>\n",
       "    .dataframe tbody tr th:only-of-type {\n",
       "        vertical-align: middle;\n",
       "    }\n",
       "\n",
       "    .dataframe tbody tr th {\n",
       "        vertical-align: top;\n",
       "    }\n",
       "\n",
       "    .dataframe thead th {\n",
       "        text-align: right;\n",
       "    }\n",
       "</style>\n",
       "<table border=\"1\" class=\"dataframe\">\n",
       "  <thead>\n",
       "    <tr style=\"text-align: right;\">\n",
       "      <th></th>\n",
       "      <th>artist</th>\n",
       "      <th>song</th>\n",
       "      <th>link</th>\n",
       "      <th>text</th>\n",
       "      <th>lyrics</th>\n",
       "    </tr>\n",
       "  </thead>\n",
       "  <tbody>\n",
       "    <tr>\n",
       "      <th>0</th>\n",
       "      <td>ABBA</td>\n",
       "      <td>Ahe's My Kind Of Girl</td>\n",
       "      <td>/a/abba/ahes+my+kind+of+girl_20598417.html</td>\n",
       "      <td>Look at her face, it's a wonderful face  \\r\\nA...</td>\n",
       "      <td>look at her face its a wonderful face  and it ...</td>\n",
       "    </tr>\n",
       "    <tr>\n",
       "      <th>1</th>\n",
       "      <td>ABBA</td>\n",
       "      <td>Andante, Andante</td>\n",
       "      <td>/a/abba/andante+andante_20002708.html</td>\n",
       "      <td>Take it easy with me, please  \\r\\nTouch me gen...</td>\n",
       "      <td>take it easy with me please  touch me gently l...</td>\n",
       "    </tr>\n",
       "    <tr>\n",
       "      <th>2</th>\n",
       "      <td>ABBA</td>\n",
       "      <td>As Good As New</td>\n",
       "      <td>/a/abba/as+good+as+new_20003033.html</td>\n",
       "      <td>I'll never know why I had to go  \\r\\nWhy I had...</td>\n",
       "      <td>ill never know why i had to go  why i had to p...</td>\n",
       "    </tr>\n",
       "    <tr>\n",
       "      <th>3</th>\n",
       "      <td>ABBA</td>\n",
       "      <td>Bang</td>\n",
       "      <td>/a/abba/bang_20598415.html</td>\n",
       "      <td>Making somebody happy is a question of give an...</td>\n",
       "      <td>making somebody happy is a question of give an...</td>\n",
       "    </tr>\n",
       "    <tr>\n",
       "      <th>4</th>\n",
       "      <td>ABBA</td>\n",
       "      <td>Bang-A-Boomerang</td>\n",
       "      <td>/a/abba/bang+a+boomerang_20002668.html</td>\n",
       "      <td>Making somebody happy is a question of give an...</td>\n",
       "      <td>making somebody happy is a question of give an...</td>\n",
       "    </tr>\n",
       "  </tbody>\n",
       "</table>\n",
       "</div>"
      ],
      "text/plain": [
       "  artist                   song                                        link  \\\n",
       "0   ABBA  Ahe's My Kind Of Girl  /a/abba/ahes+my+kind+of+girl_20598417.html   \n",
       "1   ABBA       Andante, Andante       /a/abba/andante+andante_20002708.html   \n",
       "2   ABBA         As Good As New        /a/abba/as+good+as+new_20003033.html   \n",
       "3   ABBA                   Bang                  /a/abba/bang_20598415.html   \n",
       "4   ABBA       Bang-A-Boomerang      /a/abba/bang+a+boomerang_20002668.html   \n",
       "\n",
       "                                                text  \\\n",
       "0  Look at her face, it's a wonderful face  \\r\\nA...   \n",
       "1  Take it easy with me, please  \\r\\nTouch me gen...   \n",
       "2  I'll never know why I had to go  \\r\\nWhy I had...   \n",
       "3  Making somebody happy is a question of give an...   \n",
       "4  Making somebody happy is a question of give an...   \n",
       "\n",
       "                                              lyrics  \n",
       "0  look at her face its a wonderful face  and it ...  \n",
       "1  take it easy with me please  touch me gently l...  \n",
       "2  ill never know why i had to go  why i had to p...  \n",
       "3  making somebody happy is a question of give an...  \n",
       "4  making somebody happy is a question of give an...  "
      ]
     },
     "execution_count": 5,
     "metadata": {},
     "output_type": "execute_result"
    }
   ],
   "source": [
    "#applying the cleaning function on to the dataset\n",
    "\n",
    "df['lyrics']=df['text'].apply(clean_text)\n",
    "df.head()"
   ]
  },
  {
   "cell_type": "code",
   "execution_count": 6,
   "id": "18a4fbd6",
   "metadata": {
    "execution": {
     "iopub.execute_input": "2022-12-16T12:55:19.343382Z",
     "iopub.status.busy": "2022-12-16T12:55:19.342905Z",
     "iopub.status.idle": "2022-12-16T12:55:19.354408Z",
     "shell.execute_reply": "2022-12-16T12:55:19.352955Z"
    },
    "papermill": {
     "duration": 0.020046,
     "end_time": "2022-12-16T12:55:19.356724",
     "exception": false,
     "start_time": "2022-12-16T12:55:19.336678",
     "status": "completed"
    },
    "tags": []
   },
   "outputs": [
    {
     "data": {
      "text/plain": [
       "'look at her face its a wonderful face  and it means something special to me  look at the way that she smiles when she sees me  how lucky can one fellow be    shes just my kind of girl she makes me feel fine  who could ever believe that she could be mine  shes just my kind of girl without her im blue  and if she ever leaves me what could i do what could i do    and when we go for a walk in the park  and she holds me and squeezes my hand  well go on walking for hours and talking  about all the things that we plan    shes just my kind of girl she makes me feel fine  who could ever believe that she could be mine  shes just my kind of girl without her im blue  and if she ever leaves me what could i do what could i do'"
      ]
     },
     "execution_count": 6,
     "metadata": {},
     "output_type": "execute_result"
    }
   ],
   "source": [
    "#inserting all the lyrics in a list\n",
    "\n",
    "lyrics=df['lyrics'].values.tolist()\n",
    "lyrics[0]"
   ]
  },
  {
   "cell_type": "markdown",
   "id": "d67702e1",
   "metadata": {
    "papermill": {
     "duration": 0.00439,
     "end_time": "2022-12-16T12:55:19.366055",
     "exception": false,
     "start_time": "2022-12-16T12:55:19.361665",
     "status": "completed"
    },
    "tags": []
   },
   "source": [
    "### Tokenize words"
   ]
  },
  {
   "cell_type": "code",
   "execution_count": 7,
   "id": "c6fedad7",
   "metadata": {
    "execution": {
     "iopub.execute_input": "2022-12-16T12:55:19.378100Z",
     "iopub.status.busy": "2022-12-16T12:55:19.377644Z",
     "iopub.status.idle": "2022-12-16T12:55:19.382507Z",
     "shell.execute_reply": "2022-12-16T12:55:19.381562Z"
    },
    "papermill": {
     "duration": 0.013727,
     "end_time": "2022-12-16T12:55:19.384592",
     "exception": false,
     "start_time": "2022-12-16T12:55:19.370865",
     "status": "completed"
    },
    "tags": []
   },
   "outputs": [],
   "source": [
    "#creating a user define function for tokenize the sentences\n",
    "\n",
    "def sent_to_words(sentences):\n",
    "    for sentence in sentences:\n",
    "        yield(gensim.utils.simple_preprocess(str(sentence)))"
   ]
  },
  {
   "cell_type": "code",
   "execution_count": 8,
   "id": "bedd079d",
   "metadata": {
    "execution": {
     "iopub.execute_input": "2022-12-16T12:55:19.396622Z",
     "iopub.status.busy": "2022-12-16T12:55:19.395880Z",
     "iopub.status.idle": "2022-12-16T12:55:34.729144Z",
     "shell.execute_reply": "2022-12-16T12:55:34.727949Z"
    },
    "papermill": {
     "duration": 15.342525,
     "end_time": "2022-12-16T12:55:34.731838",
     "exception": false,
     "start_time": "2022-12-16T12:55:19.389313",
     "status": "completed"
    },
    "tags": []
   },
   "outputs": [
    {
     "data": {
      "text/plain": [
       "['look',\n",
       " 'at',\n",
       " 'her',\n",
       " 'face',\n",
       " 'its',\n",
       " 'wonderful',\n",
       " 'face',\n",
       " 'and',\n",
       " 'it',\n",
       " 'means',\n",
       " 'something',\n",
       " 'special',\n",
       " 'to',\n",
       " 'me',\n",
       " 'look',\n",
       " 'at',\n",
       " 'the',\n",
       " 'way',\n",
       " 'that',\n",
       " 'she',\n",
       " 'smiles',\n",
       " 'when',\n",
       " 'she',\n",
       " 'sees',\n",
       " 'me',\n",
       " 'how',\n",
       " 'lucky',\n",
       " 'can',\n",
       " 'one',\n",
       " 'fellow',\n",
       " 'be',\n",
       " 'shes',\n",
       " 'just',\n",
       " 'my',\n",
       " 'kind',\n",
       " 'of',\n",
       " 'girl',\n",
       " 'she',\n",
       " 'makes',\n",
       " 'me',\n",
       " 'feel',\n",
       " 'fine',\n",
       " 'who',\n",
       " 'could',\n",
       " 'ever',\n",
       " 'believe',\n",
       " 'that',\n",
       " 'she',\n",
       " 'could',\n",
       " 'be',\n",
       " 'mine',\n",
       " 'shes',\n",
       " 'just',\n",
       " 'my',\n",
       " 'kind',\n",
       " 'of',\n",
       " 'girl',\n",
       " 'without',\n",
       " 'her',\n",
       " 'im',\n",
       " 'blue',\n",
       " 'and',\n",
       " 'if',\n",
       " 'she',\n",
       " 'ever',\n",
       " 'leaves',\n",
       " 'me',\n",
       " 'what',\n",
       " 'could',\n",
       " 'do',\n",
       " 'what',\n",
       " 'could',\n",
       " 'do',\n",
       " 'and',\n",
       " 'when',\n",
       " 'we',\n",
       " 'go',\n",
       " 'for',\n",
       " 'walk',\n",
       " 'in',\n",
       " 'the',\n",
       " 'park',\n",
       " 'and',\n",
       " 'she',\n",
       " 'holds',\n",
       " 'me',\n",
       " 'and',\n",
       " 'squeezes',\n",
       " 'my',\n",
       " 'hand',\n",
       " 'well',\n",
       " 'go',\n",
       " 'on',\n",
       " 'walking',\n",
       " 'for',\n",
       " 'hours',\n",
       " 'and',\n",
       " 'talking',\n",
       " 'about',\n",
       " 'all',\n",
       " 'the',\n",
       " 'things',\n",
       " 'that',\n",
       " 'we',\n",
       " 'plan',\n",
       " 'shes',\n",
       " 'just',\n",
       " 'my',\n",
       " 'kind',\n",
       " 'of',\n",
       " 'girl',\n",
       " 'she',\n",
       " 'makes',\n",
       " 'me',\n",
       " 'feel',\n",
       " 'fine',\n",
       " 'who',\n",
       " 'could',\n",
       " 'ever',\n",
       " 'believe',\n",
       " 'that',\n",
       " 'she',\n",
       " 'could',\n",
       " 'be',\n",
       " 'mine',\n",
       " 'shes',\n",
       " 'just',\n",
       " 'my',\n",
       " 'kind',\n",
       " 'of',\n",
       " 'girl',\n",
       " 'without',\n",
       " 'her',\n",
       " 'im',\n",
       " 'blue',\n",
       " 'and',\n",
       " 'if',\n",
       " 'she',\n",
       " 'ever',\n",
       " 'leaves',\n",
       " 'me',\n",
       " 'what',\n",
       " 'could',\n",
       " 'do',\n",
       " 'what',\n",
       " 'could',\n",
       " 'do']"
      ]
     },
     "execution_count": 8,
     "metadata": {},
     "output_type": "execute_result"
    }
   ],
   "source": [
    "#applying the tokenize function onto the list\n",
    "\n",
    "lyrics_words=list(sent_to_words(lyrics))\n",
    "lyrics_words[0]"
   ]
  },
  {
   "cell_type": "markdown",
   "id": "022cd75a",
   "metadata": {
    "papermill": {
     "duration": 0.004883,
     "end_time": "2022-12-16T12:55:34.741950",
     "exception": false,
     "start_time": "2022-12-16T12:55:34.737067",
     "status": "completed"
    },
    "tags": []
   },
   "source": [
    "### Making bigram, trigram, removing stopwords & lemmatizing the lyrics"
   ]
  },
  {
   "cell_type": "code",
   "execution_count": 9,
   "id": "3759b0eb",
   "metadata": {
    "execution": {
     "iopub.execute_input": "2022-12-16T12:55:34.754131Z",
     "iopub.status.busy": "2022-12-16T12:55:34.753696Z",
     "iopub.status.idle": "2022-12-16T12:57:04.634615Z",
     "shell.execute_reply": "2022-12-16T12:57:04.632956Z"
    },
    "papermill": {
     "duration": 89.890661,
     "end_time": "2022-12-16T12:57:04.637901",
     "exception": false,
     "start_time": "2022-12-16T12:55:34.747240",
     "status": "completed"
    },
    "tags": []
   },
   "outputs": [],
   "source": [
    "#creating user define function for every part of task\n",
    "bigram = gensim.models.Phrases(lyrics_words, min_count=5, threshold=100) # higher threshold fewer phrases.\n",
    "trigram = gensim.models.Phrases(bigram[lyrics_words], threshold=100)\n",
    "bigram_mod=gensim.models.phrases.Phraser(bigram)\n",
    "trigram_mod=gensim.models.phrases.Phraser(trigram)\n",
    "\n",
    "#function to remove stopwords\n",
    "def remove_stopwords(text):\n",
    "    return[[word for word in simple_preprocess(str(doc)) if word not in stop_words]for doc in text]\n",
    "\n",
    "#function to findout the bigram words\n",
    "def make_bigrams(text):\n",
    "    return[bigram_mod(doc) for doc in text]\n",
    "\n",
    "#function to findout the trigram words\n",
    "def make_trigrams(text):\n",
    "    return[trigram_mod[bigram_mod(doc)] for doc in text]\n",
    "\n",
    "\n",
    "def lemmatization(text,allowed_postags=['NOUN','ADJ','VERB','ADV']):\n",
    "    texts_out=[]\n",
    "    for sent in text:\n",
    "        doc=nlp(\" \".join(sent))\n",
    "        texts_out.append([token.lemma_ for token in doc if token.pos_ in allowed_postags])\n",
    "    return texts_out"
   ]
  },
  {
   "cell_type": "code",
   "execution_count": null,
   "id": "e8ec233c",
   "metadata": {
    "papermill": {
     "duration": 0.004716,
     "end_time": "2022-12-16T12:57:04.648153",
     "exception": false,
     "start_time": "2022-12-16T12:57:04.643437",
     "status": "completed"
    },
    "tags": []
   },
   "outputs": [],
   "source": []
  }
 ],
 "metadata": {
  "kernelspec": {
   "display_name": "Python 3",
   "language": "python",
   "name": "python3"
  },
  "language_info": {
   "codemirror_mode": {
    "name": "ipython",
    "version": 3
   },
   "file_extension": ".py",
   "mimetype": "text/x-python",
   "name": "python",
   "nbconvert_exporter": "python",
   "pygments_lexer": "ipython3",
   "version": "3.7.12"
  },
  "papermill": {
   "default_parameters": {},
   "duration": 139.376732,
   "end_time": "2022-12-16T12:57:08.272370",
   "environment_variables": {},
   "exception": null,
   "input_path": "__notebook__.ipynb",
   "output_path": "__notebook__.ipynb",
   "parameters": {},
   "start_time": "2022-12-16T12:54:48.895638",
   "version": "2.3.4"
  }
 },
 "nbformat": 4,
 "nbformat_minor": 5
}
