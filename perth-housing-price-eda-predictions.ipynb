{
 "cells": [
  {
   "cell_type": "raw",
   "id": "400e722b",
   "metadata": {
    "_cell_guid": "b1076dfc-b9ad-4769-8c92-a6c4dae69d19",
    "_uuid": "8f2839f25d086af736a60e9eeb907d3b93b6e0e5",
    "papermill": {
     "duration": 0.005226,
     "end_time": "2022-10-27T08:05:48.098563",
     "exception": false,
     "start_time": "2022-10-27T08:05:48.093337",
     "status": "completed"
    },
    "tags": []
   },
   "source": [
    "# This Python 3 environment comes with many helpful analytics libraries installed\n",
    "# It is defined by the kaggle/python Docker image: https://github.com/kaggle/docker-python\n",
    "# For example, here's several helpful packages to load\n",
    "\n",
    "import numpy as np # linear algebra\n",
    "import pandas as pd # data processing, CSV file I/O (e.g. pd.read_csv)\n",
    "\n",
    "# Input data files are available in the read-only \"../input/\" directory\n",
    "# For example, running this (by clicking run or pressing Shift+Enter) will list all files under the input directory\n",
    "\n",
    "import os\n",
    "for dirname, _, filenames in os.walk('/kaggle/input'):\n",
    "    for filename in filenames:\n",
    "        print(os.path.join(dirname, filename))\n",
    "\n",
    "# You can write up to 20GB to the current directory (/kaggle/working/) that gets preserved as output when you create a version using \"Save & Run All\" \n",
    "# You can also write temporary files to /kaggle/temp/, but they won't be saved outside of the current session"
   ]
  },
  {
   "cell_type": "code",
   "execution_count": 1,
   "id": "bfb179ed",
   "metadata": {
    "execution": {
     "iopub.execute_input": "2022-10-27T08:05:48.109995Z",
     "iopub.status.busy": "2022-10-27T08:05:48.108923Z",
     "iopub.status.idle": "2022-10-27T08:05:51.400884Z",
     "shell.execute_reply": "2022-10-27T08:05:51.399630Z"
    },
    "papermill": {
     "duration": 3.301268,
     "end_time": "2022-10-27T08:05:51.403836",
     "exception": false,
     "start_time": "2022-10-27T08:05:48.102568",
     "status": "completed"
    },
    "tags": []
   },
   "outputs": [],
   "source": [
    "import pandas as pd \n",
    "import numpy as np \n",
    "\n",
    "%matplotlib inline \n",
    "import matplotlib.pyplot as plt \n",
    "import seaborn as sns\n",
    "import plotly.express as px\n",
    "import plotly.graph_objects as go \n",
    "from plotly.subplots import make_subplots\n",
    "cmap = sns.diverging_palette(220, 10, as_cmap=True)\n",
    "\n",
    "from catboost import CatBoostClassifier, CatBoostRegressor\n",
    "from xgboost import plot_importance, XGBClassifier, XGBRegressor\n",
    "from sklearn.feature_selection import SelectKBest, f_regression\n",
    "from sklearn.ensemble import RandomForestRegressor \n",
    "from sklearn import preprocessing\n",
    "from sklearn.base import BaseEstimator, TransformerMixin\n",
    "from scipy import stats\n",
    "\n",
    "\n",
    "import warnings\n",
    "warnings.filterwarnings('ignore')"
   ]
  },
  {
   "cell_type": "code",
   "execution_count": 2,
   "id": "96925b61",
   "metadata": {
    "execution": {
     "iopub.execute_input": "2022-10-27T08:05:51.413491Z",
     "iopub.status.busy": "2022-10-27T08:05:51.413016Z",
     "iopub.status.idle": "2022-10-27T08:05:51.696892Z",
     "shell.execute_reply": "2022-10-27T08:05:51.695734Z"
    },
    "papermill": {
     "duration": 0.291722,
     "end_time": "2022-10-27T08:05:51.699442",
     "exception": false,
     "start_time": "2022-10-27T08:05:51.407720",
     "status": "completed"
    },
    "tags": []
   },
   "outputs": [
    {
     "data": {
      "text/html": [
       "<div>\n",
       "<style scoped>\n",
       "    .dataframe tbody tr th:only-of-type {\n",
       "        vertical-align: middle;\n",
       "    }\n",
       "\n",
       "    .dataframe tbody tr th {\n",
       "        vertical-align: top;\n",
       "    }\n",
       "\n",
       "    .dataframe thead th {\n",
       "        text-align: right;\n",
       "    }\n",
       "</style>\n",
       "<table border=\"1\" class=\"dataframe\">\n",
       "  <thead>\n",
       "    <tr style=\"text-align: right;\">\n",
       "      <th></th>\n",
       "      <th>ADDRESS</th>\n",
       "      <th>SUBURB</th>\n",
       "      <th>PRICE</th>\n",
       "      <th>BEDROOMS</th>\n",
       "      <th>BATHROOMS</th>\n",
       "      <th>GARAGE</th>\n",
       "      <th>LAND_AREA</th>\n",
       "      <th>FLOOR_AREA</th>\n",
       "      <th>BUILD_YEAR</th>\n",
       "      <th>CBD_DIST</th>\n",
       "      <th>NEAREST_STN</th>\n",
       "      <th>NEAREST_STN_DIST</th>\n",
       "      <th>DATE_SOLD</th>\n",
       "      <th>POSTCODE</th>\n",
       "      <th>LATITUDE</th>\n",
       "      <th>LONGITUDE</th>\n",
       "      <th>NEAREST_SCH</th>\n",
       "      <th>NEAREST_SCH_DIST</th>\n",
       "      <th>NEAREST_SCH_RANK</th>\n",
       "    </tr>\n",
       "  </thead>\n",
       "  <tbody>\n",
       "    <tr>\n",
       "      <th>0</th>\n",
       "      <td>1 Acorn Place</td>\n",
       "      <td>South Lake</td>\n",
       "      <td>565000</td>\n",
       "      <td>4</td>\n",
       "      <td>2</td>\n",
       "      <td>2.0</td>\n",
       "      <td>600</td>\n",
       "      <td>160</td>\n",
       "      <td>2003.0</td>\n",
       "      <td>18300</td>\n",
       "      <td>Cockburn Central Station</td>\n",
       "      <td>1800</td>\n",
       "      <td>09-2018\\r</td>\n",
       "      <td>6164</td>\n",
       "      <td>-32.115900</td>\n",
       "      <td>115.842450</td>\n",
       "      <td>LAKELAND SENIOR HIGH SCHOOL</td>\n",
       "      <td>0.828339</td>\n",
       "      <td>NaN</td>\n",
       "    </tr>\n",
       "    <tr>\n",
       "      <th>1</th>\n",
       "      <td>1 Addis Way</td>\n",
       "      <td>Wandi</td>\n",
       "      <td>365000</td>\n",
       "      <td>3</td>\n",
       "      <td>2</td>\n",
       "      <td>2.0</td>\n",
       "      <td>351</td>\n",
       "      <td>139</td>\n",
       "      <td>2013.0</td>\n",
       "      <td>26900</td>\n",
       "      <td>Kwinana Station</td>\n",
       "      <td>4900</td>\n",
       "      <td>02-2019\\r</td>\n",
       "      <td>6167</td>\n",
       "      <td>-32.193470</td>\n",
       "      <td>115.859554</td>\n",
       "      <td>ATWELL COLLEGE</td>\n",
       "      <td>5.524324</td>\n",
       "      <td>129.0</td>\n",
       "    </tr>\n",
       "    <tr>\n",
       "      <th>2</th>\n",
       "      <td>1 Ainsley Court</td>\n",
       "      <td>Camillo</td>\n",
       "      <td>287000</td>\n",
       "      <td>3</td>\n",
       "      <td>1</td>\n",
       "      <td>1.0</td>\n",
       "      <td>719</td>\n",
       "      <td>86</td>\n",
       "      <td>1979.0</td>\n",
       "      <td>22600</td>\n",
       "      <td>Challis Station</td>\n",
       "      <td>1900</td>\n",
       "      <td>06-2015\\r</td>\n",
       "      <td>6111</td>\n",
       "      <td>-32.120578</td>\n",
       "      <td>115.993579</td>\n",
       "      <td>KELMSCOTT SENIOR HIGH SCHOOL</td>\n",
       "      <td>1.649178</td>\n",
       "      <td>113.0</td>\n",
       "    </tr>\n",
       "    <tr>\n",
       "      <th>3</th>\n",
       "      <td>1 Albert Street</td>\n",
       "      <td>Bellevue</td>\n",
       "      <td>255000</td>\n",
       "      <td>2</td>\n",
       "      <td>1</td>\n",
       "      <td>2.0</td>\n",
       "      <td>651</td>\n",
       "      <td>59</td>\n",
       "      <td>1953.0</td>\n",
       "      <td>17900</td>\n",
       "      <td>Midland Station</td>\n",
       "      <td>3600</td>\n",
       "      <td>07-2018\\r</td>\n",
       "      <td>6056</td>\n",
       "      <td>-31.900547</td>\n",
       "      <td>116.038009</td>\n",
       "      <td>SWAN VIEW SENIOR HIGH SCHOOL</td>\n",
       "      <td>1.571401</td>\n",
       "      <td>NaN</td>\n",
       "    </tr>\n",
       "    <tr>\n",
       "      <th>4</th>\n",
       "      <td>1 Aman Place</td>\n",
       "      <td>Lockridge</td>\n",
       "      <td>325000</td>\n",
       "      <td>4</td>\n",
       "      <td>1</td>\n",
       "      <td>2.0</td>\n",
       "      <td>466</td>\n",
       "      <td>131</td>\n",
       "      <td>1998.0</td>\n",
       "      <td>11200</td>\n",
       "      <td>Bassendean Station</td>\n",
       "      <td>2000</td>\n",
       "      <td>11-2016\\r</td>\n",
       "      <td>6054</td>\n",
       "      <td>-31.885790</td>\n",
       "      <td>115.947780</td>\n",
       "      <td>KIARA COLLEGE</td>\n",
       "      <td>1.514922</td>\n",
       "      <td>NaN</td>\n",
       "    </tr>\n",
       "  </tbody>\n",
       "</table>\n",
       "</div>"
      ],
      "text/plain": [
       "           ADDRESS      SUBURB   PRICE  BEDROOMS  BATHROOMS  GARAGE  \\\n",
       "0    1 Acorn Place  South Lake  565000         4          2     2.0   \n",
       "1      1 Addis Way       Wandi  365000         3          2     2.0   \n",
       "2  1 Ainsley Court     Camillo  287000         3          1     1.0   \n",
       "3  1 Albert Street    Bellevue  255000         2          1     2.0   \n",
       "4     1 Aman Place   Lockridge  325000         4          1     2.0   \n",
       "\n",
       "   LAND_AREA  FLOOR_AREA  BUILD_YEAR  CBD_DIST               NEAREST_STN  \\\n",
       "0        600         160      2003.0     18300  Cockburn Central Station   \n",
       "1        351         139      2013.0     26900           Kwinana Station   \n",
       "2        719          86      1979.0     22600           Challis Station   \n",
       "3        651          59      1953.0     17900           Midland Station   \n",
       "4        466         131      1998.0     11200        Bassendean Station   \n",
       "\n",
       "   NEAREST_STN_DIST  DATE_SOLD  POSTCODE   LATITUDE   LONGITUDE  \\\n",
       "0              1800  09-2018\\r      6164 -32.115900  115.842450   \n",
       "1              4900  02-2019\\r      6167 -32.193470  115.859554   \n",
       "2              1900  06-2015\\r      6111 -32.120578  115.993579   \n",
       "3              3600  07-2018\\r      6056 -31.900547  116.038009   \n",
       "4              2000  11-2016\\r      6054 -31.885790  115.947780   \n",
       "\n",
       "                    NEAREST_SCH  NEAREST_SCH_DIST  NEAREST_SCH_RANK  \n",
       "0   LAKELAND SENIOR HIGH SCHOOL          0.828339               NaN  \n",
       "1                ATWELL COLLEGE          5.524324             129.0  \n",
       "2  KELMSCOTT SENIOR HIGH SCHOOL          1.649178             113.0  \n",
       "3  SWAN VIEW SENIOR HIGH SCHOOL          1.571401               NaN  \n",
       "4                 KIARA COLLEGE          1.514922               NaN  "
      ]
     },
     "execution_count": 2,
     "metadata": {},
     "output_type": "execute_result"
    }
   ],
   "source": [
    "df=pd.read_csv('../input/perth-house-prices/all_perth_310121.csv')\n",
    "df.head()"
   ]
  },
  {
   "cell_type": "code",
   "execution_count": 3,
   "id": "e3cb26d8",
   "metadata": {
    "execution": {
     "iopub.execute_input": "2022-10-27T08:05:51.709846Z",
     "iopub.status.busy": "2022-10-27T08:05:51.709395Z",
     "iopub.status.idle": "2022-10-27T08:05:51.749449Z",
     "shell.execute_reply": "2022-10-27T08:05:51.747489Z"
    },
    "papermill": {
     "duration": 0.05035,
     "end_time": "2022-10-27T08:05:51.754231",
     "exception": false,
     "start_time": "2022-10-27T08:05:51.703881",
     "status": "completed"
    },
    "tags": []
   },
   "outputs": [
    {
     "name": "stdout",
     "output_type": "stream",
     "text": [
      "<class 'pandas.core.frame.DataFrame'>\n",
      "RangeIndex: 33656 entries, 0 to 33655\n",
      "Data columns (total 19 columns):\n",
      " #   Column            Non-Null Count  Dtype  \n",
      "---  ------            --------------  -----  \n",
      " 0   ADDRESS           33656 non-null  object \n",
      " 1   SUBURB            33656 non-null  object \n",
      " 2   PRICE             33656 non-null  int64  \n",
      " 3   BEDROOMS          33656 non-null  int64  \n",
      " 4   BATHROOMS         33656 non-null  int64  \n",
      " 5   GARAGE            31178 non-null  float64\n",
      " 6   LAND_AREA         33656 non-null  int64  \n",
      " 7   FLOOR_AREA        33656 non-null  int64  \n",
      " 8   BUILD_YEAR        30501 non-null  float64\n",
      " 9   CBD_DIST          33656 non-null  int64  \n",
      " 10  NEAREST_STN       33656 non-null  object \n",
      " 11  NEAREST_STN_DIST  33656 non-null  int64  \n",
      " 12  DATE_SOLD         33656 non-null  object \n",
      " 13  POSTCODE          33656 non-null  int64  \n",
      " 14  LATITUDE          33656 non-null  float64\n",
      " 15  LONGITUDE         33656 non-null  float64\n",
      " 16  NEAREST_SCH       33656 non-null  object \n",
      " 17  NEAREST_SCH_DIST  33656 non-null  float64\n",
      " 18  NEAREST_SCH_RANK  22704 non-null  float64\n",
      "dtypes: float64(6), int64(8), object(5)\n",
      "memory usage: 4.9+ MB\n"
     ]
    }
   ],
   "source": [
    "df.info()"
   ]
  },
  {
   "cell_type": "code",
   "execution_count": 4,
   "id": "745bfc79",
   "metadata": {
    "execution": {
     "iopub.execute_input": "2022-10-27T08:05:51.765014Z",
     "iopub.status.busy": "2022-10-27T08:05:51.764590Z",
     "iopub.status.idle": "2022-10-27T08:05:51.804070Z",
     "shell.execute_reply": "2022-10-27T08:05:51.802613Z"
    },
    "papermill": {
     "duration": 0.048017,
     "end_time": "2022-10-27T08:05:51.806867",
     "exception": false,
     "start_time": "2022-10-27T08:05:51.758850",
     "status": "completed"
    },
    "tags": []
   },
   "outputs": [
    {
     "data": {
      "text/html": [
       "<div>\n",
       "<style scoped>\n",
       "    .dataframe tbody tr th:only-of-type {\n",
       "        vertical-align: middle;\n",
       "    }\n",
       "\n",
       "    .dataframe tbody tr th {\n",
       "        vertical-align: top;\n",
       "    }\n",
       "\n",
       "    .dataframe thead th {\n",
       "        text-align: right;\n",
       "    }\n",
       "</style>\n",
       "<table border=\"1\" class=\"dataframe\">\n",
       "  <thead>\n",
       "    <tr style=\"text-align: right;\">\n",
       "      <th></th>\n",
       "      <th>SUBURB</th>\n",
       "      <th>PRICE</th>\n",
       "      <th>BEDROOMS</th>\n",
       "      <th>BATHROOMS</th>\n",
       "      <th>GARAGE</th>\n",
       "      <th>LAND_AREA</th>\n",
       "      <th>FLOOR_AREA</th>\n",
       "      <th>BUILD_YEAR</th>\n",
       "      <th>CBD_DIST</th>\n",
       "      <th>NEAREST_STN</th>\n",
       "      <th>NEAREST_STN_DIST</th>\n",
       "      <th>DATE_SOLD</th>\n",
       "      <th>POSTCODE</th>\n",
       "      <th>LATITUDE</th>\n",
       "      <th>LONGITUDE</th>\n",
       "      <th>NEAREST_SCH</th>\n",
       "      <th>NEAREST_SCH_DIST</th>\n",
       "      <th>NEAREST_SCH_RANK</th>\n",
       "    </tr>\n",
       "    <tr>\n",
       "      <th>ADDRESS</th>\n",
       "      <th></th>\n",
       "      <th></th>\n",
       "      <th></th>\n",
       "      <th></th>\n",
       "      <th></th>\n",
       "      <th></th>\n",
       "      <th></th>\n",
       "      <th></th>\n",
       "      <th></th>\n",
       "      <th></th>\n",
       "      <th></th>\n",
       "      <th></th>\n",
       "      <th></th>\n",
       "      <th></th>\n",
       "      <th></th>\n",
       "      <th></th>\n",
       "      <th></th>\n",
       "      <th></th>\n",
       "    </tr>\n",
       "  </thead>\n",
       "  <tbody>\n",
       "    <tr>\n",
       "      <th>1 Acorn Place</th>\n",
       "      <td>South Lake</td>\n",
       "      <td>565000</td>\n",
       "      <td>4</td>\n",
       "      <td>2</td>\n",
       "      <td>2.0</td>\n",
       "      <td>600</td>\n",
       "      <td>160</td>\n",
       "      <td>2003.0</td>\n",
       "      <td>18300</td>\n",
       "      <td>Cockburn Central Station</td>\n",
       "      <td>1800</td>\n",
       "      <td>09-2018\\r</td>\n",
       "      <td>6164</td>\n",
       "      <td>-32.115900</td>\n",
       "      <td>115.842450</td>\n",
       "      <td>LAKELAND SENIOR HIGH SCHOOL</td>\n",
       "      <td>0.828339</td>\n",
       "      <td>NaN</td>\n",
       "    </tr>\n",
       "    <tr>\n",
       "      <th>1 Addis Way</th>\n",
       "      <td>Wandi</td>\n",
       "      <td>365000</td>\n",
       "      <td>3</td>\n",
       "      <td>2</td>\n",
       "      <td>2.0</td>\n",
       "      <td>351</td>\n",
       "      <td>139</td>\n",
       "      <td>2013.0</td>\n",
       "      <td>26900</td>\n",
       "      <td>Kwinana Station</td>\n",
       "      <td>4900</td>\n",
       "      <td>02-2019\\r</td>\n",
       "      <td>6167</td>\n",
       "      <td>-32.193470</td>\n",
       "      <td>115.859554</td>\n",
       "      <td>ATWELL COLLEGE</td>\n",
       "      <td>5.524324</td>\n",
       "      <td>129.0</td>\n",
       "    </tr>\n",
       "    <tr>\n",
       "      <th>1 Ainsley Court</th>\n",
       "      <td>Camillo</td>\n",
       "      <td>287000</td>\n",
       "      <td>3</td>\n",
       "      <td>1</td>\n",
       "      <td>1.0</td>\n",
       "      <td>719</td>\n",
       "      <td>86</td>\n",
       "      <td>1979.0</td>\n",
       "      <td>22600</td>\n",
       "      <td>Challis Station</td>\n",
       "      <td>1900</td>\n",
       "      <td>06-2015\\r</td>\n",
       "      <td>6111</td>\n",
       "      <td>-32.120578</td>\n",
       "      <td>115.993579</td>\n",
       "      <td>KELMSCOTT SENIOR HIGH SCHOOL</td>\n",
       "      <td>1.649178</td>\n",
       "      <td>113.0</td>\n",
       "    </tr>\n",
       "    <tr>\n",
       "      <th>1 Albert Street</th>\n",
       "      <td>Bellevue</td>\n",
       "      <td>255000</td>\n",
       "      <td>2</td>\n",
       "      <td>1</td>\n",
       "      <td>2.0</td>\n",
       "      <td>651</td>\n",
       "      <td>59</td>\n",
       "      <td>1953.0</td>\n",
       "      <td>17900</td>\n",
       "      <td>Midland Station</td>\n",
       "      <td>3600</td>\n",
       "      <td>07-2018\\r</td>\n",
       "      <td>6056</td>\n",
       "      <td>-31.900547</td>\n",
       "      <td>116.038009</td>\n",
       "      <td>SWAN VIEW SENIOR HIGH SCHOOL</td>\n",
       "      <td>1.571401</td>\n",
       "      <td>NaN</td>\n",
       "    </tr>\n",
       "    <tr>\n",
       "      <th>1 Aman Place</th>\n",
       "      <td>Lockridge</td>\n",
       "      <td>325000</td>\n",
       "      <td>4</td>\n",
       "      <td>1</td>\n",
       "      <td>2.0</td>\n",
       "      <td>466</td>\n",
       "      <td>131</td>\n",
       "      <td>1998.0</td>\n",
       "      <td>11200</td>\n",
       "      <td>Bassendean Station</td>\n",
       "      <td>2000</td>\n",
       "      <td>11-2016\\r</td>\n",
       "      <td>6054</td>\n",
       "      <td>-31.885790</td>\n",
       "      <td>115.947780</td>\n",
       "      <td>KIARA COLLEGE</td>\n",
       "      <td>1.514922</td>\n",
       "      <td>NaN</td>\n",
       "    </tr>\n",
       "  </tbody>\n",
       "</table>\n",
       "</div>"
      ],
      "text/plain": [
       "                     SUBURB   PRICE  BEDROOMS  BATHROOMS  GARAGE  LAND_AREA  \\\n",
       "ADDRESS                                                                       \n",
       "1 Acorn Place    South Lake  565000         4          2     2.0        600   \n",
       "1 Addis Way           Wandi  365000         3          2     2.0        351   \n",
       "1 Ainsley Court     Camillo  287000         3          1     1.0        719   \n",
       "1 Albert Street    Bellevue  255000         2          1     2.0        651   \n",
       "1 Aman Place      Lockridge  325000         4          1     2.0        466   \n",
       "\n",
       "                 FLOOR_AREA  BUILD_YEAR  CBD_DIST               NEAREST_STN  \\\n",
       "ADDRESS                                                                       \n",
       "1 Acorn Place           160      2003.0     18300  Cockburn Central Station   \n",
       "1 Addis Way             139      2013.0     26900           Kwinana Station   \n",
       "1 Ainsley Court          86      1979.0     22600           Challis Station   \n",
       "1 Albert Street          59      1953.0     17900           Midland Station   \n",
       "1 Aman Place            131      1998.0     11200        Bassendean Station   \n",
       "\n",
       "                 NEAREST_STN_DIST  DATE_SOLD  POSTCODE   LATITUDE   LONGITUDE  \\\n",
       "ADDRESS                                                                         \n",
       "1 Acorn Place                1800  09-2018\\r      6164 -32.115900  115.842450   \n",
       "1 Addis Way                  4900  02-2019\\r      6167 -32.193470  115.859554   \n",
       "1 Ainsley Court              1900  06-2015\\r      6111 -32.120578  115.993579   \n",
       "1 Albert Street              3600  07-2018\\r      6056 -31.900547  116.038009   \n",
       "1 Aman Place                 2000  11-2016\\r      6054 -31.885790  115.947780   \n",
       "\n",
       "                                  NEAREST_SCH  NEAREST_SCH_DIST  \\\n",
       "ADDRESS                                                           \n",
       "1 Acorn Place     LAKELAND SENIOR HIGH SCHOOL          0.828339   \n",
       "1 Addis Way                    ATWELL COLLEGE          5.524324   \n",
       "1 Ainsley Court  KELMSCOTT SENIOR HIGH SCHOOL          1.649178   \n",
       "1 Albert Street  SWAN VIEW SENIOR HIGH SCHOOL          1.571401   \n",
       "1 Aman Place                    KIARA COLLEGE          1.514922   \n",
       "\n",
       "                 NEAREST_SCH_RANK  \n",
       "ADDRESS                            \n",
       "1 Acorn Place                 NaN  \n",
       "1 Addis Way                 129.0  \n",
       "1 Ainsley Court             113.0  \n",
       "1 Albert Street               NaN  \n",
       "1 Aman Place                  NaN  "
      ]
     },
     "execution_count": 4,
     "metadata": {},
     "output_type": "execute_result"
    }
   ],
   "source": [
    "df.drop_duplicates(subset=['ADDRESS'],inplace=True)\n",
    "df.index=df['ADDRESS']\n",
    "del df['ADDRESS']\n",
    "df.head()"
   ]
  },
  {
   "cell_type": "code",
   "execution_count": 5,
   "id": "36513e84",
   "metadata": {
    "execution": {
     "iopub.execute_input": "2022-10-27T08:05:51.818431Z",
     "iopub.status.busy": "2022-10-27T08:05:51.817526Z",
     "iopub.status.idle": "2022-10-27T08:05:52.333524Z",
     "shell.execute_reply": "2022-10-27T08:05:52.332197Z"
    },
    "papermill": {
     "duration": 0.524879,
     "end_time": "2022-10-27T08:05:52.336530",
     "exception": false,
     "start_time": "2022-10-27T08:05:51.811651",
     "status": "completed"
    },
    "tags": []
   },
   "outputs": [
    {
     "data": {
      "image/png": "[encoded data removed]",
      "text/plain": [
       "<Figure size 576x360 with 1 Axes>"
      ]
     },
     "metadata": {
      "needs_background": "light"
     },
     "output_type": "display_data"
    }
   ],
   "source": [
    "fig, ax = plt.subplots(figsize =(8,5))\n",
    "nan_val = (df.isnull().sum()/len(df)*100).sort_values(ascending = False)\n",
    "cmap = sns.color_palette(\"plasma\")\n",
    "for i in ['top', 'right', 'bottom', 'left']:\n",
    "    ax.spines[i].set_color('black')\n",
    "ax.spines['top'].set_visible(True);ax.spines['right'].set_visible(False)\n",
    "ax.spines['bottom'].set_visible(False);ax.spines['left'].set_visible(False)\n",
    "sns.barplot(x=nan_val,y=nan_val.index, edgecolor='k',palette = 'rainbow')\n",
    "plt.title('Feature (NaN)%');ax.grid(ls='--',alpha = 0.9);plt.show()"
   ]
  },
  {
   "cell_type": "code",
   "execution_count": 6,
   "id": "5f09f84a",
   "metadata": {
    "execution": {
     "iopub.execute_input": "2022-10-27T08:05:52.349100Z",
     "iopub.status.busy": "2022-10-27T08:05:52.348643Z",
     "iopub.status.idle": "2022-10-27T08:05:52.375749Z",
     "shell.execute_reply": "2022-10-27T08:05:52.374066Z"
    },
    "papermill": {
     "duration": 0.037423,
     "end_time": "2022-10-27T08:05:52.379491",
     "exception": false,
     "start_time": "2022-10-27T08:05:52.342068",
     "status": "completed"
    },
    "tags": []
   },
   "outputs": [
    {
     "name": "stdout",
     "output_type": "stream",
     "text": [
      "(33566, 18)\n",
      "(20625, 18)\n"
     ]
    }
   ],
   "source": [
    "print(df.shape)\n",
    "df['GARAGE']=df['GARAGE'].fillna(0)\n",
    "df=df.dropna(axis=0,how='any')\n",
    "print(df.shape)"
   ]
  },
  {
   "cell_type": "code",
   "execution_count": 7,
   "id": "a2b485ae",
   "metadata": {
    "execution": {
     "iopub.execute_input": "2022-10-27T08:05:52.392042Z",
     "iopub.status.busy": "2022-10-27T08:05:52.391630Z",
     "iopub.status.idle": "2022-10-27T08:05:52.402145Z",
     "shell.execute_reply": "2022-10-27T08:05:52.401228Z"
    },
    "papermill": {
     "duration": 0.019575,
     "end_time": "2022-10-27T08:05:52.404431",
     "exception": false,
     "start_time": "2022-10-27T08:05:52.384856",
     "status": "completed"
    },
    "tags": []
   },
   "outputs": [],
   "source": [
    "df_num=df.select_dtypes(include=['float64','int64'])\n",
    "df_cat=df.select_dtypes(exclude=['float64','int64'])"
   ]
  },
  {
   "cell_type": "code",
   "execution_count": 8,
   "id": "84591cd6",
   "metadata": {
    "execution": {
     "iopub.execute_input": "2022-10-27T08:05:52.417307Z",
     "iopub.status.busy": "2022-10-27T08:05:52.416123Z",
     "iopub.status.idle": "2022-10-27T08:05:52.422864Z",
     "shell.execute_reply": "2022-10-27T08:05:52.421266Z"
    },
    "papermill": {
     "duration": 0.015832,
     "end_time": "2022-10-27T08:05:52.425509",
     "exception": false,
     "start_time": "2022-10-27T08:05:52.409677",
     "status": "completed"
    },
    "tags": []
   },
   "outputs": [
    {
     "name": "stdout",
     "output_type": "stream",
     "text": [
      "Index(['PRICE', 'BEDROOMS', 'BATHROOMS', 'GARAGE', 'LAND_AREA', 'FLOOR_AREA',\n",
      "       'BUILD_YEAR', 'CBD_DIST', 'NEAREST_STN_DIST', 'POSTCODE', 'LATITUDE',\n",
      "       'LONGITUDE', 'NEAREST_SCH_DIST', 'NEAREST_SCH_RANK'],\n",
      "      dtype='object')\n",
      "Index(['SUBURB', 'NEAREST_STN', 'DATE_SOLD', 'NEAREST_SCH'], dtype='object')\n"
     ]
    }
   ],
   "source": [
    "print(df_num.columns)\n",
    "print(df_cat.columns)"
   ]
  },
  {
   "cell_type": "code",
   "execution_count": 9,
   "id": "c0f6a6b7",
   "metadata": {
    "execution": {
     "iopub.execute_input": "2022-10-27T08:05:52.438147Z",
     "iopub.status.busy": "2022-10-27T08:05:52.437618Z",
     "iopub.status.idle": "2022-10-27T08:05:52.516997Z",
     "shell.execute_reply": "2022-10-27T08:05:52.515732Z"
    },
    "papermill": {
     "duration": 0.089282,
     "end_time": "2022-10-27T08:05:52.520030",
     "exception": false,
     "start_time": "2022-10-27T08:05:52.430748",
     "status": "completed"
    },
    "tags": []
   },
   "outputs": [],
   "source": [
    "df_cat['DATE_SOLD'].str.replace(\"\\\\r\",\"\")\n",
    "df_num[['SOLD_MONTH','SOLD_YEAR']]=df_cat['DATE_SOLD'].str.split('-',1,expand=True).astype('int64')\n",
    "df_cat.drop(['DATE_SOLD'],axis=1,inplace=True)\n",
    "df_num['BUILD_YEAR']=df_num['BUILD_YEAR'].apply(np.int64)"
   ]
  },
  {
   "cell_type": "code",
   "execution_count": 10,
   "id": "055bf690",
   "metadata": {
    "execution": {
     "iopub.execute_input": "2022-10-27T08:05:52.533192Z",
     "iopub.status.busy": "2022-10-27T08:05:52.532745Z",
     "iopub.status.idle": "2022-10-27T08:05:52.558002Z",
     "shell.execute_reply": "2022-10-27T08:05:52.556439Z"
    },
    "papermill": {
     "duration": 0.035336,
     "end_time": "2022-10-27T08:05:52.560960",
     "exception": false,
     "start_time": "2022-10-27T08:05:52.525624",
     "status": "completed"
    },
    "tags": []
   },
   "outputs": [
    {
     "name": "stdout",
     "output_type": "stream",
     "text": [
      "<class 'pandas.core.frame.DataFrame'>\n",
      "Index: 20625 entries, 1 Addis Way to 9C Gold Street\n",
      "Data columns (total 19 columns):\n",
      " #   Column            Non-Null Count  Dtype  \n",
      "---  ------            --------------  -----  \n",
      " 0   PRICE             20625 non-null  int64  \n",
      " 1   BEDROOMS          20625 non-null  int64  \n",
      " 2   BATHROOMS         20625 non-null  int64  \n",
      " 3   GARAGE            20625 non-null  float64\n",
      " 4   LAND_AREA         20625 non-null  int64  \n",
      " 5   FLOOR_AREA        20625 non-null  int64  \n",
      " 6   BUILD_YEAR        20625 non-null  int64  \n",
      " 7   CBD_DIST          20625 non-null  int64  \n",
      " 8   NEAREST_STN_DIST  20625 non-null  int64  \n",
      " 9   POSTCODE          20625 non-null  int64  \n",
      " 10  LATITUDE          20625 non-null  float64\n",
      " 11  LONGITUDE         20625 non-null  float64\n",
      " 12  NEAREST_SCH_DIST  20625 non-null  float64\n",
      " 13  NEAREST_SCH_RANK  20625 non-null  float64\n",
      " 14  SOLD_MONTH        20625 non-null  int64  \n",
      " 15  SOLD_YEAR         20625 non-null  int64  \n",
      " 16  SUBURB            20625 non-null  object \n",
      " 17  NEAREST_STN       20625 non-null  object \n",
      " 18  NEAREST_SCH       20625 non-null  object \n",
      "dtypes: float64(5), int64(11), object(3)\n",
      "memory usage: 3.1+ MB\n"
     ]
    }
   ],
   "source": [
    "df_perth=pd.concat([df_num,df_cat],axis=1)\n",
    "df_perth.info()"
   ]
  },
  {
   "cell_type": "code",
   "execution_count": null,
   "id": "60aadf42",
   "metadata": {
    "papermill": {
     "duration": 0.00487,
     "end_time": "2022-10-27T08:05:52.571166",
     "exception": false,
     "start_time": "2022-10-27T08:05:52.566296",
     "status": "completed"
    },
    "tags": []
   },
   "outputs": [],
   "source": []
  }
 ],
 "metadata": {
  "kernelspec": {
   "display_name": "Python 3",
   "language": "python",
   "name": "python3"
  },
  "language_info": {
   "codemirror_mode": {
    "name": "ipython",
    "version": 3
   },
   "file_extension": ".py",
   "mimetype": "text/x-python",
   "name": "python",
   "nbconvert_exporter": "python",
   "pygments_lexer": "ipython3",
   "version": "3.7.12"
  },
  "papermill": {
   "default_parameters": {},
   "duration": 16.710292,
   "end_time": "2022-10-27T08:05:53.499968",
   "environment_variables": {},
   "exception": null,
   "input_path": "__notebook__.ipynb",
   "output_path": "__notebook__.ipynb",
   "parameters": {},
   "start_time": "2022-10-27T08:05:36.789676",
   "version": "2.3.4"
  }
 },
 "nbformat": 4,
 "nbformat_minor": 5
}
