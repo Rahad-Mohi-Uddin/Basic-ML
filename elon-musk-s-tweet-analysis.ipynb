{
 "cells": [
  {
   "cell_type": "code",
   "execution_count": 1,
   "id": "a4a502e9",
   "metadata": {
    "_cell_guid": "b1076dfc-b9ad-4769-8c92-a6c4dae69d19",
    "_uuid": "8f2839f25d086af736a60e9eeb907d3b93b6e0e5",
    "execution": {
     "iopub.execute_input": "2022-11-24T15:50:07.964219Z",
     "iopub.status.busy": "2022-11-24T15:50:07.963739Z",
     "iopub.status.idle": "2022-11-24T15:50:07.989592Z",
     "shell.execute_reply": "2022-11-24T15:50:07.988730Z"
    },
    "papermill": {
     "duration": 0.03797,
     "end_time": "2022-11-24T15:50:07.992041",
     "exception": false,
     "start_time": "2022-11-24T15:50:07.954071",
     "status": "completed"
    },
    "tags": []
   },
   "outputs": [
    {
     "name": "stdout",
     "output_type": "stream",
     "text": [
      "/kaggle/input/elon-musks-tweets-dataset-2022/cleandata.csv\n",
      "/kaggle/input/elon-musks-tweets-dataset-2022/rawdata.csv\n",
      "/kaggle/input/elon-musks-tweets-dataset-2022/userinfo.csv\n"
     ]
    }
   ],
   "source": [
    "# This Python 3 environment comes with many helpful analytics libraries installed\n",
    "# It is defined by the kaggle/python Docker image: https://github.com/kaggle/docker-python\n",
    "# For example, here's several helpful packages to load\n",
    "\n",
    "import numpy as np # linear algebra\n",
    "import pandas as pd # data processing, CSV file I/O (e.g. pd.read_csv)\n",
    "\n",
    "# Input data files are available in the read-only \"../input/\" directory\n",
    "# For example, running this (by clicking run or pressing Shift+Enter) will list all files under the input directory\n",
    "\n",
    "import os\n",
    "for dirname, _, filenames in os.walk('/kaggle/input'):\n",
    "    for filename in filenames:\n",
    "        print(os.path.join(dirname, filename))\n",
    "\n",
    "# You can write up to 20GB to the current directory (/kaggle/working/) that gets preserved as output when you create a version using \"Save & Run All\" \n",
    "# You can also write temporary files to /kaggle/temp/, but they won't be saved outside of the current session"
   ]
  },
  {
   "cell_type": "code",
   "execution_count": 2,
   "id": "e18b1173",
   "metadata": {
    "execution": {
     "iopub.execute_input": "2022-11-24T15:50:08.004132Z",
     "iopub.status.busy": "2022-11-24T15:50:08.003380Z",
     "iopub.status.idle": "2022-11-24T15:50:09.973527Z",
     "shell.execute_reply": "2022-11-24T15:50:09.972071Z"
    },
    "papermill": {
     "duration": 1.979142,
     "end_time": "2022-11-24T15:50:09.976349",
     "exception": false,
     "start_time": "2022-11-24T15:50:07.997207",
     "status": "completed"
    },
    "tags": []
   },
   "outputs": [],
   "source": [
    "#import necessary libraries\n",
    "\n",
    "import pandas as pd \n",
    "import numpy as np \n",
    "import re\n",
    "from textblob import TextBlob\n",
    "\n",
    "%matplotlib inline \n",
    "import matplotlib.pyplot as plt \n",
    "import seaborn as sns \n",
    "\n",
    "import warnings\n",
    "warnings.filterwarnings(\"ignore\")"
   ]
  },
  {
   "cell_type": "code",
   "execution_count": 3,
   "id": "79e449f0",
   "metadata": {
    "execution": {
     "iopub.execute_input": "2022-11-24T15:50:09.988125Z",
     "iopub.status.busy": "2022-11-24T15:50:09.987587Z",
     "iopub.status.idle": "2022-11-24T15:50:10.041215Z",
     "shell.execute_reply": "2022-11-24T15:50:10.039917Z"
    },
    "papermill": {
     "duration": 0.062932,
     "end_time": "2022-11-24T15:50:10.044282",
     "exception": false,
     "start_time": "2022-11-24T15:50:09.981350",
     "status": "completed"
    },
    "tags": []
   },
   "outputs": [
    {
     "data": {
      "text/html": [
       "<div>\n",
       "<style scoped>\n",
       "    .dataframe tbody tr th:only-of-type {\n",
       "        vertical-align: middle;\n",
       "    }\n",
       "\n",
       "    .dataframe tbody tr th {\n",
       "        vertical-align: top;\n",
       "    }\n",
       "\n",
       "    .dataframe thead th {\n",
       "        text-align: right;\n",
       "    }\n",
       "</style>\n",
       "<table border=\"1\" class=\"dataframe\">\n",
       "  <thead>\n",
       "    <tr style=\"text-align: right;\">\n",
       "      <th></th>\n",
       "      <th>Tweets</th>\n",
       "      <th>Retweets</th>\n",
       "      <th>Likes</th>\n",
       "      <th>Date</th>\n",
       "    </tr>\n",
       "  </thead>\n",
       "  <tbody>\n",
       "    <tr>\n",
       "      <th>0</th>\n",
       "      <td>@PeterSchiff 🤣 thanks</td>\n",
       "      <td>209</td>\n",
       "      <td>7021</td>\n",
       "      <td>2022-10-27 16:17:39</td>\n",
       "    </tr>\n",
       "    <tr>\n",
       "      <th>1</th>\n",
       "      <td>@ZubyMusic Absolutely</td>\n",
       "      <td>755</td>\n",
       "      <td>26737</td>\n",
       "      <td>2022-10-27 13:19:25</td>\n",
       "    </tr>\n",
       "    <tr>\n",
       "      <th>2</th>\n",
       "      <td>Dear Twitter Advertisers https://t.co/GMwHmInPAS</td>\n",
       "      <td>55927</td>\n",
       "      <td>356623</td>\n",
       "      <td>2022-10-27 13:08:00</td>\n",
       "    </tr>\n",
       "    <tr>\n",
       "      <th>3</th>\n",
       "      <td>@BillyM2k 👻</td>\n",
       "      <td>802</td>\n",
       "      <td>19353</td>\n",
       "      <td>2022-10-27 02:32:48</td>\n",
       "    </tr>\n",
       "    <tr>\n",
       "      <th>4</th>\n",
       "      <td>Meeting a lot of cool people at Twitter today!</td>\n",
       "      <td>9366</td>\n",
       "      <td>195546</td>\n",
       "      <td>2022-10-26 21:39:32</td>\n",
       "    </tr>\n",
       "    <tr>\n",
       "      <th>5</th>\n",
       "      <td>Entering Twitter HQ – let that sink in! https:...</td>\n",
       "      <td>145520</td>\n",
       "      <td>1043592</td>\n",
       "      <td>2022-10-26 18:45:58</td>\n",
       "    </tr>\n",
       "    <tr>\n",
       "      <th>6</th>\n",
       "      <td>@dogeofficialceo @mtaibbi 🤣💪</td>\n",
       "      <td>194</td>\n",
       "      <td>3611</td>\n",
       "      <td>2022-10-26 17:18:30</td>\n",
       "    </tr>\n",
       "    <tr>\n",
       "      <th>7</th>\n",
       "      <td>@mtaibbi 🤣</td>\n",
       "      <td>117</td>\n",
       "      <td>2848</td>\n",
       "      <td>2022-10-26 17:14:07</td>\n",
       "    </tr>\n",
       "    <tr>\n",
       "      <th>8</th>\n",
       "      <td>@ARodTV Definitely closer to citizen journalis...</td>\n",
       "      <td>699</td>\n",
       "      <td>10189</td>\n",
       "      <td>2022-10-26 17:05:16</td>\n",
       "    </tr>\n",
       "    <tr>\n",
       "      <th>9</th>\n",
       "      <td>@sandyleevincent Nobody bats 1000 🤷‍♂️</td>\n",
       "      <td>126</td>\n",
       "      <td>2920</td>\n",
       "      <td>2022-10-26 15:42:50</td>\n",
       "    </tr>\n",
       "  </tbody>\n",
       "</table>\n",
       "</div>"
      ],
      "text/plain": [
       "                                              Tweets  Retweets    Likes  \\\n",
       "0                              @PeterSchiff 🤣 thanks       209     7021   \n",
       "1                              @ZubyMusic Absolutely       755    26737   \n",
       "2   Dear Twitter Advertisers https://t.co/GMwHmInPAS     55927   356623   \n",
       "3                                        @BillyM2k 👻       802    19353   \n",
       "4     Meeting a lot of cool people at Twitter today!      9366   195546   \n",
       "5  Entering Twitter HQ – let that sink in! https:...    145520  1043592   \n",
       "6                       @dogeofficialceo @mtaibbi 🤣💪       194     3611   \n",
       "7                                         @mtaibbi 🤣       117     2848   \n",
       "8  @ARodTV Definitely closer to citizen journalis...       699    10189   \n",
       "9             @sandyleevincent Nobody bats 1000 🤷‍♂️       126     2920   \n",
       "\n",
       "                  Date  \n",
       "0  2022-10-27 16:17:39  \n",
       "1  2022-10-27 13:19:25  \n",
       "2  2022-10-27 13:08:00  \n",
       "3  2022-10-27 02:32:48  \n",
       "4  2022-10-26 21:39:32  \n",
       "5  2022-10-26 18:45:58  \n",
       "6  2022-10-26 17:18:30  \n",
       "7  2022-10-26 17:14:07  \n",
       "8  2022-10-26 17:05:16  \n",
       "9  2022-10-26 15:42:50  "
      ]
     },
     "execution_count": 3,
     "metadata": {},
     "output_type": "execute_result"
    }
   ],
   "source": [
    "#read the raw dataset\n",
    "\n",
    "tweet=pd.read_csv(\"../input/elon-musks-tweets-dataset-2022/rawdata.csv\")\n",
    "tweet.head(10)"
   ]
  },
  {
   "cell_type": "markdown",
   "id": "a581639d",
   "metadata": {
    "papermill": {
     "duration": 0.005225,
     "end_time": "2022-11-24T15:50:10.055095",
     "exception": false,
     "start_time": "2022-11-24T15:50:10.049870",
     "status": "completed"
    },
    "tags": []
   },
   "source": [
    "First, we have to clean the tweets.\n",
    "Looking deep into the \"Tweets\" column we can observe there is a use of a lot of emojis, mentions, links and many more. "
   ]
  },
  {
   "cell_type": "code",
   "execution_count": 4,
   "id": "2873ad83",
   "metadata": {
    "execution": {
     "iopub.execute_input": "2022-11-24T15:50:10.067295Z",
     "iopub.status.busy": "2022-11-24T15:50:10.066831Z",
     "iopub.status.idle": "2022-11-24T15:50:10.078285Z",
     "shell.execute_reply": "2022-11-24T15:50:10.077367Z"
    },
    "papermill": {
     "duration": 0.020216,
     "end_time": "2022-11-24T15:50:10.080538",
     "exception": false,
     "start_time": "2022-11-24T15:50:10.060322",
     "status": "completed"
    },
    "tags": []
   },
   "outputs": [],
   "source": [
    "tweet['Date']=tweet.Date.str.slice(0,10)"
   ]
  },
  {
   "cell_type": "code",
   "execution_count": 5,
   "id": "84a35c55",
   "metadata": {
    "execution": {
     "iopub.execute_input": "2022-11-24T15:50:10.093432Z",
     "iopub.status.busy": "2022-11-24T15:50:10.092433Z",
     "iopub.status.idle": "2022-11-24T15:50:10.101269Z",
     "shell.execute_reply": "2022-11-24T15:50:10.100312Z"
    },
    "papermill": {
     "duration": 0.01802,
     "end_time": "2022-11-24T15:50:10.103845",
     "exception": false,
     "start_time": "2022-11-24T15:50:10.085825",
     "status": "completed"
    },
    "tags": []
   },
   "outputs": [],
   "source": [
    "#create a user define function to clean the text\n",
    "\n",
    "def clean_text(text):\n",
    "    #first include all possible emoji in a variable\n",
    "    emoji=re.compile(\"[\"\n",
    "                     u\"\\U0001F600-\\U0001F64F\"    #emoticons\n",
    "                     u\"\\U0001F300-\\U0001F5FF\"    #symbol & pictographs\n",
    "                     u\"\\U0001F680-\\U0001F6FF\"    #transport & map\n",
    "                     u\"\\U0001F1E0-\\U0001F1FF\"    #flags\n",
    "                     u\"\\U00002500-\\U00002BEF\"    #chinese char\n",
    "                     u\"\\U00002702-\\U000027B0\"\n",
    "                     u\"\\U000024C2-\\U0001F251\"\n",
    "                     u\"\\U0001f926-\\U0001f937\"\n",
    "                     u\"\\U00010000-\\U0010ffff\"\n",
    "                     u\"\\u2640-\\u2642\" \n",
    "                     u\"\\u2600-\\u2B55\"\n",
    "                     u\"\\u200d\"\n",
    "                     u\"\\u23cf\"\n",
    "                     u\"\\u23e9\"\n",
    "                     u\"\\u231a\"\n",
    "                     u\"\\ufe0f\"    # dingbats\n",
    "                     u\"\\u3030\"\n",
    "                              \"]+\", re.UNICODE)\n",
    "    text=re.sub('RT','',text)                       #remove 'RT' from tweets\n",
    "    text=re.sub('#[A-Za-z0-9]+','',text)            #remove hashtags from tweets\n",
    "    text=re.sub('\\\\n','',text)                      #remove \\n from the tweets\n",
    "    text=re.sub('https?://\\S+|www\\.\\S+','',text)    #remove the hyperlinks from the tweets\n",
    "    text=re.sub('@[\\S]*','',text)                   #remove the mentions from the tweets\n",
    "    text=re.sub('[^\\w\\s]','',text)                  #remove punctuation from the tweets\n",
    "    text=re.sub('^[\\s]+|[\\s]+$','',text)            #remove leading & trailing whitespace from the tweets\n",
    "    text=re.sub(emoji,'',text)                      #remove the emojis from the tweets\n",
    "    \n",
    "    return text"
   ]
  },
  {
   "cell_type": "code",
   "execution_count": 6,
   "id": "a191f21a",
   "metadata": {
    "execution": {
     "iopub.execute_input": "2022-11-24T15:50:10.116648Z",
     "iopub.status.busy": "2022-11-24T15:50:10.115949Z",
     "iopub.status.idle": "2022-11-24T15:50:10.195977Z",
     "shell.execute_reply": "2022-11-24T15:50:10.195053Z"
    },
    "papermill": {
     "duration": 0.089192,
     "end_time": "2022-11-24T15:50:10.198363",
     "exception": false,
     "start_time": "2022-11-24T15:50:10.109171",
     "status": "completed"
    },
    "tags": []
   },
   "outputs": [
    {
     "data": {
      "text/html": [
       "<div>\n",
       "<style scoped>\n",
       "    .dataframe tbody tr th:only-of-type {\n",
       "        vertical-align: middle;\n",
       "    }\n",
       "\n",
       "    .dataframe tbody tr th {\n",
       "        vertical-align: top;\n",
       "    }\n",
       "\n",
       "    .dataframe thead th {\n",
       "        text-align: right;\n",
       "    }\n",
       "</style>\n",
       "<table border=\"1\" class=\"dataframe\">\n",
       "  <thead>\n",
       "    <tr style=\"text-align: right;\">\n",
       "      <th></th>\n",
       "      <th>Tweets</th>\n",
       "      <th>Retweets</th>\n",
       "      <th>Likes</th>\n",
       "      <th>Date</th>\n",
       "      <th>CleanedTweets</th>\n",
       "    </tr>\n",
       "  </thead>\n",
       "  <tbody>\n",
       "    <tr>\n",
       "      <th>0</th>\n",
       "      <td>@PeterSchiff 🤣 thanks</td>\n",
       "      <td>209</td>\n",
       "      <td>7021</td>\n",
       "      <td>2022-10-27</td>\n",
       "      <td>thanks</td>\n",
       "    </tr>\n",
       "    <tr>\n",
       "      <th>1</th>\n",
       "      <td>@ZubyMusic Absolutely</td>\n",
       "      <td>755</td>\n",
       "      <td>26737</td>\n",
       "      <td>2022-10-27</td>\n",
       "      <td>Absolutely</td>\n",
       "    </tr>\n",
       "    <tr>\n",
       "      <th>2</th>\n",
       "      <td>Dear Twitter Advertisers https://t.co/GMwHmInPAS</td>\n",
       "      <td>55927</td>\n",
       "      <td>356623</td>\n",
       "      <td>2022-10-27</td>\n",
       "      <td>Dear Twitter Advertisers</td>\n",
       "    </tr>\n",
       "    <tr>\n",
       "      <th>3</th>\n",
       "      <td>@BillyM2k 👻</td>\n",
       "      <td>802</td>\n",
       "      <td>19353</td>\n",
       "      <td>2022-10-27</td>\n",
       "      <td></td>\n",
       "    </tr>\n",
       "    <tr>\n",
       "      <th>4</th>\n",
       "      <td>Meeting a lot of cool people at Twitter today!</td>\n",
       "      <td>9366</td>\n",
       "      <td>195546</td>\n",
       "      <td>2022-10-26</td>\n",
       "      <td>Meeting a lot of cool people at Twitter today</td>\n",
       "    </tr>\n",
       "    <tr>\n",
       "      <th>5</th>\n",
       "      <td>Entering Twitter HQ – let that sink in! https:...</td>\n",
       "      <td>145520</td>\n",
       "      <td>1043592</td>\n",
       "      <td>2022-10-26</td>\n",
       "      <td>Entering Twitter HQ  let that sink in</td>\n",
       "    </tr>\n",
       "    <tr>\n",
       "      <th>6</th>\n",
       "      <td>@dogeofficialceo @mtaibbi 🤣💪</td>\n",
       "      <td>194</td>\n",
       "      <td>3611</td>\n",
       "      <td>2022-10-26</td>\n",
       "      <td></td>\n",
       "    </tr>\n",
       "    <tr>\n",
       "      <th>7</th>\n",
       "      <td>@mtaibbi 🤣</td>\n",
       "      <td>117</td>\n",
       "      <td>2848</td>\n",
       "      <td>2022-10-26</td>\n",
       "      <td></td>\n",
       "    </tr>\n",
       "    <tr>\n",
       "      <th>8</th>\n",
       "      <td>@ARodTV Definitely closer to citizen journalis...</td>\n",
       "      <td>699</td>\n",
       "      <td>10189</td>\n",
       "      <td>2022-10-26</td>\n",
       "      <td>Definitely closer to citizen journalism  local...</td>\n",
       "    </tr>\n",
       "    <tr>\n",
       "      <th>9</th>\n",
       "      <td>@sandyleevincent Nobody bats 1000 🤷‍♂️</td>\n",
       "      <td>126</td>\n",
       "      <td>2920</td>\n",
       "      <td>2022-10-26</td>\n",
       "      <td>Nobody bats 1000</td>\n",
       "    </tr>\n",
       "  </tbody>\n",
       "</table>\n",
       "</div>"
      ],
      "text/plain": [
       "                                              Tweets  Retweets    Likes  \\\n",
       "0                              @PeterSchiff 🤣 thanks       209     7021   \n",
       "1                              @ZubyMusic Absolutely       755    26737   \n",
       "2   Dear Twitter Advertisers https://t.co/GMwHmInPAS     55927   356623   \n",
       "3                                        @BillyM2k 👻       802    19353   \n",
       "4     Meeting a lot of cool people at Twitter today!      9366   195546   \n",
       "5  Entering Twitter HQ – let that sink in! https:...    145520  1043592   \n",
       "6                       @dogeofficialceo @mtaibbi 🤣💪       194     3611   \n",
       "7                                         @mtaibbi 🤣       117     2848   \n",
       "8  @ARodTV Definitely closer to citizen journalis...       699    10189   \n",
       "9             @sandyleevincent Nobody bats 1000 🤷‍♂️       126     2920   \n",
       "\n",
       "         Date                                      CleanedTweets  \n",
       "0  2022-10-27                                             thanks  \n",
       "1  2022-10-27                                         Absolutely  \n",
       "2  2022-10-27                           Dear Twitter Advertisers  \n",
       "3  2022-10-27                                                     \n",
       "4  2022-10-26      Meeting a lot of cool people at Twitter today  \n",
       "5  2022-10-26              Entering Twitter HQ  let that sink in  \n",
       "6  2022-10-26                                                     \n",
       "7  2022-10-26                                                     \n",
       "8  2022-10-26  Definitely closer to citizen journalism  local...  \n",
       "9  2022-10-26                                   Nobody bats 1000  "
      ]
     },
     "execution_count": 6,
     "metadata": {},
     "output_type": "execute_result"
    }
   ],
   "source": [
    "#creating new column named CleanedTweets\n",
    "\n",
    "tweet['CleanedTweets']=tweet['Tweets'].apply(clean_text)\n",
    "tweet.head(10)"
   ]
  },
  {
   "cell_type": "markdown",
   "id": "dc0e4a8a",
   "metadata": {
    "papermill": {
     "duration": 0.00545,
     "end_time": "2022-11-24T15:50:10.209425",
     "exception": false,
     "start_time": "2022-11-24T15:50:10.203975",
     "status": "completed"
    },
    "tags": []
   },
   "source": [
    "Some of the rows in the CleanedTweets is blank. So let's remove those rows"
   ]
  },
  {
   "cell_type": "code",
   "execution_count": 7,
   "id": "636e48b3",
   "metadata": {
    "execution": {
     "iopub.execute_input": "2022-11-24T15:50:10.222793Z",
     "iopub.status.busy": "2022-11-24T15:50:10.222102Z",
     "iopub.status.idle": "2022-11-24T15:50:10.231811Z",
     "shell.execute_reply": "2022-11-24T15:50:10.230774Z"
    },
    "papermill": {
     "duration": 0.01933,
     "end_time": "2022-11-24T15:50:10.234447",
     "exception": false,
     "start_time": "2022-11-24T15:50:10.215117",
     "status": "completed"
    },
    "tags": []
   },
   "outputs": [],
   "source": [
    "#remove the blank rows\n",
    "\n",
    "tweet.drop(tweet[tweet['CleanedTweets']==''].index, inplace=True)"
   ]
  },
  {
   "cell_type": "code",
   "execution_count": 8,
   "id": "efcaf42c",
   "metadata": {
    "execution": {
     "iopub.execute_input": "2022-11-24T15:50:10.248168Z",
     "iopub.status.busy": "2022-11-24T15:50:10.247408Z",
     "iopub.status.idle": "2022-11-24T15:50:10.271046Z",
     "shell.execute_reply": "2022-11-24T15:50:10.269761Z"
    },
    "papermill": {
     "duration": 0.034381,
     "end_time": "2022-11-24T15:50:10.274397",
     "exception": false,
     "start_time": "2022-11-24T15:50:10.240016",
     "status": "completed"
    },
    "tags": []
   },
   "outputs": [
    {
     "name": "stdout",
     "output_type": "stream",
     "text": [
      "<class 'pandas.core.frame.DataFrame'>\n",
      "Int64Index: 2637 entries, 0 to 3059\n",
      "Data columns (total 5 columns):\n",
      " #   Column         Non-Null Count  Dtype \n",
      "---  ------         --------------  ----- \n",
      " 0   Tweets         2637 non-null   object\n",
      " 1   Retweets       2637 non-null   int64 \n",
      " 2   Likes          2637 non-null   int64 \n",
      " 3   Date           2637 non-null   object\n",
      " 4   CleanedTweets  2637 non-null   object\n",
      "dtypes: int64(2), object(3)\n",
      "memory usage: 123.6+ KB\n"
     ]
    }
   ],
   "source": [
    "tweet.info()"
   ]
  },
  {
   "cell_type": "code",
   "execution_count": 9,
   "id": "ac465a4b",
   "metadata": {
    "execution": {
     "iopub.execute_input": "2022-11-24T15:50:10.288490Z",
     "iopub.status.busy": "2022-11-24T15:50:10.287629Z",
     "iopub.status.idle": "2022-11-24T15:50:10.297073Z",
     "shell.execute_reply": "2022-11-24T15:50:10.295761Z"
    },
    "papermill": {
     "duration": 0.019197,
     "end_time": "2022-11-24T15:50:10.299618",
     "exception": false,
     "start_time": "2022-11-24T15:50:10.280421",
     "status": "completed"
    },
    "tags": []
   },
   "outputs": [
    {
     "data": {
      "text/plain": [
       "0                                           thanks\n",
       "1                                       Absolutely\n",
       "2                         Dear Twitter Advertisers\n",
       "4    Meeting a lot of cool people at Twitter today\n",
       "5            Entering Twitter HQ  let that sink in\n",
       "Name: CleanedTweets, dtype: object"
      ]
     },
     "execution_count": 9,
     "metadata": {},
     "output_type": "execute_result"
    }
   ],
   "source": [
    "tweet['CleanedTweets'].head()"
   ]
  },
  {
   "cell_type": "markdown",
   "id": "e748f0de",
   "metadata": {
    "papermill": {
     "duration": 0.005179,
     "end_time": "2022-11-24T15:50:10.310499",
     "exception": false,
     "start_time": "2022-11-24T15:50:10.305320",
     "status": "completed"
    },
    "tags": []
   },
   "source": [
    "## Sensitivity Analysis of the tweets"
   ]
  },
  {
   "cell_type": "code",
   "execution_count": 10,
   "id": "c09b26a6",
   "metadata": {
    "execution": {
     "iopub.execute_input": "2022-11-24T15:50:10.323171Z",
     "iopub.status.busy": "2022-11-24T15:50:10.322789Z",
     "iopub.status.idle": "2022-11-24T15:50:10.329697Z",
     "shell.execute_reply": "2022-11-24T15:50:10.328063Z"
    },
    "papermill": {
     "duration": 0.016459,
     "end_time": "2022-11-24T15:50:10.332374",
     "exception": false,
     "start_time": "2022-11-24T15:50:10.315915",
     "status": "completed"
    },
    "tags": []
   },
   "outputs": [],
   "source": [
    "#create a user define function to find out polarity & subjectivity\n",
    "\n",
    "def getPolarity(text):\n",
    "    return TextBlob(text).sentiment.polarity\n",
    "\n",
    "def getSubjectivity(text):\n",
    "    return TextBlob(text).sentiment.subjectivity\n",
    "\n",
    "#creating another user define function to label the sentiment \n",
    "\n",
    "def getSentiment(value):\n",
    "    if value<0:\n",
    "        return 'Negative'\n",
    "    elif value>0:\n",
    "        return 'Positive'\n",
    "    else:\n",
    "        return 'Neutral'"
   ]
  },
  {
   "cell_type": "code",
   "execution_count": 11,
   "id": "a96fad31",
   "metadata": {
    "execution": {
     "iopub.execute_input": "2022-11-24T15:50:10.345645Z",
     "iopub.status.busy": "2022-11-24T15:50:10.345182Z",
     "iopub.status.idle": "2022-11-24T15:50:11.527366Z",
     "shell.execute_reply": "2022-11-24T15:50:11.526032Z"
    },
    "papermill": {
     "duration": 1.191977,
     "end_time": "2022-11-24T15:50:11.530011",
     "exception": false,
     "start_time": "2022-11-24T15:50:10.338034",
     "status": "completed"
    },
    "tags": []
   },
   "outputs": [
    {
     "data": {
      "text/html": [
       "<div>\n",
       "<style scoped>\n",
       "    .dataframe tbody tr th:only-of-type {\n",
       "        vertical-align: middle;\n",
       "    }\n",
       "\n",
       "    .dataframe tbody tr th {\n",
       "        vertical-align: top;\n",
       "    }\n",
       "\n",
       "    .dataframe thead th {\n",
       "        text-align: right;\n",
       "    }\n",
       "</style>\n",
       "<table border=\"1\" class=\"dataframe\">\n",
       "  <thead>\n",
       "    <tr style=\"text-align: right;\">\n",
       "      <th></th>\n",
       "      <th>Tweets</th>\n",
       "      <th>Retweets</th>\n",
       "      <th>Likes</th>\n",
       "      <th>Date</th>\n",
       "      <th>CleanedTweets</th>\n",
       "      <th>Polarity</th>\n",
       "      <th>Subjectivity</th>\n",
       "      <th>Sentiment</th>\n",
       "      <th>Month</th>\n",
       "    </tr>\n",
       "  </thead>\n",
       "  <tbody>\n",
       "    <tr>\n",
       "      <th>0</th>\n",
       "      <td>@PeterSchiff 🤣 thanks</td>\n",
       "      <td>209</td>\n",
       "      <td>7021</td>\n",
       "      <td>2022-10-27</td>\n",
       "      <td>thanks</td>\n",
       "      <td>0.20</td>\n",
       "      <td>0.20</td>\n",
       "      <td>Positive</td>\n",
       "      <td>10</td>\n",
       "    </tr>\n",
       "    <tr>\n",
       "      <th>1</th>\n",
       "      <td>@ZubyMusic Absolutely</td>\n",
       "      <td>755</td>\n",
       "      <td>26737</td>\n",
       "      <td>2022-10-27</td>\n",
       "      <td>Absolutely</td>\n",
       "      <td>0.20</td>\n",
       "      <td>0.90</td>\n",
       "      <td>Positive</td>\n",
       "      <td>10</td>\n",
       "    </tr>\n",
       "    <tr>\n",
       "      <th>2</th>\n",
       "      <td>Dear Twitter Advertisers https://t.co/GMwHmInPAS</td>\n",
       "      <td>55927</td>\n",
       "      <td>356623</td>\n",
       "      <td>2022-10-27</td>\n",
       "      <td>Dear Twitter Advertisers</td>\n",
       "      <td>0.00</td>\n",
       "      <td>0.00</td>\n",
       "      <td>Neutral</td>\n",
       "      <td>10</td>\n",
       "    </tr>\n",
       "    <tr>\n",
       "      <th>4</th>\n",
       "      <td>Meeting a lot of cool people at Twitter today!</td>\n",
       "      <td>9366</td>\n",
       "      <td>195546</td>\n",
       "      <td>2022-10-26</td>\n",
       "      <td>Meeting a lot of cool people at Twitter today</td>\n",
       "      <td>0.35</td>\n",
       "      <td>0.65</td>\n",
       "      <td>Positive</td>\n",
       "      <td>10</td>\n",
       "    </tr>\n",
       "    <tr>\n",
       "      <th>5</th>\n",
       "      <td>Entering Twitter HQ – let that sink in! https:...</td>\n",
       "      <td>145520</td>\n",
       "      <td>1043592</td>\n",
       "      <td>2022-10-26</td>\n",
       "      <td>Entering Twitter HQ  let that sink in</td>\n",
       "      <td>0.00</td>\n",
       "      <td>0.00</td>\n",
       "      <td>Neutral</td>\n",
       "      <td>10</td>\n",
       "    </tr>\n",
       "  </tbody>\n",
       "</table>\n",
       "</div>"
      ],
      "text/plain": [
       "                                              Tweets  Retweets    Likes  \\\n",
       "0                              @PeterSchiff 🤣 thanks       209     7021   \n",
       "1                              @ZubyMusic Absolutely       755    26737   \n",
       "2   Dear Twitter Advertisers https://t.co/GMwHmInPAS     55927   356623   \n",
       "4     Meeting a lot of cool people at Twitter today!      9366   195546   \n",
       "5  Entering Twitter HQ – let that sink in! https:...    145520  1043592   \n",
       "\n",
       "         Date                                  CleanedTweets  Polarity  \\\n",
       "0  2022-10-27                                         thanks      0.20   \n",
       "1  2022-10-27                                     Absolutely      0.20   \n",
       "2  2022-10-27                       Dear Twitter Advertisers      0.00   \n",
       "4  2022-10-26  Meeting a lot of cool people at Twitter today      0.35   \n",
       "5  2022-10-26          Entering Twitter HQ  let that sink in      0.00   \n",
       "\n",
       "   Subjectivity Sentiment  Month  \n",
       "0          0.20  Positive     10  \n",
       "1          0.90  Positive     10  \n",
       "2          0.00   Neutral     10  \n",
       "4          0.65  Positive     10  \n",
       "5          0.00   Neutral     10  "
      ]
     },
     "execution_count": 11,
     "metadata": {},
     "output_type": "execute_result"
    }
   ],
   "source": [
    "tweet['Polarity']=tweet['CleanedTweets'].apply(getPolarity)\n",
    "tweet['Subjectivity']=tweet['CleanedTweets'].apply(getSubjectivity)\n",
    "tweet['Sentiment']=tweet['Polarity'].apply(getSentiment)\n",
    "tweet['Date']=tweet.Date.str.slice(0,10)\n",
    "tweet['Month']=pd.DatetimeIndex(tweet['Date']).month\n",
    "tweet.head()"
   ]
  },
  {
   "cell_type": "code",
   "execution_count": 12,
   "id": "35488db8",
   "metadata": {
    "execution": {
     "iopub.execute_input": "2022-11-24T15:50:11.545315Z",
     "iopub.status.busy": "2022-11-24T15:50:11.544908Z",
     "iopub.status.idle": "2022-11-24T15:50:11.738350Z",
     "shell.execute_reply": "2022-11-24T15:50:11.736544Z"
    },
    "papermill": {
     "duration": 0.206968,
     "end_time": "2022-11-24T15:50:11.743288",
     "exception": false,
     "start_time": "2022-11-24T15:50:11.536320",
     "status": "completed"
    },
    "tags": []
   },
   "outputs": [
    {
     "data": {
      "image/png": "[encoded data removed]",
      "text/plain": [
       "<Figure size 720x576 with 1 Axes>"
      ]
     },
     "metadata": {},
     "output_type": "display_data"
    }
   ],
   "source": [
    "plt.figure(figsize=(10,8))\n",
    "\n",
    "values=tweet['Sentiment'].value_counts()\n",
    "label=['Positive','Neutral','Negative']\n",
    "explode=[0.1,0,0]\n",
    "\n",
    "plt.pie(values,labels=label,explode=explode,autopct='%.0f%%')\n",
    "plt.show()"
   ]
  },
  {
   "cell_type": "code",
   "execution_count": 13,
   "id": "f675d357",
   "metadata": {
    "execution": {
     "iopub.execute_input": "2022-11-24T15:50:11.773467Z",
     "iopub.status.busy": "2022-11-24T15:50:11.773057Z",
     "iopub.status.idle": "2022-11-24T15:50:12.017591Z",
     "shell.execute_reply": "2022-11-24T15:50:12.016294Z"
    },
    "papermill": {
     "duration": 0.260301,
     "end_time": "2022-11-24T15:50:12.020461",
     "exception": false,
     "start_time": "2022-11-24T15:50:11.760160",
     "status": "completed"
    },
    "tags": []
   },
   "outputs": [
    {
     "data": {
      "image/png": "[encoded data removed]",
      "text/plain": [
       "<Figure size 480x480 with 1 Axes>"
      ]
     },
     "metadata": {},
     "output_type": "display_data"
    }
   ],
   "source": [
    "positive=[]\n",
    "neutral=[]\n",
    "negative=[]\n",
    "\n",
    "for i in tweet['Month'].unique():\n",
    "    \n",
    "    pos=tweet.loc[(tweet['Month']==i) & (tweet['Sentiment']=='Positive'),'Sentiment'].count()\n",
    "    positive.append(pos)\n",
    "    \n",
    "    neu=tweet.loc[(tweet['Month']==i) & (tweet['Sentiment']=='Neutral'),'Sentiment'].count()\n",
    "    neutral.append(neu)\n",
    "    \n",
    "    neg=tweet.loc[(tweet['Month']==i) & (tweet['Sentiment']=='Negative'),'Sentiment'].count()\n",
    "    negative.append(neg)\n",
    "\n",
    "date=tweet['Month'].unique().tolist()\n",
    "\n",
    "plt.style.use('seaborn-darkgrid')\n",
    "\n",
    "my_dpi=96\n",
    "plt.figure(figsize=(480/my_dpi, 480/my_dpi), dpi=my_dpi)\n",
    "\n",
    "plt.plot(date,neutral,marker='',color='grey',linewidth=1, alpha=0.4)\n",
    "plt.plot(date,negative,marker='',color='grey',linewidth=1, alpha=0.4)\n",
    "plt.plot(date,positive,marker='',color='orange',linewidth=4, alpha=0.7)\n",
    "\n",
    "plt.show()"
   ]
  },
  {
   "cell_type": "code",
   "execution_count": null,
   "id": "cc3c77b0",
   "metadata": {
    "papermill": {
     "duration": 0.006868,
     "end_time": "2022-11-24T15:50:12.034453",
     "exception": false,
     "start_time": "2022-11-24T15:50:12.027585",
     "status": "completed"
    },
    "tags": []
   },
   "outputs": [],
   "source": []
  }
 ],
 "metadata": {
  "kernelspec": {
   "display_name": "Python 3",
   "language": "python",
   "name": "python3"
  },
  "language_info": {
   "codemirror_mode": {
    "name": "ipython",
    "version": 3
   },
   "file_extension": ".py",
   "mimetype": "text/x-python",
   "name": "python",
   "nbconvert_exporter": "python",
   "pygments_lexer": "ipython3",
   "version": "3.7.12"
  },
  "papermill": {
   "default_parameters": {},
   "duration": 14.271584,
   "end_time": "2022-11-24T15:50:12.966014",
   "environment_variables": {},
   "exception": null,
   "input_path": "__notebook__.ipynb",
   "output_path": "__notebook__.ipynb",
   "parameters": {},
   "start_time": "2022-11-24T15:49:58.694430",
   "version": "2.3.4"
  }
 },
 "nbformat": 4,
 "nbformat_minor": 5
}
