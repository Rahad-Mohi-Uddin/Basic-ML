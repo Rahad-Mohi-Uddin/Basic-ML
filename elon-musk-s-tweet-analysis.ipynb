{
 "cells": [
  {
   "cell_type": "code",
   "execution_count": 1,
   "id": "35c99d5e",
   "metadata": {
    "_cell_guid": "b1076dfc-b9ad-4769-8c92-a6c4dae69d19",
    "_uuid": "8f2839f25d086af736a60e9eeb907d3b93b6e0e5",
    "execution": {
     "iopub.execute_input": "2022-11-19T20:10:01.065956Z",
     "iopub.status.busy": "2022-11-19T20:10:01.065428Z",
     "iopub.status.idle": "2022-11-19T20:10:01.086667Z",
     "shell.execute_reply": "2022-11-19T20:10:01.084988Z"
    },
    "papermill": {
     "duration": 0.031086,
     "end_time": "2022-11-19T20:10:01.090340",
     "exception": false,
     "start_time": "2022-11-19T20:10:01.059254",
     "status": "completed"
    },
    "tags": []
   },
   "outputs": [
    {
     "name": "stdout",
     "output_type": "stream",
     "text": [
      "/kaggle/input/elon-musks-tweets-dataset-2022/cleandata.csv\n",
      "/kaggle/input/elon-musks-tweets-dataset-2022/rawdata.csv\n",
      "/kaggle/input/elon-musks-tweets-dataset-2022/userinfo.csv\n"
     ]
    }
   ],
   "source": [
    "# This Python 3 environment comes with many helpful analytics libraries installed\n",
    "# It is defined by the kaggle/python Docker image: https://github.com/kaggle/docker-python\n",
    "# For example, here's several helpful packages to load\n",
    "\n",
    "import numpy as np # linear algebra\n",
    "import pandas as pd # data processing, CSV file I/O (e.g. pd.read_csv)\n",
    "\n",
    "# Input data files are available in the read-only \"../input/\" directory\n",
    "# For example, running this (by clicking run or pressing Shift+Enter) will list all files under the input directory\n",
    "\n",
    "import os\n",
    "for dirname, _, filenames in os.walk('/kaggle/input'):\n",
    "    for filename in filenames:\n",
    "        print(os.path.join(dirname, filename))\n",
    "\n",
    "# You can write up to 20GB to the current directory (/kaggle/working/) that gets preserved as output when you create a version using \"Save & Run All\" \n",
    "# You can also write temporary files to /kaggle/temp/, but they won't be saved outside of the current session"
   ]
  },
  {
   "cell_type": "code",
   "execution_count": 2,
   "id": "82101ca1",
   "metadata": {
    "execution": {
     "iopub.execute_input": "2022-11-19T20:10:01.099798Z",
     "iopub.status.busy": "2022-11-19T20:10:01.099398Z",
     "iopub.status.idle": "2022-11-19T20:10:03.295447Z",
     "shell.execute_reply": "2022-11-19T20:10:03.293743Z"
    },
    "papermill": {
     "duration": 2.204088,
     "end_time": "2022-11-19T20:10:03.298551",
     "exception": false,
     "start_time": "2022-11-19T20:10:01.094463",
     "status": "completed"
    },
    "tags": []
   },
   "outputs": [],
   "source": [
    "#import necessary libraries\n",
    "\n",
    "import pandas as pd \n",
    "import numpy as np \n",
    "import re\n",
    "from textblob import TextBlob\n",
    "\n",
    "%matplotlib inline \n",
    "import matplotlib.pyplot as plt \n",
    "import seaborn as sns \n",
    "\n",
    "import warnings\n",
    "warnings.filterwarnings(\"ignore\")"
   ]
  },
  {
   "cell_type": "code",
   "execution_count": 3,
   "id": "a6fab535",
   "metadata": {
    "execution": {
     "iopub.execute_input": "2022-11-19T20:10:03.309606Z",
     "iopub.status.busy": "2022-11-19T20:10:03.307995Z",
     "iopub.status.idle": "2022-11-19T20:10:03.358607Z",
     "shell.execute_reply": "2022-11-19T20:10:03.357097Z"
    },
    "papermill": {
     "duration": 0.058625,
     "end_time": "2022-11-19T20:10:03.361310",
     "exception": false,
     "start_time": "2022-11-19T20:10:03.302685",
     "status": "completed"
    },
    "tags": []
   },
   "outputs": [
    {
     "data": {
      "text/html": [
       "<div>\n",
       "<style scoped>\n",
       "    .dataframe tbody tr th:only-of-type {\n",
       "        vertical-align: middle;\n",
       "    }\n",
       "\n",
       "    .dataframe tbody tr th {\n",
       "        vertical-align: top;\n",
       "    }\n",
       "\n",
       "    .dataframe thead th {\n",
       "        text-align: right;\n",
       "    }\n",
       "</style>\n",
       "<table border=\"1\" class=\"dataframe\">\n",
       "  <thead>\n",
       "    <tr style=\"text-align: right;\">\n",
       "      <th></th>\n",
       "      <th>Tweets</th>\n",
       "      <th>Retweets</th>\n",
       "      <th>Likes</th>\n",
       "      <th>Date</th>\n",
       "    </tr>\n",
       "  </thead>\n",
       "  <tbody>\n",
       "    <tr>\n",
       "      <th>0</th>\n",
       "      <td>@PeterSchiff 🤣 thanks</td>\n",
       "      <td>209</td>\n",
       "      <td>7021</td>\n",
       "      <td>2022-10-27 16:17:39</td>\n",
       "    </tr>\n",
       "    <tr>\n",
       "      <th>1</th>\n",
       "      <td>@ZubyMusic Absolutely</td>\n",
       "      <td>755</td>\n",
       "      <td>26737</td>\n",
       "      <td>2022-10-27 13:19:25</td>\n",
       "    </tr>\n",
       "    <tr>\n",
       "      <th>2</th>\n",
       "      <td>Dear Twitter Advertisers https://t.co/GMwHmInPAS</td>\n",
       "      <td>55927</td>\n",
       "      <td>356623</td>\n",
       "      <td>2022-10-27 13:08:00</td>\n",
       "    </tr>\n",
       "    <tr>\n",
       "      <th>3</th>\n",
       "      <td>@BillyM2k 👻</td>\n",
       "      <td>802</td>\n",
       "      <td>19353</td>\n",
       "      <td>2022-10-27 02:32:48</td>\n",
       "    </tr>\n",
       "    <tr>\n",
       "      <th>4</th>\n",
       "      <td>Meeting a lot of cool people at Twitter today!</td>\n",
       "      <td>9366</td>\n",
       "      <td>195546</td>\n",
       "      <td>2022-10-26 21:39:32</td>\n",
       "    </tr>\n",
       "    <tr>\n",
       "      <th>5</th>\n",
       "      <td>Entering Twitter HQ – let that sink in! https:...</td>\n",
       "      <td>145520</td>\n",
       "      <td>1043592</td>\n",
       "      <td>2022-10-26 18:45:58</td>\n",
       "    </tr>\n",
       "    <tr>\n",
       "      <th>6</th>\n",
       "      <td>@dogeofficialceo @mtaibbi 🤣💪</td>\n",
       "      <td>194</td>\n",
       "      <td>3611</td>\n",
       "      <td>2022-10-26 17:18:30</td>\n",
       "    </tr>\n",
       "    <tr>\n",
       "      <th>7</th>\n",
       "      <td>@mtaibbi 🤣</td>\n",
       "      <td>117</td>\n",
       "      <td>2848</td>\n",
       "      <td>2022-10-26 17:14:07</td>\n",
       "    </tr>\n",
       "    <tr>\n",
       "      <th>8</th>\n",
       "      <td>@ARodTV Definitely closer to citizen journalis...</td>\n",
       "      <td>699</td>\n",
       "      <td>10189</td>\n",
       "      <td>2022-10-26 17:05:16</td>\n",
       "    </tr>\n",
       "    <tr>\n",
       "      <th>9</th>\n",
       "      <td>@sandyleevincent Nobody bats 1000 🤷‍♂️</td>\n",
       "      <td>126</td>\n",
       "      <td>2920</td>\n",
       "      <td>2022-10-26 15:42:50</td>\n",
       "    </tr>\n",
       "  </tbody>\n",
       "</table>\n",
       "</div>"
      ],
      "text/plain": [
       "                                              Tweets  Retweets    Likes  \\\n",
       "0                              @PeterSchiff 🤣 thanks       209     7021   \n",
       "1                              @ZubyMusic Absolutely       755    26737   \n",
       "2   Dear Twitter Advertisers https://t.co/GMwHmInPAS     55927   356623   \n",
       "3                                        @BillyM2k 👻       802    19353   \n",
       "4     Meeting a lot of cool people at Twitter today!      9366   195546   \n",
       "5  Entering Twitter HQ – let that sink in! https:...    145520  1043592   \n",
       "6                       @dogeofficialceo @mtaibbi 🤣💪       194     3611   \n",
       "7                                         @mtaibbi 🤣       117     2848   \n",
       "8  @ARodTV Definitely closer to citizen journalis...       699    10189   \n",
       "9             @sandyleevincent Nobody bats 1000 🤷‍♂️       126     2920   \n",
       "\n",
       "                  Date  \n",
       "0  2022-10-27 16:17:39  \n",
       "1  2022-10-27 13:19:25  \n",
       "2  2022-10-27 13:08:00  \n",
       "3  2022-10-27 02:32:48  \n",
       "4  2022-10-26 21:39:32  \n",
       "5  2022-10-26 18:45:58  \n",
       "6  2022-10-26 17:18:30  \n",
       "7  2022-10-26 17:14:07  \n",
       "8  2022-10-26 17:05:16  \n",
       "9  2022-10-26 15:42:50  "
      ]
     },
     "execution_count": 3,
     "metadata": {},
     "output_type": "execute_result"
    }
   ],
   "source": [
    "#read the raw dataset\n",
    "\n",
    "tweet=pd.read_csv(\"../input/elon-musks-tweets-dataset-2022/rawdata.csv\")\n",
    "tweet.head(10)"
   ]
  },
  {
   "cell_type": "markdown",
   "id": "01a8a3b0",
   "metadata": {
    "papermill": {
     "duration": 0.003418,
     "end_time": "2022-11-19T20:10:03.368877",
     "exception": false,
     "start_time": "2022-11-19T20:10:03.365459",
     "status": "completed"
    },
    "tags": []
   },
   "source": [
    "First, we have to clean the tweets.\n",
    "Looking deep into the \"Tweets\" column we can observe there is a use of a lot of emojis, mentions, links and many more. "
   ]
  },
  {
   "cell_type": "code",
   "execution_count": 4,
   "id": "3b19d3e6",
   "metadata": {
    "execution": {
     "iopub.execute_input": "2022-11-19T20:10:03.379050Z",
     "iopub.status.busy": "2022-11-19T20:10:03.377713Z",
     "iopub.status.idle": "2022-11-19T20:10:03.386840Z",
     "shell.execute_reply": "2022-11-19T20:10:03.385231Z"
    },
    "papermill": {
     "duration": 0.017298,
     "end_time": "2022-11-19T20:10:03.389884",
     "exception": false,
     "start_time": "2022-11-19T20:10:03.372586",
     "status": "completed"
    },
    "tags": []
   },
   "outputs": [],
   "source": [
    "#create a user define function to clean the text\n",
    "\n",
    "def clean_text(text):\n",
    "    #first include all possible emoji in a variable\n",
    "    emoji=re.compile(\"[\"\n",
    "                     u\"\\U0001F600-\\U0001F64F\"    #emoticons\n",
    "                     u\"\\U0001F300-\\U0001F5FF\"    #symbol & pictographs\n",
    "                     u\"\\U0001F680-\\U0001F6FF\"    #transport & map\n",
    "                     u\"\\U0001F1E0-\\U0001F1FF\"    #flags\n",
    "                     u\"\\U00002500-\\U00002BEF\"    #chinese char\n",
    "                     u\"\\U00002702-\\U000027B0\"\n",
    "                     u\"\\U000024C2-\\U0001F251\"\n",
    "                     u\"\\U0001f926-\\U0001f937\"\n",
    "                     u\"\\U00010000-\\U0010ffff\"\n",
    "                     u\"\\u2640-\\u2642\" \n",
    "                     u\"\\u2600-\\u2B55\"\n",
    "                     u\"\\u200d\"\n",
    "                     u\"\\u23cf\"\n",
    "                     u\"\\u23e9\"\n",
    "                     u\"\\u231a\"\n",
    "                     u\"\\ufe0f\"    # dingbats\n",
    "                     u\"\\u3030\"\n",
    "                              \"]+\", re.UNICODE)\n",
    "    text=re.sub('RT','',text)    #remove 'RT' from tweets\n",
    "    text=re.sub('#[A-Za-z0-9]+','',text)    #remove hashtags from tweets\n",
    "    text=re.sub('\\\\n','',text)    #remove \\n from the tweets\n",
    "    text=re.sub('https?:\\/\\/\\S+','',text)    #remove the hyperlinks from the tweets\n",
    "    text=re.sub('@[\\S]*','',text)    #remove the mentions from the tweets\n",
    "    text=re.sub('^[\\s]+|[\\s]+$','',text)    #remove leading & trailing whitespace from the tweets\n",
    "    text=re.sub(emoji,'',text)    #remove the emojis from the tweets\n",
    "    \n",
    "    return text"
   ]
  },
  {
   "cell_type": "code",
   "execution_count": 5,
   "id": "954aa9ac",
   "metadata": {
    "execution": {
     "iopub.execute_input": "2022-11-19T20:10:03.402159Z",
     "iopub.status.busy": "2022-11-19T20:10:03.401703Z",
     "iopub.status.idle": "2022-11-19T20:10:03.476310Z",
     "shell.execute_reply": "2022-11-19T20:10:03.475236Z"
    },
    "papermill": {
     "duration": 0.083752,
     "end_time": "2022-11-19T20:10:03.478372",
     "exception": false,
     "start_time": "2022-11-19T20:10:03.394620",
     "status": "completed"
    },
    "tags": []
   },
   "outputs": [
    {
     "data": {
      "text/html": [
       "<div>\n",
       "<style scoped>\n",
       "    .dataframe tbody tr th:only-of-type {\n",
       "        vertical-align: middle;\n",
       "    }\n",
       "\n",
       "    .dataframe tbody tr th {\n",
       "        vertical-align: top;\n",
       "    }\n",
       "\n",
       "    .dataframe thead th {\n",
       "        text-align: right;\n",
       "    }\n",
       "</style>\n",
       "<table border=\"1\" class=\"dataframe\">\n",
       "  <thead>\n",
       "    <tr style=\"text-align: right;\">\n",
       "      <th></th>\n",
       "      <th>Tweets</th>\n",
       "      <th>Retweets</th>\n",
       "      <th>Likes</th>\n",
       "      <th>Date</th>\n",
       "      <th>CleanedTweets</th>\n",
       "    </tr>\n",
       "  </thead>\n",
       "  <tbody>\n",
       "    <tr>\n",
       "      <th>0</th>\n",
       "      <td>@PeterSchiff 🤣 thanks</td>\n",
       "      <td>209</td>\n",
       "      <td>7021</td>\n",
       "      <td>2022-10-27 16:17:39</td>\n",
       "      <td>thanks</td>\n",
       "    </tr>\n",
       "    <tr>\n",
       "      <th>1</th>\n",
       "      <td>@ZubyMusic Absolutely</td>\n",
       "      <td>755</td>\n",
       "      <td>26737</td>\n",
       "      <td>2022-10-27 13:19:25</td>\n",
       "      <td>Absolutely</td>\n",
       "    </tr>\n",
       "    <tr>\n",
       "      <th>2</th>\n",
       "      <td>Dear Twitter Advertisers https://t.co/GMwHmInPAS</td>\n",
       "      <td>55927</td>\n",
       "      <td>356623</td>\n",
       "      <td>2022-10-27 13:08:00</td>\n",
       "      <td>Dear Twitter Advertisers</td>\n",
       "    </tr>\n",
       "    <tr>\n",
       "      <th>3</th>\n",
       "      <td>@BillyM2k 👻</td>\n",
       "      <td>802</td>\n",
       "      <td>19353</td>\n",
       "      <td>2022-10-27 02:32:48</td>\n",
       "      <td></td>\n",
       "    </tr>\n",
       "    <tr>\n",
       "      <th>4</th>\n",
       "      <td>Meeting a lot of cool people at Twitter today!</td>\n",
       "      <td>9366</td>\n",
       "      <td>195546</td>\n",
       "      <td>2022-10-26 21:39:32</td>\n",
       "      <td>Meeting a lot of cool people at Twitter today!</td>\n",
       "    </tr>\n",
       "    <tr>\n",
       "      <th>5</th>\n",
       "      <td>Entering Twitter HQ – let that sink in! https:...</td>\n",
       "      <td>145520</td>\n",
       "      <td>1043592</td>\n",
       "      <td>2022-10-26 18:45:58</td>\n",
       "      <td>Entering Twitter HQ – let that sink in!</td>\n",
       "    </tr>\n",
       "    <tr>\n",
       "      <th>6</th>\n",
       "      <td>@dogeofficialceo @mtaibbi 🤣💪</td>\n",
       "      <td>194</td>\n",
       "      <td>3611</td>\n",
       "      <td>2022-10-26 17:18:30</td>\n",
       "      <td></td>\n",
       "    </tr>\n",
       "    <tr>\n",
       "      <th>7</th>\n",
       "      <td>@mtaibbi 🤣</td>\n",
       "      <td>117</td>\n",
       "      <td>2848</td>\n",
       "      <td>2022-10-26 17:14:07</td>\n",
       "      <td></td>\n",
       "    </tr>\n",
       "    <tr>\n",
       "      <th>8</th>\n",
       "      <td>@ARodTV Definitely closer to citizen journalis...</td>\n",
       "      <td>699</td>\n",
       "      <td>10189</td>\n",
       "      <td>2022-10-26 17:05:16</td>\n",
       "      <td>Definitely closer to citizen journalism – loca...</td>\n",
       "    </tr>\n",
       "    <tr>\n",
       "      <th>9</th>\n",
       "      <td>@sandyleevincent Nobody bats 1000 🤷‍♂️</td>\n",
       "      <td>126</td>\n",
       "      <td>2920</td>\n",
       "      <td>2022-10-26 15:42:50</td>\n",
       "      <td>Nobody bats 1000</td>\n",
       "    </tr>\n",
       "  </tbody>\n",
       "</table>\n",
       "</div>"
      ],
      "text/plain": [
       "                                              Tweets  Retweets    Likes  \\\n",
       "0                              @PeterSchiff 🤣 thanks       209     7021   \n",
       "1                              @ZubyMusic Absolutely       755    26737   \n",
       "2   Dear Twitter Advertisers https://t.co/GMwHmInPAS     55927   356623   \n",
       "3                                        @BillyM2k 👻       802    19353   \n",
       "4     Meeting a lot of cool people at Twitter today!      9366   195546   \n",
       "5  Entering Twitter HQ – let that sink in! https:...    145520  1043592   \n",
       "6                       @dogeofficialceo @mtaibbi 🤣💪       194     3611   \n",
       "7                                         @mtaibbi 🤣       117     2848   \n",
       "8  @ARodTV Definitely closer to citizen journalis...       699    10189   \n",
       "9             @sandyleevincent Nobody bats 1000 🤷‍♂️       126     2920   \n",
       "\n",
       "                  Date                                      CleanedTweets  \n",
       "0  2022-10-27 16:17:39                                             thanks  \n",
       "1  2022-10-27 13:19:25                                         Absolutely  \n",
       "2  2022-10-27 13:08:00                           Dear Twitter Advertisers  \n",
       "3  2022-10-27 02:32:48                                                     \n",
       "4  2022-10-26 21:39:32     Meeting a lot of cool people at Twitter today!  \n",
       "5  2022-10-26 18:45:58            Entering Twitter HQ – let that sink in!  \n",
       "6  2022-10-26 17:18:30                                                     \n",
       "7  2022-10-26 17:14:07                                                     \n",
       "8  2022-10-26 17:05:16  Definitely closer to citizen journalism – loca...  \n",
       "9  2022-10-26 15:42:50                                  Nobody bats 1000   "
      ]
     },
     "execution_count": 5,
     "metadata": {},
     "output_type": "execute_result"
    }
   ],
   "source": [
    "#creating new column named CleanedTweets\n",
    "\n",
    "tweet['CleanedTweets']=tweet['Tweets'].apply(clean_text)\n",
    "tweet.head(10)"
   ]
  },
  {
   "cell_type": "markdown",
   "id": "985bbe6b",
   "metadata": {
    "papermill": {
     "duration": 0.004975,
     "end_time": "2022-11-19T20:10:03.487757",
     "exception": false,
     "start_time": "2022-11-19T20:10:03.482782",
     "status": "completed"
    },
    "tags": []
   },
   "source": [
    "Some of the rows in the CleanedTweets is blank. So let's remove those rows"
   ]
  },
  {
   "cell_type": "code",
   "execution_count": 6,
   "id": "a992299a",
   "metadata": {
    "execution": {
     "iopub.execute_input": "2022-11-19T20:10:03.499697Z",
     "iopub.status.busy": "2022-11-19T20:10:03.498885Z",
     "iopub.status.idle": "2022-11-19T20:10:03.514556Z",
     "shell.execute_reply": "2022-11-19T20:10:03.512356Z"
    },
    "papermill": {
     "duration": 0.024141,
     "end_time": "2022-11-19T20:10:03.517215",
     "exception": false,
     "start_time": "2022-11-19T20:10:03.493074",
     "status": "completed"
    },
    "tags": []
   },
   "outputs": [],
   "source": [
    "#remove the blank rows\n",
    "\n",
    "tweet.drop(tweet[tweet['CleanedTweets']==''].index, inplace=True)"
   ]
  },
  {
   "cell_type": "code",
   "execution_count": 7,
   "id": "4c41cd1c",
   "metadata": {
    "execution": {
     "iopub.execute_input": "2022-11-19T20:10:03.528539Z",
     "iopub.status.busy": "2022-11-19T20:10:03.528137Z",
     "iopub.status.idle": "2022-11-19T20:10:03.553645Z",
     "shell.execute_reply": "2022-11-19T20:10:03.552594Z"
    },
    "papermill": {
     "duration": 0.03321,
     "end_time": "2022-11-19T20:10:03.555462",
     "exception": false,
     "start_time": "2022-11-19T20:10:03.522252",
     "status": "completed"
    },
    "tags": []
   },
   "outputs": [
    {
     "name": "stdout",
     "output_type": "stream",
     "text": [
      "<class 'pandas.core.frame.DataFrame'>\n",
      "Int64Index: 2668 entries, 0 to 3059\n",
      "Data columns (total 5 columns):\n",
      " #   Column         Non-Null Count  Dtype \n",
      "---  ------         --------------  ----- \n",
      " 0   Tweets         2668 non-null   object\n",
      " 1   Retweets       2668 non-null   int64 \n",
      " 2   Likes          2668 non-null   int64 \n",
      " 3   Date           2668 non-null   object\n",
      " 4   CleanedTweets  2668 non-null   object\n",
      "dtypes: int64(2), object(3)\n",
      "memory usage: 125.1+ KB\n"
     ]
    }
   ],
   "source": [
    "tweet.info()"
   ]
  },
  {
   "cell_type": "code",
   "execution_count": 8,
   "id": "667a9124",
   "metadata": {
    "execution": {
     "iopub.execute_input": "2022-11-19T20:10:03.566068Z",
     "iopub.status.busy": "2022-11-19T20:10:03.564782Z",
     "iopub.status.idle": "2022-11-19T20:10:03.574839Z",
     "shell.execute_reply": "2022-11-19T20:10:03.573617Z"
    },
    "papermill": {
     "duration": 0.017802,
     "end_time": "2022-11-19T20:10:03.577418",
     "exception": false,
     "start_time": "2022-11-19T20:10:03.559616",
     "status": "completed"
    },
    "tags": []
   },
   "outputs": [
    {
     "data": {
      "text/plain": [
       "0                                            thanks\n",
       "1                                        Absolutely\n",
       "2                          Dear Twitter Advertisers\n",
       "4    Meeting a lot of cool people at Twitter today!\n",
       "5           Entering Twitter HQ – let that sink in!\n",
       "Name: CleanedTweets, dtype: object"
      ]
     },
     "execution_count": 8,
     "metadata": {},
     "output_type": "execute_result"
    }
   ],
   "source": [
    "tweet['CleanedTweets'].head()"
   ]
  },
  {
   "cell_type": "markdown",
   "id": "a18de01d",
   "metadata": {
    "papermill": {
     "duration": 0.003823,
     "end_time": "2022-11-19T20:10:03.585704",
     "exception": false,
     "start_time": "2022-11-19T20:10:03.581881",
     "status": "completed"
    },
    "tags": []
   },
   "source": [
    "## Sensitivity Analysis of the tweets"
   ]
  },
  {
   "cell_type": "code",
   "execution_count": 9,
   "id": "28498c6b",
   "metadata": {
    "execution": {
     "iopub.execute_input": "2022-11-19T20:10:03.595732Z",
     "iopub.status.busy": "2022-11-19T20:10:03.595358Z",
     "iopub.status.idle": "2022-11-19T20:10:03.601255Z",
     "shell.execute_reply": "2022-11-19T20:10:03.600113Z"
    },
    "papermill": {
     "duration": 0.013335,
     "end_time": "2022-11-19T20:10:03.603035",
     "exception": false,
     "start_time": "2022-11-19T20:10:03.589700",
     "status": "completed"
    },
    "tags": []
   },
   "outputs": [],
   "source": [
    "#create a user define function to find out polarity\n",
    "\n",
    "def getPolarity(text):\n",
    "    return TextBlob(text).sentiment.polarity\n",
    "\n",
    "#creating another user define function to label the sentiment \n",
    "\n",
    "def getSentiment(value):\n",
    "    if value<0:\n",
    "        return 'Negative'\n",
    "    elif value>0:\n",
    "        return 'Positive'\n",
    "    else:\n",
    "        return 'Neutral'"
   ]
  },
  {
   "cell_type": "code",
   "execution_count": 10,
   "id": "b8a4d9ba",
   "metadata": {
    "execution": {
     "iopub.execute_input": "2022-11-19T20:10:03.614331Z",
     "iopub.status.busy": "2022-11-19T20:10:03.613452Z",
     "iopub.status.idle": "2022-11-19T20:10:04.177478Z",
     "shell.execute_reply": "2022-11-19T20:10:04.175865Z"
    },
    "papermill": {
     "duration": 0.572793,
     "end_time": "2022-11-19T20:10:04.180312",
     "exception": false,
     "start_time": "2022-11-19T20:10:03.607519",
     "status": "completed"
    },
    "tags": []
   },
   "outputs": [
    {
     "data": {
      "text/html": [
       "<div>\n",
       "<style scoped>\n",
       "    .dataframe tbody tr th:only-of-type {\n",
       "        vertical-align: middle;\n",
       "    }\n",
       "\n",
       "    .dataframe tbody tr th {\n",
       "        vertical-align: top;\n",
       "    }\n",
       "\n",
       "    .dataframe thead th {\n",
       "        text-align: right;\n",
       "    }\n",
       "</style>\n",
       "<table border=\"1\" class=\"dataframe\">\n",
       "  <thead>\n",
       "    <tr style=\"text-align: right;\">\n",
       "      <th></th>\n",
       "      <th>Tweets</th>\n",
       "      <th>Retweets</th>\n",
       "      <th>Likes</th>\n",
       "      <th>Date</th>\n",
       "      <th>CleanedTweets</th>\n",
       "      <th>Polarity</th>\n",
       "      <th>Sentiment</th>\n",
       "    </tr>\n",
       "  </thead>\n",
       "  <tbody>\n",
       "    <tr>\n",
       "      <th>0</th>\n",
       "      <td>@PeterSchiff 🤣 thanks</td>\n",
       "      <td>209</td>\n",
       "      <td>7021</td>\n",
       "      <td>2022-10-27 16:17:39</td>\n",
       "      <td>thanks</td>\n",
       "      <td>0.200000</td>\n",
       "      <td>Positive</td>\n",
       "    </tr>\n",
       "    <tr>\n",
       "      <th>1</th>\n",
       "      <td>@ZubyMusic Absolutely</td>\n",
       "      <td>755</td>\n",
       "      <td>26737</td>\n",
       "      <td>2022-10-27 13:19:25</td>\n",
       "      <td>Absolutely</td>\n",
       "      <td>0.200000</td>\n",
       "      <td>Positive</td>\n",
       "    </tr>\n",
       "    <tr>\n",
       "      <th>2</th>\n",
       "      <td>Dear Twitter Advertisers https://t.co/GMwHmInPAS</td>\n",
       "      <td>55927</td>\n",
       "      <td>356623</td>\n",
       "      <td>2022-10-27 13:08:00</td>\n",
       "      <td>Dear Twitter Advertisers</td>\n",
       "      <td>0.000000</td>\n",
       "      <td>Neutral</td>\n",
       "    </tr>\n",
       "    <tr>\n",
       "      <th>4</th>\n",
       "      <td>Meeting a lot of cool people at Twitter today!</td>\n",
       "      <td>9366</td>\n",
       "      <td>195546</td>\n",
       "      <td>2022-10-26 21:39:32</td>\n",
       "      <td>Meeting a lot of cool people at Twitter today!</td>\n",
       "      <td>0.437500</td>\n",
       "      <td>Positive</td>\n",
       "    </tr>\n",
       "    <tr>\n",
       "      <th>5</th>\n",
       "      <td>Entering Twitter HQ – let that sink in! https:...</td>\n",
       "      <td>145520</td>\n",
       "      <td>1043592</td>\n",
       "      <td>2022-10-26 18:45:58</td>\n",
       "      <td>Entering Twitter HQ – let that sink in!</td>\n",
       "      <td>0.000000</td>\n",
       "      <td>Neutral</td>\n",
       "    </tr>\n",
       "    <tr>\n",
       "      <th>8</th>\n",
       "      <td>@ARodTV Definitely closer to citizen journalis...</td>\n",
       "      <td>699</td>\n",
       "      <td>10189</td>\n",
       "      <td>2022-10-26 17:05:16</td>\n",
       "      <td>Definitely closer to citizen journalism – loca...</td>\n",
       "      <td>0.166667</td>\n",
       "      <td>Positive</td>\n",
       "    </tr>\n",
       "    <tr>\n",
       "      <th>9</th>\n",
       "      <td>@sandyleevincent Nobody bats 1000 🤷‍♂️</td>\n",
       "      <td>126</td>\n",
       "      <td>2920</td>\n",
       "      <td>2022-10-26 15:42:50</td>\n",
       "      <td>Nobody bats 1000</td>\n",
       "      <td>0.000000</td>\n",
       "      <td>Neutral</td>\n",
       "    </tr>\n",
       "    <tr>\n",
       "      <th>10</th>\n",
       "      <td>A beautiful thing about Twitter is how it empo...</td>\n",
       "      <td>37951</td>\n",
       "      <td>294406</td>\n",
       "      <td>2022-10-26 15:27:40</td>\n",
       "      <td>A beautiful thing about Twitter is how it empo...</td>\n",
       "      <td>0.675000</td>\n",
       "      <td>Positive</td>\n",
       "    </tr>\n",
       "    <tr>\n",
       "      <th>11</th>\n",
       "      <td>@teslaownersSV I’m a big fan of citizen journa...</td>\n",
       "      <td>488</td>\n",
       "      <td>5529</td>\n",
       "      <td>2022-10-26 15:22:43</td>\n",
       "      <td>I’m a big fan of citizen journalism!</td>\n",
       "      <td>0.000000</td>\n",
       "      <td>Neutral</td>\n",
       "    </tr>\n",
       "    <tr>\n",
       "      <th>12</th>\n",
       "      <td>“According to unnamed sources close to the mat...</td>\n",
       "      <td>4603</td>\n",
       "      <td>62693</td>\n",
       "      <td>2022-10-26 14:50:58</td>\n",
       "      <td>“According to unnamed sources close to the mat...</td>\n",
       "      <td>0.000000</td>\n",
       "      <td>Neutral</td>\n",
       "    </tr>\n",
       "  </tbody>\n",
       "</table>\n",
       "</div>"
      ],
      "text/plain": [
       "                                               Tweets  Retweets    Likes  \\\n",
       "0                               @PeterSchiff 🤣 thanks       209     7021   \n",
       "1                               @ZubyMusic Absolutely       755    26737   \n",
       "2    Dear Twitter Advertisers https://t.co/GMwHmInPAS     55927   356623   \n",
       "4      Meeting a lot of cool people at Twitter today!      9366   195546   \n",
       "5   Entering Twitter HQ – let that sink in! https:...    145520  1043592   \n",
       "8   @ARodTV Definitely closer to citizen journalis...       699    10189   \n",
       "9              @sandyleevincent Nobody bats 1000 🤷‍♂️       126     2920   \n",
       "10  A beautiful thing about Twitter is how it empo...     37951   294406   \n",
       "11  @teslaownersSV I’m a big fan of citizen journa...       488     5529   \n",
       "12  “According to unnamed sources close to the mat...      4603    62693   \n",
       "\n",
       "                   Date                                      CleanedTweets  \\\n",
       "0   2022-10-27 16:17:39                                             thanks   \n",
       "1   2022-10-27 13:19:25                                         Absolutely   \n",
       "2   2022-10-27 13:08:00                           Dear Twitter Advertisers   \n",
       "4   2022-10-26 21:39:32     Meeting a lot of cool people at Twitter today!   \n",
       "5   2022-10-26 18:45:58            Entering Twitter HQ – let that sink in!   \n",
       "8   2022-10-26 17:05:16  Definitely closer to citizen journalism – loca...   \n",
       "9   2022-10-26 15:42:50                                  Nobody bats 1000    \n",
       "10  2022-10-26 15:27:40  A beautiful thing about Twitter is how it empo...   \n",
       "11  2022-10-26 15:22:43               I’m a big fan of citizen journalism!   \n",
       "12  2022-10-26 14:50:58  “According to unnamed sources close to the mat...   \n",
       "\n",
       "    Polarity Sentiment  \n",
       "0   0.200000  Positive  \n",
       "1   0.200000  Positive  \n",
       "2   0.000000   Neutral  \n",
       "4   0.437500  Positive  \n",
       "5   0.000000   Neutral  \n",
       "8   0.166667  Positive  \n",
       "9   0.000000   Neutral  \n",
       "10  0.675000  Positive  \n",
       "11  0.000000   Neutral  \n",
       "12  0.000000   Neutral  "
      ]
     },
     "execution_count": 10,
     "metadata": {},
     "output_type": "execute_result"
    }
   ],
   "source": [
    "tweet['Polarity']=tweet['CleanedTweets'].apply(getPolarity)\n",
    "tweet['Sentiment']=tweet['Polarity'].apply(getSentiment)\n",
    "\n",
    "tweet.head(10)"
   ]
  },
  {
   "cell_type": "code",
   "execution_count": null,
   "id": "7a4cfb06",
   "metadata": {
    "papermill": {
     "duration": 0.004112,
     "end_time": "2022-11-19T20:10:04.189356",
     "exception": false,
     "start_time": "2022-11-19T20:10:04.185244",
     "status": "completed"
    },
    "tags": []
   },
   "outputs": [],
   "source": []
  }
 ],
 "metadata": {
  "kernelspec": {
   "display_name": "Python 3",
   "language": "python",
   "name": "python3"
  },
  "language_info": {
   "codemirror_mode": {
    "name": "ipython",
    "version": 3
   },
   "file_extension": ".py",
   "mimetype": "text/x-python",
   "name": "python",
   "nbconvert_exporter": "python",
   "pygments_lexer": "ipython3",
   "version": "3.7.12"
  },
  "papermill": {
   "default_parameters": {},
   "duration": 12.103048,
   "end_time": "2022-11-19T20:10:05.017454",
   "environment_variables": {},
   "exception": null,
   "input_path": "__notebook__.ipynb",
   "output_path": "__notebook__.ipynb",
   "parameters": {},
   "start_time": "2022-11-19T20:09:52.914406",
   "version": "2.3.4"
  }
 },
 "nbformat": 4,
 "nbformat_minor": 5
}
