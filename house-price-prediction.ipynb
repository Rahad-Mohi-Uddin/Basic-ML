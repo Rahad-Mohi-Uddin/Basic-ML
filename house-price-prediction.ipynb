{
 "cells": [
  {
   "cell_type": "code",
   "execution_count": 1,
   "id": "50af2bad",
   "metadata": {
    "_cell_guid": "b1076dfc-b9ad-4769-8c92-a6c4dae69d19",
    "_uuid": "8f2839f25d086af736a60e9eeb907d3b93b6e0e5",
    "execution": {
     "iopub.execute_input": "2022-10-21T05:30:05.935121Z",
     "iopub.status.busy": "2022-10-21T05:30:05.934670Z",
     "iopub.status.idle": "2022-10-21T05:30:05.953340Z",
     "shell.execute_reply": "2022-10-21T05:30:05.952315Z"
    },
    "papermill": {
     "duration": 0.031386,
     "end_time": "2022-10-21T05:30:05.956153",
     "exception": false,
     "start_time": "2022-10-21T05:30:05.924767",
     "status": "completed"
    },
    "tags": []
   },
   "outputs": [
    {
     "name": "stdout",
     "output_type": "stream",
     "text": [
      "/kaggle/input/house-price-prediction-challenge/sample_submission.csv\n",
      "/kaggle/input/house-price-prediction-challenge/train.csv\n",
      "/kaggle/input/house-price-prediction-challenge/test.csv\n"
     ]
    }
   ],
   "source": [
    "# This Python 3 environment comes with many helpful analytics libraries installed\n",
    "# It is defined by the kaggle/python Docker image: https://github.com/kaggle/docker-python\n",
    "# For example, here's several helpful packages to load\n",
    "\n",
    "import numpy as np # linear algebra\n",
    "import pandas as pd # data processing, CSV file I/O (e.g. pd.read_csv)\n",
    "\n",
    "# Input data files are available in the read-only \"../input/\" directory\n",
    "# For example, running this (by clicking run or pressing Shift+Enter) will list all files under the input directory\n",
    "\n",
    "import os\n",
    "for dirname, _, filenames in os.walk('/kaggle/input'):\n",
    "    for filename in filenames:\n",
    "        print(os.path.join(dirname, filename))\n",
    "\n",
    "# You can write up to 20GB to the current directory (/kaggle/working/) that gets preserved as output when you create a version using \"Save & Run All\" \n",
    "# You can also write temporary files to /kaggle/temp/, but they won't be saved outside of the current session"
   ]
  },
  {
   "cell_type": "code",
   "execution_count": 2,
   "id": "be6fb69a",
   "metadata": {
    "execution": {
     "iopub.execute_input": "2022-10-21T05:30:05.972124Z",
     "iopub.status.busy": "2022-10-21T05:30:05.971242Z",
     "iopub.status.idle": "2022-10-21T05:30:07.337876Z",
     "shell.execute_reply": "2022-10-21T05:30:07.336677Z"
    },
    "papermill": {
     "duration": 1.377575,
     "end_time": "2022-10-21T05:30:07.340764",
     "exception": false,
     "start_time": "2022-10-21T05:30:05.963189",
     "status": "completed"
    },
    "tags": []
   },
   "outputs": [],
   "source": [
    "import pandas as pd \n",
    "import numpy as np \n",
    "\n",
    "%matplotlib inline \n",
    "import matplotlib.pyplot as plt \n",
    "import seaborn as sns\n",
    "\n",
    "from sklearn.model_selection import train_test_split\n",
    "from sklearn import preprocessing\n",
    "from sklearn.preprocessing import OneHotEncoder\n",
    "from sklearn.linear_model import LinearRegression\n",
    "from sklearn.tree import DecisionTreeRegressor\n",
    "from sklearn.ensemble import RandomForestRegressor\n",
    "\n",
    "from sklearn.metrics import r2_score,mean_squared_error"
   ]
  },
  {
   "cell_type": "code",
   "execution_count": 3,
   "id": "96f21d0c",
   "metadata": {
    "execution": {
     "iopub.execute_input": "2022-10-21T05:30:07.355684Z",
     "iopub.status.busy": "2022-10-21T05:30:07.355226Z",
     "iopub.status.idle": "2022-10-21T05:30:07.450950Z",
     "shell.execute_reply": "2022-10-21T05:30:07.449956Z"
    },
    "papermill": {
     "duration": 0.105927,
     "end_time": "2022-10-21T05:30:07.453388",
     "exception": false,
     "start_time": "2022-10-21T05:30:07.347461",
     "status": "completed"
    },
    "tags": []
   },
   "outputs": [],
   "source": [
    "df_train=pd.read_csv('../input/house-price-prediction-challenge/train.csv')"
   ]
  },
  {
   "cell_type": "code",
   "execution_count": 4,
   "id": "91d28b58",
   "metadata": {
    "execution": {
     "iopub.execute_input": "2022-10-21T05:30:07.469714Z",
     "iopub.status.busy": "2022-10-21T05:30:07.468496Z",
     "iopub.status.idle": "2022-10-21T05:30:07.474428Z",
     "shell.execute_reply": "2022-10-21T05:30:07.473609Z"
    },
    "papermill": {
     "duration": 0.016768,
     "end_time": "2022-10-21T05:30:07.477324",
     "exception": false,
     "start_time": "2022-10-21T05:30:07.460556",
     "status": "completed"
    },
    "tags": []
   },
   "outputs": [
    {
     "name": "stdout",
     "output_type": "stream",
     "text": [
      " train data: Rows=29451, Columns=12\n"
     ]
    }
   ],
   "source": [
    "print(f\" train data: Rows={df_train.shape[0]}, Columns={df_train.shape[1]}\")"
   ]
  },
  {
   "cell_type": "code",
   "execution_count": 5,
   "id": "360d3a6a",
   "metadata": {
    "execution": {
     "iopub.execute_input": "2022-10-21T05:30:07.493282Z",
     "iopub.status.busy": "2022-10-21T05:30:07.492846Z",
     "iopub.status.idle": "2022-10-21T05:30:07.517009Z",
     "shell.execute_reply": "2022-10-21T05:30:07.515714Z"
    },
    "papermill": {
     "duration": 0.034546,
     "end_time": "2022-10-21T05:30:07.519429",
     "exception": false,
     "start_time": "2022-10-21T05:30:07.484883",
     "status": "completed"
    },
    "tags": []
   },
   "outputs": [
    {
     "data": {
      "text/html": [
       "<div>\n",
       "<style scoped>\n",
       "    .dataframe tbody tr th:only-of-type {\n",
       "        vertical-align: middle;\n",
       "    }\n",
       "\n",
       "    .dataframe tbody tr th {\n",
       "        vertical-align: top;\n",
       "    }\n",
       "\n",
       "    .dataframe thead th {\n",
       "        text-align: right;\n",
       "    }\n",
       "</style>\n",
       "<table border=\"1\" class=\"dataframe\">\n",
       "  <thead>\n",
       "    <tr style=\"text-align: right;\">\n",
       "      <th></th>\n",
       "      <th>POSTED_BY</th>\n",
       "      <th>UNDER_CONSTRUCTION</th>\n",
       "      <th>RERA</th>\n",
       "      <th>BHK_NO.</th>\n",
       "      <th>BHK_OR_RK</th>\n",
       "      <th>SQUARE_FT</th>\n",
       "      <th>READY_TO_MOVE</th>\n",
       "      <th>RESALE</th>\n",
       "      <th>ADDRESS</th>\n",
       "      <th>LONGITUDE</th>\n",
       "      <th>LATITUDE</th>\n",
       "      <th>TARGET(PRICE_IN_LACS)</th>\n",
       "    </tr>\n",
       "  </thead>\n",
       "  <tbody>\n",
       "    <tr>\n",
       "      <th>0</th>\n",
       "      <td>Owner</td>\n",
       "      <td>0</td>\n",
       "      <td>0</td>\n",
       "      <td>2</td>\n",
       "      <td>BHK</td>\n",
       "      <td>1300.236407</td>\n",
       "      <td>1</td>\n",
       "      <td>1</td>\n",
       "      <td>Ksfc Layout,Bangalore</td>\n",
       "      <td>12.969910</td>\n",
       "      <td>77.597960</td>\n",
       "      <td>55.0</td>\n",
       "    </tr>\n",
       "    <tr>\n",
       "      <th>1</th>\n",
       "      <td>Dealer</td>\n",
       "      <td>0</td>\n",
       "      <td>0</td>\n",
       "      <td>2</td>\n",
       "      <td>BHK</td>\n",
       "      <td>1275.000000</td>\n",
       "      <td>1</td>\n",
       "      <td>1</td>\n",
       "      <td>Vishweshwara Nagar,Mysore</td>\n",
       "      <td>12.274538</td>\n",
       "      <td>76.644605</td>\n",
       "      <td>51.0</td>\n",
       "    </tr>\n",
       "    <tr>\n",
       "      <th>2</th>\n",
       "      <td>Owner</td>\n",
       "      <td>0</td>\n",
       "      <td>0</td>\n",
       "      <td>2</td>\n",
       "      <td>BHK</td>\n",
       "      <td>933.159722</td>\n",
       "      <td>1</td>\n",
       "      <td>1</td>\n",
       "      <td>Jigani,Bangalore</td>\n",
       "      <td>12.778033</td>\n",
       "      <td>77.632191</td>\n",
       "      <td>43.0</td>\n",
       "    </tr>\n",
       "    <tr>\n",
       "      <th>3</th>\n",
       "      <td>Owner</td>\n",
       "      <td>0</td>\n",
       "      <td>1</td>\n",
       "      <td>2</td>\n",
       "      <td>BHK</td>\n",
       "      <td>929.921143</td>\n",
       "      <td>1</td>\n",
       "      <td>1</td>\n",
       "      <td>Sector-1 Vaishali,Ghaziabad</td>\n",
       "      <td>28.642300</td>\n",
       "      <td>77.344500</td>\n",
       "      <td>62.5</td>\n",
       "    </tr>\n",
       "    <tr>\n",
       "      <th>4</th>\n",
       "      <td>Dealer</td>\n",
       "      <td>1</td>\n",
       "      <td>0</td>\n",
       "      <td>2</td>\n",
       "      <td>BHK</td>\n",
       "      <td>999.009247</td>\n",
       "      <td>0</td>\n",
       "      <td>1</td>\n",
       "      <td>New Town,Kolkata</td>\n",
       "      <td>22.592200</td>\n",
       "      <td>88.484911</td>\n",
       "      <td>60.5</td>\n",
       "    </tr>\n",
       "  </tbody>\n",
       "</table>\n",
       "</div>"
      ],
      "text/plain": [
       "  POSTED_BY  UNDER_CONSTRUCTION  RERA  BHK_NO. BHK_OR_RK    SQUARE_FT  \\\n",
       "0     Owner                   0     0        2       BHK  1300.236407   \n",
       "1    Dealer                   0     0        2       BHK  1275.000000   \n",
       "2     Owner                   0     0        2       BHK   933.159722   \n",
       "3     Owner                   0     1        2       BHK   929.921143   \n",
       "4    Dealer                   1     0        2       BHK   999.009247   \n",
       "\n",
       "   READY_TO_MOVE  RESALE                      ADDRESS  LONGITUDE   LATITUDE  \\\n",
       "0              1       1        Ksfc Layout,Bangalore  12.969910  77.597960   \n",
       "1              1       1    Vishweshwara Nagar,Mysore  12.274538  76.644605   \n",
       "2              1       1             Jigani,Bangalore  12.778033  77.632191   \n",
       "3              1       1  Sector-1 Vaishali,Ghaziabad  28.642300  77.344500   \n",
       "4              0       1             New Town,Kolkata  22.592200  88.484911   \n",
       "\n",
       "   TARGET(PRICE_IN_LACS)  \n",
       "0                   55.0  \n",
       "1                   51.0  \n",
       "2                   43.0  \n",
       "3                   62.5  \n",
       "4                   60.5  "
      ]
     },
     "execution_count": 5,
     "metadata": {},
     "output_type": "execute_result"
    }
   ],
   "source": [
    "df_train.head()"
   ]
  },
  {
   "cell_type": "code",
   "execution_count": 6,
   "id": "34a9eb83",
   "metadata": {
    "execution": {
     "iopub.execute_input": "2022-10-21T05:30:07.534575Z",
     "iopub.status.busy": "2022-10-21T05:30:07.534178Z",
     "iopub.status.idle": "2022-10-21T05:30:07.566171Z",
     "shell.execute_reply": "2022-10-21T05:30:07.564453Z"
    },
    "papermill": {
     "duration": 0.042946,
     "end_time": "2022-10-21T05:30:07.569312",
     "exception": false,
     "start_time": "2022-10-21T05:30:07.526366",
     "status": "completed"
    },
    "tags": []
   },
   "outputs": [
    {
     "name": "stdout",
     "output_type": "stream",
     "text": [
      "<class 'pandas.core.frame.DataFrame'>\n",
      "RangeIndex: 29451 entries, 0 to 29450\n",
      "Data columns (total 12 columns):\n",
      " #   Column                 Non-Null Count  Dtype  \n",
      "---  ------                 --------------  -----  \n",
      " 0   POSTED_BY              29451 non-null  object \n",
      " 1   UNDER_CONSTRUCTION     29451 non-null  int64  \n",
      " 2   RERA                   29451 non-null  int64  \n",
      " 3   BHK_NO.                29451 non-null  int64  \n",
      " 4   BHK_OR_RK              29451 non-null  object \n",
      " 5   SQUARE_FT              29451 non-null  float64\n",
      " 6   READY_TO_MOVE          29451 non-null  int64  \n",
      " 7   RESALE                 29451 non-null  int64  \n",
      " 8   ADDRESS                29451 non-null  object \n",
      " 9   LONGITUDE              29451 non-null  float64\n",
      " 10  LATITUDE               29451 non-null  float64\n",
      " 11  TARGET(PRICE_IN_LACS)  29451 non-null  float64\n",
      "dtypes: float64(4), int64(5), object(3)\n",
      "memory usage: 2.7+ MB\n"
     ]
    }
   ],
   "source": [
    "df_train.info()"
   ]
  },
  {
   "cell_type": "markdown",
   "id": "84c13185",
   "metadata": {
    "papermill": {
     "duration": 0.009357,
     "end_time": "2022-10-21T05:30:07.588793",
     "exception": false,
     "start_time": "2022-10-21T05:30:07.579436",
     "status": "completed"
    },
    "tags": []
   },
   "source": [
    "**There is no null value neither in train nor in test dataset**"
   ]
  },
  {
   "cell_type": "code",
   "execution_count": 7,
   "id": "6ede33f2",
   "metadata": {
    "execution": {
     "iopub.execute_input": "2022-10-21T05:30:07.606676Z",
     "iopub.status.busy": "2022-10-21T05:30:07.606147Z",
     "iopub.status.idle": "2022-10-21T05:30:07.633543Z",
     "shell.execute_reply": "2022-10-21T05:30:07.632347Z"
    },
    "papermill": {
     "duration": 0.040133,
     "end_time": "2022-10-21T05:30:07.636296",
     "exception": false,
     "start_time": "2022-10-21T05:30:07.596163",
     "status": "completed"
    },
    "tags": []
   },
   "outputs": [
    {
     "data": {
      "text/plain": [
       "0        Bangalore\n",
       "1           Mysore\n",
       "2        Bangalore\n",
       "3        Ghaziabad\n",
       "4          Kolkata\n",
       "           ...    \n",
       "29446         Agra\n",
       "29447         Vapi\n",
       "29448       Jaipur\n",
       "29449      Chennai\n",
       "29450       Jaipur\n",
       "Name: CITY, Length: 29451, dtype: object"
      ]
     },
     "execution_count": 7,
     "metadata": {},
     "output_type": "execute_result"
    }
   ],
   "source": [
    "df_train['CITY']=df_train['ADDRESS'].apply(lambda x: x.split(',')[-1])\n",
    "df_train['CITY']"
   ]
  },
  {
   "cell_type": "code",
   "execution_count": 8,
   "id": "69b86f83",
   "metadata": {
    "execution": {
     "iopub.execute_input": "2022-10-21T05:30:07.656505Z",
     "iopub.status.busy": "2022-10-21T05:30:07.656064Z",
     "iopub.status.idle": "2022-10-21T05:30:07.667535Z",
     "shell.execute_reply": "2022-10-21T05:30:07.665992Z"
    },
    "papermill": {
     "duration": 0.023481,
     "end_time": "2022-10-21T05:30:07.670570",
     "exception": false,
     "start_time": "2022-10-21T05:30:07.647089",
     "status": "completed"
    },
    "tags": []
   },
   "outputs": [],
   "source": [
    "train=df_train.drop(['ADDRESS','LONGITUDE','LATITUDE'],axis=1)"
   ]
  },
  {
   "cell_type": "code",
   "execution_count": 9,
   "id": "bcc9de94",
   "metadata": {
    "execution": {
     "iopub.execute_input": "2022-10-21T05:30:07.688112Z",
     "iopub.status.busy": "2022-10-21T05:30:07.687675Z",
     "iopub.status.idle": "2022-10-21T05:30:07.698545Z",
     "shell.execute_reply": "2022-10-21T05:30:07.697457Z"
    },
    "papermill": {
     "duration": 0.022547,
     "end_time": "2022-10-21T05:30:07.701005",
     "exception": false,
     "start_time": "2022-10-21T05:30:07.678458",
     "status": "completed"
    },
    "tags": []
   },
   "outputs": [],
   "source": [
    "def map_city(city):\n",
    "    if city in ['Ahmedabad', 'Bangalore', 'Chennai', 'Delhi', 'Hyderabad', 'Kolkata', 'Mumbai', 'Pune', 'Maharashtra']:\n",
    "        return 'tier1'\n",
    "    elif city in ['Agra', 'Ajmer', 'Aligarh', 'Amravati', 'Amritsar', 'Asansol', 'Aurangabad', 'Bareilly', \n",
    "                  'Belgaum', 'Bhavnagar', 'Bhiwandi', 'Bhopal', 'Bhubaneswar', 'Bikaner', 'Bilaspur', 'Bokaro Steel City', \n",
    "                  'Chandigarh', 'Coimbatore', 'Cuttack', 'Dehradun', 'Dhanbad', 'Bhilai', 'Durgapur', 'Dindigul', 'Erode', \n",
    "                  'Faridabad', 'Firozabad', 'Ghaziabad', 'Gorakhpur', 'Gulbarga', 'Guntur', 'Gwalior', 'Gurgaon', 'Guwahati', \n",
    "                  'Hamirpur', 'Hubli–Dharwad', 'Indore', 'Jabalpur', 'Jaipur', 'Jalandhar', 'Jammu', 'Jamnagar', 'Jamshedpur', \n",
    "                  'Jhansi', 'Jodhpur', 'Kakinada', 'Kannur', 'Kanpur', 'Karnal', 'Kochi', 'Kolhapur', 'Kollam', 'Kozhikode', \n",
    "                  'Kurnool', 'Ludhiana', 'Lucknow', 'Madurai', 'Malappuram', 'Mathura', 'Mangalore', 'Meerut', 'Moradabad', \n",
    "                  'Mysore', 'Nagpur', 'Nanded', 'Nashik', 'Nellore', 'Noida', 'Patna', 'Pondicherry', 'Purulia', 'Prayagraj', \n",
    "                  'Raipur', 'Rajkot', 'Rajahmundry', 'Ranchi', 'Rourkela', 'Ratlam', 'Salem', 'Sangli', 'Shimla', 'Siliguri', \n",
    "                  'Solapur', 'Srinagar', 'Surat', 'Thanjavur', 'Thiruvananthapuram', 'Thrissur', 'Tiruchirappalli', 'Tirunelveli', \n",
    "                  'Tiruvannamalai', 'Ujjain', 'Bijapur', 'Vadodara', 'Varanasi', 'Vasai-Virar City', 'Vijayawada', 'Visakhapatnam', \n",
    "                  'Vellore', 'Warangal']:\n",
    "        return 'tier2'\n",
    "    else:\n",
    "        return 'tier3'"
   ]
  },
  {
   "cell_type": "code",
   "execution_count": 10,
   "id": "9fa99a00",
   "metadata": {
    "execution": {
     "iopub.execute_input": "2022-10-21T05:30:07.717002Z",
     "iopub.status.busy": "2022-10-21T05:30:07.716536Z",
     "iopub.status.idle": "2022-10-21T05:30:07.749117Z",
     "shell.execute_reply": "2022-10-21T05:30:07.747887Z"
    },
    "papermill": {
     "duration": 0.043659,
     "end_time": "2022-10-21T05:30:07.751696",
     "exception": false,
     "start_time": "2022-10-21T05:30:07.708037",
     "status": "completed"
    },
    "tags": []
   },
   "outputs": [],
   "source": [
    "train['CITY']=train['CITY'].apply(map_city)"
   ]
  },
  {
   "cell_type": "code",
   "execution_count": 11,
   "id": "e44f7794",
   "metadata": {
    "execution": {
     "iopub.execute_input": "2022-10-21T05:30:07.768497Z",
     "iopub.status.busy": "2022-10-21T05:30:07.768056Z",
     "iopub.status.idle": "2022-10-21T05:30:07.784219Z",
     "shell.execute_reply": "2022-10-21T05:30:07.782857Z"
    },
    "papermill": {
     "duration": 0.026813,
     "end_time": "2022-10-21T05:30:07.786645",
     "exception": false,
     "start_time": "2022-10-21T05:30:07.759832",
     "status": "completed"
    },
    "tags": []
   },
   "outputs": [
    {
     "data": {
      "text/html": [
       "<div>\n",
       "<style scoped>\n",
       "    .dataframe tbody tr th:only-of-type {\n",
       "        vertical-align: middle;\n",
       "    }\n",
       "\n",
       "    .dataframe tbody tr th {\n",
       "        vertical-align: top;\n",
       "    }\n",
       "\n",
       "    .dataframe thead th {\n",
       "        text-align: right;\n",
       "    }\n",
       "</style>\n",
       "<table border=\"1\" class=\"dataframe\">\n",
       "  <thead>\n",
       "    <tr style=\"text-align: right;\">\n",
       "      <th></th>\n",
       "      <th>POSTED_BY</th>\n",
       "      <th>UNDER_CONSTRUCTION</th>\n",
       "      <th>RERA</th>\n",
       "      <th>BHK_NO.</th>\n",
       "      <th>BHK_OR_RK</th>\n",
       "      <th>SQUARE_FT</th>\n",
       "      <th>READY_TO_MOVE</th>\n",
       "      <th>RESALE</th>\n",
       "      <th>TARGET(PRICE_IN_LACS)</th>\n",
       "      <th>CITY</th>\n",
       "    </tr>\n",
       "  </thead>\n",
       "  <tbody>\n",
       "    <tr>\n",
       "      <th>0</th>\n",
       "      <td>Owner</td>\n",
       "      <td>0</td>\n",
       "      <td>0</td>\n",
       "      <td>2</td>\n",
       "      <td>BHK</td>\n",
       "      <td>1300.236407</td>\n",
       "      <td>1</td>\n",
       "      <td>1</td>\n",
       "      <td>55.0</td>\n",
       "      <td>tier1</td>\n",
       "    </tr>\n",
       "    <tr>\n",
       "      <th>1</th>\n",
       "      <td>Dealer</td>\n",
       "      <td>0</td>\n",
       "      <td>0</td>\n",
       "      <td>2</td>\n",
       "      <td>BHK</td>\n",
       "      <td>1275.000000</td>\n",
       "      <td>1</td>\n",
       "      <td>1</td>\n",
       "      <td>51.0</td>\n",
       "      <td>tier2</td>\n",
       "    </tr>\n",
       "    <tr>\n",
       "      <th>2</th>\n",
       "      <td>Owner</td>\n",
       "      <td>0</td>\n",
       "      <td>0</td>\n",
       "      <td>2</td>\n",
       "      <td>BHK</td>\n",
       "      <td>933.159722</td>\n",
       "      <td>1</td>\n",
       "      <td>1</td>\n",
       "      <td>43.0</td>\n",
       "      <td>tier1</td>\n",
       "    </tr>\n",
       "    <tr>\n",
       "      <th>3</th>\n",
       "      <td>Owner</td>\n",
       "      <td>0</td>\n",
       "      <td>1</td>\n",
       "      <td>2</td>\n",
       "      <td>BHK</td>\n",
       "      <td>929.921143</td>\n",
       "      <td>1</td>\n",
       "      <td>1</td>\n",
       "      <td>62.5</td>\n",
       "      <td>tier2</td>\n",
       "    </tr>\n",
       "    <tr>\n",
       "      <th>4</th>\n",
       "      <td>Dealer</td>\n",
       "      <td>1</td>\n",
       "      <td>0</td>\n",
       "      <td>2</td>\n",
       "      <td>BHK</td>\n",
       "      <td>999.009247</td>\n",
       "      <td>0</td>\n",
       "      <td>1</td>\n",
       "      <td>60.5</td>\n",
       "      <td>tier1</td>\n",
       "    </tr>\n",
       "  </tbody>\n",
       "</table>\n",
       "</div>"
      ],
      "text/plain": [
       "  POSTED_BY  UNDER_CONSTRUCTION  RERA  BHK_NO. BHK_OR_RK    SQUARE_FT  \\\n",
       "0     Owner                   0     0        2       BHK  1300.236407   \n",
       "1    Dealer                   0     0        2       BHK  1275.000000   \n",
       "2     Owner                   0     0        2       BHK   933.159722   \n",
       "3     Owner                   0     1        2       BHK   929.921143   \n",
       "4    Dealer                   1     0        2       BHK   999.009247   \n",
       "\n",
       "   READY_TO_MOVE  RESALE  TARGET(PRICE_IN_LACS)   CITY  \n",
       "0              1       1                   55.0  tier1  \n",
       "1              1       1                   51.0  tier2  \n",
       "2              1       1                   43.0  tier1  \n",
       "3              1       1                   62.5  tier2  \n",
       "4              0       1                   60.5  tier1  "
      ]
     },
     "execution_count": 11,
     "metadata": {},
     "output_type": "execute_result"
    }
   ],
   "source": [
    "train.head()"
   ]
  },
  {
   "cell_type": "code",
   "execution_count": 12,
   "id": "6b4a8dff",
   "metadata": {
    "execution": {
     "iopub.execute_input": "2022-10-21T05:30:07.803697Z",
     "iopub.status.busy": "2022-10-21T05:30:07.803287Z",
     "iopub.status.idle": "2022-10-21T05:30:07.808552Z",
     "shell.execute_reply": "2022-10-21T05:30:07.807564Z"
    },
    "papermill": {
     "duration": 0.016177,
     "end_time": "2022-10-21T05:30:07.810610",
     "exception": false,
     "start_time": "2022-10-21T05:30:07.794433",
     "status": "completed"
    },
    "tags": []
   },
   "outputs": [],
   "source": [
    "label_encoder=preprocessing.LabelEncoder()"
   ]
  },
  {
   "cell_type": "code",
   "execution_count": 13,
   "id": "a7a162d0",
   "metadata": {
    "execution": {
     "iopub.execute_input": "2022-10-21T05:30:07.827364Z",
     "iopub.status.busy": "2022-10-21T05:30:07.826544Z",
     "iopub.status.idle": "2022-10-21T05:30:07.866422Z",
     "shell.execute_reply": "2022-10-21T05:30:07.865234Z"
    },
    "papermill": {
     "duration": 0.050784,
     "end_time": "2022-10-21T05:30:07.868869",
     "exception": false,
     "start_time": "2022-10-21T05:30:07.818085",
     "status": "completed"
    },
    "tags": []
   },
   "outputs": [
    {
     "data": {
      "text/html": [
       "<div>\n",
       "<style scoped>\n",
       "    .dataframe tbody tr th:only-of-type {\n",
       "        vertical-align: middle;\n",
       "    }\n",
       "\n",
       "    .dataframe tbody tr th {\n",
       "        vertical-align: top;\n",
       "    }\n",
       "\n",
       "    .dataframe thead th {\n",
       "        text-align: right;\n",
       "    }\n",
       "</style>\n",
       "<table border=\"1\" class=\"dataframe\">\n",
       "  <thead>\n",
       "    <tr style=\"text-align: right;\">\n",
       "      <th></th>\n",
       "      <th>POSTED_BY</th>\n",
       "      <th>UNDER_CONSTRUCTION</th>\n",
       "      <th>RERA</th>\n",
       "      <th>BHK_NO.</th>\n",
       "      <th>BHK_OR_RK</th>\n",
       "      <th>SQUARE_FT</th>\n",
       "      <th>READY_TO_MOVE</th>\n",
       "      <th>RESALE</th>\n",
       "      <th>TARGET(PRICE_IN_LACS)</th>\n",
       "      <th>CITY</th>\n",
       "    </tr>\n",
       "  </thead>\n",
       "  <tbody>\n",
       "    <tr>\n",
       "      <th>0</th>\n",
       "      <td>2</td>\n",
       "      <td>0</td>\n",
       "      <td>0</td>\n",
       "      <td>2</td>\n",
       "      <td>0</td>\n",
       "      <td>1300.236407</td>\n",
       "      <td>1</td>\n",
       "      <td>1</td>\n",
       "      <td>55.0</td>\n",
       "      <td>0</td>\n",
       "    </tr>\n",
       "    <tr>\n",
       "      <th>1</th>\n",
       "      <td>1</td>\n",
       "      <td>0</td>\n",
       "      <td>0</td>\n",
       "      <td>2</td>\n",
       "      <td>0</td>\n",
       "      <td>1275.000000</td>\n",
       "      <td>1</td>\n",
       "      <td>1</td>\n",
       "      <td>51.0</td>\n",
       "      <td>1</td>\n",
       "    </tr>\n",
       "    <tr>\n",
       "      <th>2</th>\n",
       "      <td>2</td>\n",
       "      <td>0</td>\n",
       "      <td>0</td>\n",
       "      <td>2</td>\n",
       "      <td>0</td>\n",
       "      <td>933.159722</td>\n",
       "      <td>1</td>\n",
       "      <td>1</td>\n",
       "      <td>43.0</td>\n",
       "      <td>0</td>\n",
       "    </tr>\n",
       "    <tr>\n",
       "      <th>3</th>\n",
       "      <td>2</td>\n",
       "      <td>0</td>\n",
       "      <td>1</td>\n",
       "      <td>2</td>\n",
       "      <td>0</td>\n",
       "      <td>929.921143</td>\n",
       "      <td>1</td>\n",
       "      <td>1</td>\n",
       "      <td>62.5</td>\n",
       "      <td>1</td>\n",
       "    </tr>\n",
       "    <tr>\n",
       "      <th>4</th>\n",
       "      <td>1</td>\n",
       "      <td>1</td>\n",
       "      <td>0</td>\n",
       "      <td>2</td>\n",
       "      <td>0</td>\n",
       "      <td>999.009247</td>\n",
       "      <td>0</td>\n",
       "      <td>1</td>\n",
       "      <td>60.5</td>\n",
       "      <td>0</td>\n",
       "    </tr>\n",
       "  </tbody>\n",
       "</table>\n",
       "</div>"
      ],
      "text/plain": [
       "   POSTED_BY  UNDER_CONSTRUCTION  RERA  BHK_NO.  BHK_OR_RK    SQUARE_FT  \\\n",
       "0          2                   0     0        2          0  1300.236407   \n",
       "1          1                   0     0        2          0  1275.000000   \n",
       "2          2                   0     0        2          0   933.159722   \n",
       "3          2                   0     1        2          0   929.921143   \n",
       "4          1                   1     0        2          0   999.009247   \n",
       "\n",
       "   READY_TO_MOVE  RESALE  TARGET(PRICE_IN_LACS)  CITY  \n",
       "0              1       1                   55.0     0  \n",
       "1              1       1                   51.0     1  \n",
       "2              1       1                   43.0     0  \n",
       "3              1       1                   62.5     1  \n",
       "4              0       1                   60.5     0  "
      ]
     },
     "execution_count": 13,
     "metadata": {},
     "output_type": "execute_result"
    }
   ],
   "source": [
    "train['POSTED_BY']=label_encoder.fit_transform(train['POSTED_BY'])\n",
    "train['CITY']=label_encoder.fit_transform(train['CITY'])\n",
    "train['BHK_OR_RK']=label_encoder.fit_transform(train['BHK_OR_RK'])\n",
    "train.head()"
   ]
  },
  {
   "cell_type": "code",
   "execution_count": 14,
   "id": "9e507716",
   "metadata": {
    "execution": {
     "iopub.execute_input": "2022-10-21T05:30:07.885716Z",
     "iopub.status.busy": "2022-10-21T05:30:07.885321Z",
     "iopub.status.idle": "2022-10-21T05:30:07.893742Z",
     "shell.execute_reply": "2022-10-21T05:30:07.892914Z"
    },
    "papermill": {
     "duration": 0.019232,
     "end_time": "2022-10-21T05:30:07.895773",
     "exception": false,
     "start_time": "2022-10-21T05:30:07.876541",
     "status": "completed"
    },
    "tags": []
   },
   "outputs": [
    {
     "data": {
      "text/plain": [
       "0    7.170301\n",
       "1    7.150701\n",
       "2    6.838576\n",
       "3    6.835100\n",
       "4    6.906764\n",
       "Name: SQUARE_FT, dtype: float64"
      ]
     },
     "execution_count": 14,
     "metadata": {},
     "output_type": "execute_result"
    }
   ],
   "source": [
    "train['SQUARE_FT']=np.log(train['SQUARE_FT'])\n",
    "train['SQUARE_FT'].head()"
   ]
  },
  {
   "cell_type": "code",
   "execution_count": 15,
   "id": "19280b39",
   "metadata": {
    "execution": {
     "iopub.execute_input": "2022-10-21T05:30:07.914138Z",
     "iopub.status.busy": "2022-10-21T05:30:07.913451Z",
     "iopub.status.idle": "2022-10-21T05:30:07.921908Z",
     "shell.execute_reply": "2022-10-21T05:30:07.920827Z"
    },
    "papermill": {
     "duration": 0.020602,
     "end_time": "2022-10-21T05:30:07.924305",
     "exception": false,
     "start_time": "2022-10-21T05:30:07.903703",
     "status": "completed"
    },
    "tags": []
   },
   "outputs": [],
   "source": [
    "X=train.drop(['TARGET(PRICE_IN_LACS)'],axis=1)\n",
    "y=train['TARGET(PRICE_IN_LACS)']"
   ]
  },
  {
   "cell_type": "code",
   "execution_count": 16,
   "id": "75b892d4",
   "metadata": {
    "execution": {
     "iopub.execute_input": "2022-10-21T05:30:07.941077Z",
     "iopub.status.busy": "2022-10-21T05:30:07.940705Z",
     "iopub.status.idle": "2022-10-21T05:30:07.949811Z",
     "shell.execute_reply": "2022-10-21T05:30:07.948443Z"
    },
    "papermill": {
     "duration": 0.020055,
     "end_time": "2022-10-21T05:30:07.951975",
     "exception": false,
     "start_time": "2022-10-21T05:30:07.931920",
     "status": "completed"
    },
    "tags": []
   },
   "outputs": [
    {
     "data": {
      "text/plain": [
       "0    55.0\n",
       "1    51.0\n",
       "2    43.0\n",
       "3    62.5\n",
       "4    60.5\n",
       "Name: TARGET(PRICE_IN_LACS), dtype: float64"
      ]
     },
     "execution_count": 16,
     "metadata": {},
     "output_type": "execute_result"
    }
   ],
   "source": [
    "y.head()"
   ]
  },
  {
   "cell_type": "code",
   "execution_count": 17,
   "id": "803a74d4",
   "metadata": {
    "execution": {
     "iopub.execute_input": "2022-10-21T05:30:07.969120Z",
     "iopub.status.busy": "2022-10-21T05:30:07.968712Z",
     "iopub.status.idle": "2022-10-21T05:30:07.982177Z",
     "shell.execute_reply": "2022-10-21T05:30:07.981211Z"
    },
    "papermill": {
     "duration": 0.024975,
     "end_time": "2022-10-21T05:30:07.984697",
     "exception": false,
     "start_time": "2022-10-21T05:30:07.959722",
     "status": "completed"
    },
    "tags": []
   },
   "outputs": [],
   "source": [
    "X_train,X_test,y_train,y_test=train_test_split(X,y,test_size=0.3,random_state=100)"
   ]
  },
  {
   "cell_type": "code",
   "execution_count": 18,
   "id": "ae87b97b",
   "metadata": {
    "execution": {
     "iopub.execute_input": "2022-10-21T05:30:08.001965Z",
     "iopub.status.busy": "2022-10-21T05:30:08.001562Z",
     "iopub.status.idle": "2022-10-21T05:30:08.007954Z",
     "shell.execute_reply": "2022-10-21T05:30:08.006824Z"
    },
    "papermill": {
     "duration": 0.018367,
     "end_time": "2022-10-21T05:30:08.010841",
     "exception": false,
     "start_time": "2022-10-21T05:30:07.992474",
     "status": "completed"
    },
    "tags": []
   },
   "outputs": [
    {
     "name": "stdout",
     "output_type": "stream",
     "text": [
      "(20615, 9)\n",
      "(20615,)\n",
      "(8836, 9)\n",
      "(8836,)\n"
     ]
    }
   ],
   "source": [
    "print(X_train.shape)\n",
    "print(y_train.shape)\n",
    "print(X_test.shape)\n",
    "print(y_test.shape)"
   ]
  },
  {
   "cell_type": "code",
   "execution_count": 19,
   "id": "65917867",
   "metadata": {
    "execution": {
     "iopub.execute_input": "2022-10-21T05:30:08.028134Z",
     "iopub.status.busy": "2022-10-21T05:30:08.027722Z",
     "iopub.status.idle": "2022-10-21T05:30:08.065920Z",
     "shell.execute_reply": "2022-10-21T05:30:08.064447Z"
    },
    "papermill": {
     "duration": 0.054155,
     "end_time": "2022-10-21T05:30:08.072901",
     "exception": false,
     "start_time": "2022-10-21T05:30:08.018746",
     "status": "completed"
    },
    "tags": []
   },
   "outputs": [
    {
     "data": {
      "text/plain": [
       "array([-470.625  ,   47.0625 ,  148.03125, ...,  -55.625  ,  -14.9375 ,\n",
       "       -462.5625 ])"
      ]
     },
     "execution_count": 19,
     "metadata": {},
     "output_type": "execute_result"
    }
   ],
   "source": [
    "#Linear Regression\n",
    "lr=LinearRegression()\n",
    "lr.fit(X_train,y_train)\n",
    "y_pred=lr.predict(X_test)\n",
    "y_pred"
   ]
  },
  {
   "cell_type": "code",
   "execution_count": 20,
   "id": "88e80b8e",
   "metadata": {
    "execution": {
     "iopub.execute_input": "2022-10-21T05:30:08.155582Z",
     "iopub.status.busy": "2022-10-21T05:30:08.154052Z",
     "iopub.status.idle": "2022-10-21T05:30:08.164722Z",
     "shell.execute_reply": "2022-10-21T05:30:08.163296Z"
    },
    "papermill": {
     "duration": 0.055833,
     "end_time": "2022-10-21T05:30:08.168768",
     "exception": false,
     "start_time": "2022-10-21T05:30:08.112935",
     "status": "completed"
    },
    "tags": []
   },
   "outputs": [
    {
     "name": "stdout",
     "output_type": "stream",
     "text": [
      "Accuracy of the linear regression model (R-Square value): 52.42525127119717\n"
     ]
    }
   ],
   "source": [
    "r2=r2_score(y_test,y_pred)\n",
    "print('Accuracy of the linear regression model (R-Square value):',r2*100)"
   ]
  },
  {
   "cell_type": "code",
   "execution_count": 21,
   "id": "fc0ad18f",
   "metadata": {
    "execution": {
     "iopub.execute_input": "2022-10-21T05:30:08.193392Z",
     "iopub.status.busy": "2022-10-21T05:30:08.192960Z",
     "iopub.status.idle": "2022-10-21T05:30:12.903859Z",
     "shell.execute_reply": "2022-10-21T05:30:12.903078Z"
    },
    "papermill": {
     "duration": 4.722318,
     "end_time": "2022-10-21T05:30:12.906184",
     "exception": false,
     "start_time": "2022-10-21T05:30:08.183866",
     "status": "completed"
    },
    "tags": []
   },
   "outputs": [
    {
     "data": {
      "text/plain": [
       "array([  79.286     , 1093.55687143,   94.29      , ...,   36.18      ,\n",
       "         53.798     ,   44.13671429])"
      ]
     },
     "execution_count": 21,
     "metadata": {},
     "output_type": "execute_result"
    }
   ],
   "source": [
    "#Random Forest Regressor \n",
    "rf_model=RandomForestRegressor(n_estimators=100,random_state=80)\n",
    "rf_model.fit(X_train,y_train)\n",
    "y_pred=rf_model.predict(X_test)\n",
    "y_pred"
   ]
  },
  {
   "cell_type": "code",
   "execution_count": 22,
   "id": "5cf38305",
   "metadata": {
    "execution": {
     "iopub.execute_input": "2022-10-21T05:30:12.924593Z",
     "iopub.status.busy": "2022-10-21T05:30:12.923930Z",
     "iopub.status.idle": "2022-10-21T05:30:12.932151Z",
     "shell.execute_reply": "2022-10-21T05:30:12.930921Z"
    },
    "papermill": {
     "duration": 0.020322,
     "end_time": "2022-10-21T05:30:12.934768",
     "exception": false,
     "start_time": "2022-10-21T05:30:12.914446",
     "status": "completed"
    },
    "tags": []
   },
   "outputs": [
    {
     "name": "stdout",
     "output_type": "stream",
     "text": [
      "Accuracy of the random forest regressor model (R-Square value): 92.58180210668158\n"
     ]
    }
   ],
   "source": [
    "r2=r2_score(y_test,y_pred)\n",
    "print('Accuracy of the random forest regressor model (R-Square value):',r2*100)"
   ]
  },
  {
   "cell_type": "code",
   "execution_count": 23,
   "id": "41fa2b63",
   "metadata": {
    "execution": {
     "iopub.execute_input": "2022-10-21T05:30:12.953557Z",
     "iopub.status.busy": "2022-10-21T05:30:12.952764Z",
     "iopub.status.idle": "2022-10-21T05:30:13.039427Z",
     "shell.execute_reply": "2022-10-21T05:30:13.038208Z"
    },
    "papermill": {
     "duration": 0.098468,
     "end_time": "2022-10-21T05:30:13.041878",
     "exception": false,
     "start_time": "2022-10-21T05:30:12.943410",
     "status": "completed"
    },
    "tags": []
   },
   "outputs": [
    {
     "data": {
      "text/plain": [
       "array([  80., 1700.,  100., ...,   30.,   55.,   14.])"
      ]
     },
     "execution_count": 23,
     "metadata": {},
     "output_type": "execute_result"
    }
   ],
   "source": [
    "#Decision Tree Regressor\n",
    "dt=DecisionTreeRegressor()\n",
    "dt.fit(X_train,y_train)\n",
    "y_pred=dt.predict(X_test)\n",
    "y_pred"
   ]
  },
  {
   "cell_type": "code",
   "execution_count": 24,
   "id": "a3fca4c5",
   "metadata": {
    "execution": {
     "iopub.execute_input": "2022-10-21T05:30:13.060639Z",
     "iopub.status.busy": "2022-10-21T05:30:13.060221Z",
     "iopub.status.idle": "2022-10-21T05:30:13.067701Z",
     "shell.execute_reply": "2022-10-21T05:30:13.066346Z"
    },
    "papermill": {
     "duration": 0.019337,
     "end_time": "2022-10-21T05:30:13.069967",
     "exception": false,
     "start_time": "2022-10-21T05:30:13.050630",
     "status": "completed"
    },
    "tags": []
   },
   "outputs": [
    {
     "name": "stdout",
     "output_type": "stream",
     "text": [
      "Accuracy of the linear regression model (R-Square value): 88.10979811672507\n"
     ]
    }
   ],
   "source": [
    "r2=r2_score(y_test,y_pred)\n",
    "print('Accuracy of the linear regression model (R-Square value):',r2*100)"
   ]
  },
  {
   "cell_type": "code",
   "execution_count": null,
   "id": "e4c4b9f2",
   "metadata": {
    "papermill": {
     "duration": 0.007904,
     "end_time": "2022-10-21T05:30:13.086194",
     "exception": false,
     "start_time": "2022-10-21T05:30:13.078290",
     "status": "completed"
    },
    "tags": []
   },
   "outputs": [],
   "source": []
  }
 ],
 "metadata": {
  "kernelspec": {
   "display_name": "Python 3",
   "language": "python",
   "name": "python3"
  },
  "language_info": {
   "codemirror_mode": {
    "name": "ipython",
    "version": 3
   },
   "file_extension": ".py",
   "mimetype": "text/x-python",
   "name": "python",
   "nbconvert_exporter": "python",
   "pygments_lexer": "ipython3",
   "version": "3.7.12"
  },
  "papermill": {
   "default_parameters": {},
   "duration": 16.407016,
   "end_time": "2022-10-21T05:30:13.817297",
   "environment_variables": {},
   "exception": null,
   "input_path": "__notebook__.ipynb",
   "output_path": "__notebook__.ipynb",
   "parameters": {},
   "start_time": "2022-10-21T05:29:57.410281",
   "version": "2.3.4"
  }
 },
 "nbformat": 4,
 "nbformat_minor": 5
}
